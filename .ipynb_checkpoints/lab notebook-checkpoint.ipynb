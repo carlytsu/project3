{
 "cells": [
  {
   "cell_type": "code",
   "execution_count": 117,
   "metadata": {},
   "outputs": [],
   "source": [
    "import pandas as pd\n",
    "import numpy as np\n",
    "import matplotlib.pyplot as plt\n",
    "\n",
    "\n",
    "import warnings\n",
    "import sklearn\n",
    "\n",
    "import plotly.graph_objects as go\n",
    "import plotly.express as px\n",
    "from plotly.subplots import make_subplots\n",
    "\n",
    "import seaborn as sns\n",
    "\n",
    "#to print all output from the cell, not just the last line\n",
    "#from IPython.core.interactiveshell import InteractiveShell\n",
    "\n",
    "\n",
    "from sklearn.model_selection import train_test_split\n",
    "from sklearn.pipeline import Pipeline\n",
    "\n",
    "\n",
    "from sklearn.preprocessing import StandardScaler\n",
    "from sklearn.preprocessing import MinMaxScaler\n",
    "from sklearn.preprocessing import OneHotEncoder\n",
    "\n",
    "from sklearn.compose import ColumnTransformer\n",
    "\n",
    "\n",
    "from sklearn.ensemble import RandomForestRegressor\n",
    "from sklearn.linear_model import LogisticRegression\n",
    "from sklearn import svm\n",
    "from sklearn import tree\n",
    "from sklearn.model_selection import GridSearchCV\n",
    "\n",
    "from sklearn.metrics import accuracy_score\n",
    "from sklearn.metrics import confusion_matrix\n",
    "from sklearn.metrics import classification_report\n",
    "from sklearn.metrics import roc_curve, auc\n",
    "\n",
    "from imblearn.over_sampling import SMOTE\n",
    "\n",
    "#InteractiveShell.ast_node_interactivity = \"all\"\n"
   ]
  },
  {
   "cell_type": "code",
   "execution_count": 25,
   "metadata": {},
   "outputs": [],
   "source": [
    "df = pd.read_csv('data/online_shoppers_intention.csv')"
   ]
  },
  {
   "cell_type": "markdown",
   "metadata": {},
   "source": [
    "### Data Understanding"
   ]
  },
  {
   "cell_type": "code",
   "execution_count": 26,
   "metadata": {},
   "outputs": [
    {
     "name": "stdout",
     "output_type": "stream",
     "text": [
      "<class 'pandas.core.frame.DataFrame'>\n",
      "RangeIndex: 12330 entries, 0 to 12329\n",
      "Data columns (total 18 columns):\n",
      " #   Column                   Non-Null Count  Dtype  \n",
      "---  ------                   --------------  -----  \n",
      " 0   Administrative           12330 non-null  int64  \n",
      " 1   Administrative_Duration  12330 non-null  float64\n",
      " 2   Informational            12330 non-null  int64  \n",
      " 3   Informational_Duration   12330 non-null  float64\n",
      " 4   ProductRelated           12330 non-null  int64  \n",
      " 5   ProductRelated_Duration  12330 non-null  float64\n",
      " 6   BounceRates              12330 non-null  float64\n",
      " 7   ExitRates                12330 non-null  float64\n",
      " 8   PageValues               12330 non-null  float64\n",
      " 9   SpecialDay               12330 non-null  float64\n",
      " 10  Month                    12330 non-null  object \n",
      " 11  OperatingSystems         12330 non-null  int64  \n",
      " 12  Browser                  12330 non-null  int64  \n",
      " 13  Region                   12330 non-null  int64  \n",
      " 14  TrafficType              12330 non-null  int64  \n",
      " 15  VisitorType              12330 non-null  object \n",
      " 16  Weekend                  12330 non-null  bool   \n",
      " 17  Revenue                  12330 non-null  bool   \n",
      "dtypes: bool(2), float64(7), int64(7), object(2)\n",
      "memory usage: 1.5+ MB\n"
     ]
    },
    {
     "data": {
      "text/html": [
       "<div>\n",
       "<style scoped>\n",
       "    .dataframe tbody tr th:only-of-type {\n",
       "        vertical-align: middle;\n",
       "    }\n",
       "\n",
       "    .dataframe tbody tr th {\n",
       "        vertical-align: top;\n",
       "    }\n",
       "\n",
       "    .dataframe thead th {\n",
       "        text-align: right;\n",
       "    }\n",
       "</style>\n",
       "<table border=\"1\" class=\"dataframe\">\n",
       "  <thead>\n",
       "    <tr style=\"text-align: right;\">\n",
       "      <th></th>\n",
       "      <th>Administrative</th>\n",
       "      <th>Administrative_Duration</th>\n",
       "      <th>Informational</th>\n",
       "      <th>Informational_Duration</th>\n",
       "      <th>ProductRelated</th>\n",
       "      <th>ProductRelated_Duration</th>\n",
       "      <th>BounceRates</th>\n",
       "      <th>ExitRates</th>\n",
       "      <th>PageValues</th>\n",
       "      <th>SpecialDay</th>\n",
       "      <th>Month</th>\n",
       "      <th>OperatingSystems</th>\n",
       "      <th>Browser</th>\n",
       "      <th>Region</th>\n",
       "      <th>TrafficType</th>\n",
       "      <th>VisitorType</th>\n",
       "      <th>Weekend</th>\n",
       "      <th>Revenue</th>\n",
       "    </tr>\n",
       "  </thead>\n",
       "  <tbody>\n",
       "    <tr>\n",
       "      <th>0</th>\n",
       "      <td>0</td>\n",
       "      <td>0.0</td>\n",
       "      <td>0</td>\n",
       "      <td>0.0</td>\n",
       "      <td>1</td>\n",
       "      <td>0.000000</td>\n",
       "      <td>0.20</td>\n",
       "      <td>0.20</td>\n",
       "      <td>0.0</td>\n",
       "      <td>0.0</td>\n",
       "      <td>Feb</td>\n",
       "      <td>1</td>\n",
       "      <td>1</td>\n",
       "      <td>1</td>\n",
       "      <td>1</td>\n",
       "      <td>Returning_Visitor</td>\n",
       "      <td>False</td>\n",
       "      <td>False</td>\n",
       "    </tr>\n",
       "    <tr>\n",
       "      <th>1</th>\n",
       "      <td>0</td>\n",
       "      <td>0.0</td>\n",
       "      <td>0</td>\n",
       "      <td>0.0</td>\n",
       "      <td>2</td>\n",
       "      <td>64.000000</td>\n",
       "      <td>0.00</td>\n",
       "      <td>0.10</td>\n",
       "      <td>0.0</td>\n",
       "      <td>0.0</td>\n",
       "      <td>Feb</td>\n",
       "      <td>2</td>\n",
       "      <td>2</td>\n",
       "      <td>1</td>\n",
       "      <td>2</td>\n",
       "      <td>Returning_Visitor</td>\n",
       "      <td>False</td>\n",
       "      <td>False</td>\n",
       "    </tr>\n",
       "    <tr>\n",
       "      <th>2</th>\n",
       "      <td>0</td>\n",
       "      <td>0.0</td>\n",
       "      <td>0</td>\n",
       "      <td>0.0</td>\n",
       "      <td>1</td>\n",
       "      <td>0.000000</td>\n",
       "      <td>0.20</td>\n",
       "      <td>0.20</td>\n",
       "      <td>0.0</td>\n",
       "      <td>0.0</td>\n",
       "      <td>Feb</td>\n",
       "      <td>4</td>\n",
       "      <td>1</td>\n",
       "      <td>9</td>\n",
       "      <td>3</td>\n",
       "      <td>Returning_Visitor</td>\n",
       "      <td>False</td>\n",
       "      <td>False</td>\n",
       "    </tr>\n",
       "    <tr>\n",
       "      <th>3</th>\n",
       "      <td>0</td>\n",
       "      <td>0.0</td>\n",
       "      <td>0</td>\n",
       "      <td>0.0</td>\n",
       "      <td>2</td>\n",
       "      <td>2.666667</td>\n",
       "      <td>0.05</td>\n",
       "      <td>0.14</td>\n",
       "      <td>0.0</td>\n",
       "      <td>0.0</td>\n",
       "      <td>Feb</td>\n",
       "      <td>3</td>\n",
       "      <td>2</td>\n",
       "      <td>2</td>\n",
       "      <td>4</td>\n",
       "      <td>Returning_Visitor</td>\n",
       "      <td>False</td>\n",
       "      <td>False</td>\n",
       "    </tr>\n",
       "    <tr>\n",
       "      <th>4</th>\n",
       "      <td>0</td>\n",
       "      <td>0.0</td>\n",
       "      <td>0</td>\n",
       "      <td>0.0</td>\n",
       "      <td>10</td>\n",
       "      <td>627.500000</td>\n",
       "      <td>0.02</td>\n",
       "      <td>0.05</td>\n",
       "      <td>0.0</td>\n",
       "      <td>0.0</td>\n",
       "      <td>Feb</td>\n",
       "      <td>3</td>\n",
       "      <td>3</td>\n",
       "      <td>1</td>\n",
       "      <td>4</td>\n",
       "      <td>Returning_Visitor</td>\n",
       "      <td>True</td>\n",
       "      <td>False</td>\n",
       "    </tr>\n",
       "  </tbody>\n",
       "</table>\n",
       "</div>"
      ],
      "text/plain": [
       "   Administrative  Administrative_Duration  Informational  \\\n",
       "0               0                      0.0              0   \n",
       "1               0                      0.0              0   \n",
       "2               0                      0.0              0   \n",
       "3               0                      0.0              0   \n",
       "4               0                      0.0              0   \n",
       "\n",
       "   Informational_Duration  ProductRelated  ProductRelated_Duration  \\\n",
       "0                     0.0               1                 0.000000   \n",
       "1                     0.0               2                64.000000   \n",
       "2                     0.0               1                 0.000000   \n",
       "3                     0.0               2                 2.666667   \n",
       "4                     0.0              10               627.500000   \n",
       "\n",
       "   BounceRates  ExitRates  PageValues  SpecialDay Month  OperatingSystems  \\\n",
       "0         0.20       0.20         0.0         0.0   Feb                 1   \n",
       "1         0.00       0.10         0.0         0.0   Feb                 2   \n",
       "2         0.20       0.20         0.0         0.0   Feb                 4   \n",
       "3         0.05       0.14         0.0         0.0   Feb                 3   \n",
       "4         0.02       0.05         0.0         0.0   Feb                 3   \n",
       "\n",
       "   Browser  Region  TrafficType        VisitorType  Weekend  Revenue  \n",
       "0        1       1            1  Returning_Visitor    False    False  \n",
       "1        2       1            2  Returning_Visitor    False    False  \n",
       "2        1       9            3  Returning_Visitor    False    False  \n",
       "3        2       2            4  Returning_Visitor    False    False  \n",
       "4        3       1            4  Returning_Visitor     True    False  "
      ]
     },
     "execution_count": 26,
     "metadata": {},
     "output_type": "execute_result"
    }
   ],
   "source": [
    "df.info()\n",
    "df.head()"
   ]
  },
  {
   "cell_type": "code",
   "execution_count": 27,
   "metadata": {},
   "outputs": [
    {
     "name": "stdout",
     "output_type": "stream",
     "text": [
      "Administrative:\n",
      "count    12330.000000\n",
      "mean         2.315166\n",
      "std          3.321784\n",
      "min          0.000000\n",
      "25%          0.000000\n",
      "50%          1.000000\n",
      "75%          4.000000\n",
      "max         27.000000\n",
      "Name: Administrative, dtype: float64\n",
      "\n",
      "Administrative_Duration:\n",
      "count    12330.000000\n",
      "mean        80.818611\n",
      "std        176.779107\n",
      "min          0.000000\n",
      "25%          0.000000\n",
      "50%          7.500000\n",
      "75%         93.256250\n",
      "max       3398.750000\n",
      "Name: Administrative_Duration, dtype: float64\n",
      "\n",
      "Informational:\n",
      "count    12330.000000\n",
      "mean         0.503569\n",
      "std          1.270156\n",
      "min          0.000000\n",
      "25%          0.000000\n",
      "50%          0.000000\n",
      "75%          0.000000\n",
      "max         24.000000\n",
      "Name: Informational, dtype: float64\n",
      "\n",
      "Informational_Duration:\n",
      "count    12330.000000\n",
      "mean        34.472398\n",
      "std        140.749294\n",
      "min          0.000000\n",
      "25%          0.000000\n",
      "50%          0.000000\n",
      "75%          0.000000\n",
      "max       2549.375000\n",
      "Name: Informational_Duration, dtype: float64\n",
      "\n",
      "ProductRelated:\n",
      "count    12330.000000\n",
      "mean        31.731468\n",
      "std         44.475503\n",
      "min          0.000000\n",
      "25%          7.000000\n",
      "50%         18.000000\n",
      "75%         38.000000\n",
      "max        705.000000\n",
      "Name: ProductRelated, dtype: float64\n",
      "\n",
      "ProductRelated_Duration:\n",
      "count    12330.000000\n",
      "mean      1194.746220\n",
      "std       1913.669288\n",
      "min          0.000000\n",
      "25%        184.137500\n",
      "50%        598.936905\n",
      "75%       1464.157213\n",
      "max      63973.522230\n",
      "Name: ProductRelated_Duration, dtype: float64\n",
      "\n",
      "BounceRates:\n",
      "count    12330.000000\n",
      "mean         0.022191\n",
      "std          0.048488\n",
      "min          0.000000\n",
      "25%          0.000000\n",
      "50%          0.003112\n",
      "75%          0.016813\n",
      "max          0.200000\n",
      "Name: BounceRates, dtype: float64\n",
      "\n",
      "ExitRates:\n",
      "count    12330.000000\n",
      "mean         0.043073\n",
      "std          0.048597\n",
      "min          0.000000\n",
      "25%          0.014286\n",
      "50%          0.025156\n",
      "75%          0.050000\n",
      "max          0.200000\n",
      "Name: ExitRates, dtype: float64\n",
      "\n",
      "PageValues:\n",
      "count    12330.000000\n",
      "mean         5.889258\n",
      "std         18.568437\n",
      "min          0.000000\n",
      "25%          0.000000\n",
      "50%          0.000000\n",
      "75%          0.000000\n",
      "max        361.763742\n",
      "Name: PageValues, dtype: float64\n",
      "\n",
      "SpecialDay:\n",
      "count    12330.000000\n",
      "mean         0.061427\n",
      "std          0.198917\n",
      "min          0.000000\n",
      "25%          0.000000\n",
      "50%          0.000000\n",
      "75%          0.000000\n",
      "max          1.000000\n",
      "Name: SpecialDay, dtype: float64\n",
      "\n",
      "Month:\n",
      "count     12330\n",
      "unique       10\n",
      "top         May\n",
      "freq       3364\n",
      "Name: Month, dtype: object\n",
      "\n",
      "OperatingSystems:\n",
      "count    12330.000000\n",
      "mean         2.124006\n",
      "std          0.911325\n",
      "min          1.000000\n",
      "25%          2.000000\n",
      "50%          2.000000\n",
      "75%          3.000000\n",
      "max          8.000000\n",
      "Name: OperatingSystems, dtype: float64\n",
      "\n",
      "Browser:\n",
      "count    12330.000000\n",
      "mean         2.357097\n",
      "std          1.717277\n",
      "min          1.000000\n",
      "25%          2.000000\n",
      "50%          2.000000\n",
      "75%          2.000000\n",
      "max         13.000000\n",
      "Name: Browser, dtype: float64\n",
      "\n",
      "Region:\n",
      "count    12330.000000\n",
      "mean         3.147364\n",
      "std          2.401591\n",
      "min          1.000000\n",
      "25%          1.000000\n",
      "50%          3.000000\n",
      "75%          4.000000\n",
      "max          9.000000\n",
      "Name: Region, dtype: float64\n",
      "\n",
      "TrafficType:\n",
      "count    12330.000000\n",
      "mean         4.069586\n",
      "std          4.025169\n",
      "min          1.000000\n",
      "25%          2.000000\n",
      "50%          2.000000\n",
      "75%          4.000000\n",
      "max         20.000000\n",
      "Name: TrafficType, dtype: float64\n",
      "\n",
      "VisitorType:\n",
      "count                 12330\n",
      "unique                    3\n",
      "top       Returning_Visitor\n",
      "freq                  10551\n",
      "Name: VisitorType, dtype: object\n",
      "\n",
      "Weekend:\n",
      "count     12330\n",
      "unique        2\n",
      "top       False\n",
      "freq       9462\n",
      "Name: Weekend, dtype: object\n",
      "\n",
      "Revenue:\n",
      "count     12330\n",
      "unique        2\n",
      "top       False\n",
      "freq      10422\n",
      "Name: Revenue, dtype: object\n",
      "\n"
     ]
    }
   ],
   "source": [
    "for each in df.columns:\n",
    "    print(each + \":\")\n",
    "    print(df[each].describe(), end='\\n\\n')"
   ]
  },
  {
   "cell_type": "markdown",
   "metadata": {},
   "source": [
    "Add features\n",
    "* total pages\n",
    "* total duration\n",
    "* bounce\n"
   ]
  },
  {
   "cell_type": "code",
   "execution_count": 28,
   "metadata": {},
   "outputs": [],
   "source": [
    "df['Total_Pages'] = df.apply(lambda row: row.Administrative + row.Informational + row.ProductRelated, axis=1)\n",
    "df['Total_Duration'] = df.apply(lambda row: row.Administrative_Duration + row.Informational_Duration + row.ProductRelated_Duration, axis=1)"
   ]
  },
  {
   "cell_type": "code",
   "execution_count": 29,
   "metadata": {},
   "outputs": [],
   "source": [
    "df.head()\n",
    "cols = df.columns.tolist()"
   ]
  },
  {
   "cell_type": "code",
   "execution_count": 30,
   "metadata": {},
   "outputs": [
    {
     "data": {
      "text/html": [
       "<div>\n",
       "<style scoped>\n",
       "    .dataframe tbody tr th:only-of-type {\n",
       "        vertical-align: middle;\n",
       "    }\n",
       "\n",
       "    .dataframe tbody tr th {\n",
       "        vertical-align: top;\n",
       "    }\n",
       "\n",
       "    .dataframe thead th {\n",
       "        text-align: right;\n",
       "    }\n",
       "</style>\n",
       "<table border=\"1\" class=\"dataframe\">\n",
       "  <thead>\n",
       "    <tr style=\"text-align: right;\">\n",
       "      <th></th>\n",
       "      <th>Administrative</th>\n",
       "      <th>Administrative_Duration</th>\n",
       "      <th>Informational</th>\n",
       "      <th>Informational_Duration</th>\n",
       "      <th>ProductRelated</th>\n",
       "      <th>ProductRelated_Duration</th>\n",
       "      <th>Total_Pages</th>\n",
       "      <th>Total_Duration</th>\n",
       "      <th>BounceRates</th>\n",
       "      <th>ExitRates</th>\n",
       "      <th>PageValues</th>\n",
       "      <th>SpecialDay</th>\n",
       "      <th>Month</th>\n",
       "      <th>OperatingSystems</th>\n",
       "      <th>Browser</th>\n",
       "      <th>Region</th>\n",
       "      <th>TrafficType</th>\n",
       "      <th>VisitorType</th>\n",
       "      <th>Weekend</th>\n",
       "      <th>Revenue</th>\n",
       "    </tr>\n",
       "  </thead>\n",
       "  <tbody>\n",
       "    <tr>\n",
       "      <th>0</th>\n",
       "      <td>0</td>\n",
       "      <td>0.0</td>\n",
       "      <td>0</td>\n",
       "      <td>0.0</td>\n",
       "      <td>1</td>\n",
       "      <td>0.000000</td>\n",
       "      <td>1</td>\n",
       "      <td>0.000000</td>\n",
       "      <td>0.20</td>\n",
       "      <td>0.20</td>\n",
       "      <td>0.0</td>\n",
       "      <td>0.0</td>\n",
       "      <td>Feb</td>\n",
       "      <td>1</td>\n",
       "      <td>1</td>\n",
       "      <td>1</td>\n",
       "      <td>1</td>\n",
       "      <td>Returning_Visitor</td>\n",
       "      <td>False</td>\n",
       "      <td>False</td>\n",
       "    </tr>\n",
       "    <tr>\n",
       "      <th>1</th>\n",
       "      <td>0</td>\n",
       "      <td>0.0</td>\n",
       "      <td>0</td>\n",
       "      <td>0.0</td>\n",
       "      <td>2</td>\n",
       "      <td>64.000000</td>\n",
       "      <td>2</td>\n",
       "      <td>64.000000</td>\n",
       "      <td>0.00</td>\n",
       "      <td>0.10</td>\n",
       "      <td>0.0</td>\n",
       "      <td>0.0</td>\n",
       "      <td>Feb</td>\n",
       "      <td>2</td>\n",
       "      <td>2</td>\n",
       "      <td>1</td>\n",
       "      <td>2</td>\n",
       "      <td>Returning_Visitor</td>\n",
       "      <td>False</td>\n",
       "      <td>False</td>\n",
       "    </tr>\n",
       "    <tr>\n",
       "      <th>2</th>\n",
       "      <td>0</td>\n",
       "      <td>0.0</td>\n",
       "      <td>0</td>\n",
       "      <td>0.0</td>\n",
       "      <td>1</td>\n",
       "      <td>0.000000</td>\n",
       "      <td>1</td>\n",
       "      <td>0.000000</td>\n",
       "      <td>0.20</td>\n",
       "      <td>0.20</td>\n",
       "      <td>0.0</td>\n",
       "      <td>0.0</td>\n",
       "      <td>Feb</td>\n",
       "      <td>4</td>\n",
       "      <td>1</td>\n",
       "      <td>9</td>\n",
       "      <td>3</td>\n",
       "      <td>Returning_Visitor</td>\n",
       "      <td>False</td>\n",
       "      <td>False</td>\n",
       "    </tr>\n",
       "    <tr>\n",
       "      <th>3</th>\n",
       "      <td>0</td>\n",
       "      <td>0.0</td>\n",
       "      <td>0</td>\n",
       "      <td>0.0</td>\n",
       "      <td>2</td>\n",
       "      <td>2.666667</td>\n",
       "      <td>2</td>\n",
       "      <td>2.666667</td>\n",
       "      <td>0.05</td>\n",
       "      <td>0.14</td>\n",
       "      <td>0.0</td>\n",
       "      <td>0.0</td>\n",
       "      <td>Feb</td>\n",
       "      <td>3</td>\n",
       "      <td>2</td>\n",
       "      <td>2</td>\n",
       "      <td>4</td>\n",
       "      <td>Returning_Visitor</td>\n",
       "      <td>False</td>\n",
       "      <td>False</td>\n",
       "    </tr>\n",
       "    <tr>\n",
       "      <th>4</th>\n",
       "      <td>0</td>\n",
       "      <td>0.0</td>\n",
       "      <td>0</td>\n",
       "      <td>0.0</td>\n",
       "      <td>10</td>\n",
       "      <td>627.500000</td>\n",
       "      <td>10</td>\n",
       "      <td>627.500000</td>\n",
       "      <td>0.02</td>\n",
       "      <td>0.05</td>\n",
       "      <td>0.0</td>\n",
       "      <td>0.0</td>\n",
       "      <td>Feb</td>\n",
       "      <td>3</td>\n",
       "      <td>3</td>\n",
       "      <td>1</td>\n",
       "      <td>4</td>\n",
       "      <td>Returning_Visitor</td>\n",
       "      <td>True</td>\n",
       "      <td>False</td>\n",
       "    </tr>\n",
       "  </tbody>\n",
       "</table>\n",
       "</div>"
      ],
      "text/plain": [
       "   Administrative  Administrative_Duration  Informational  \\\n",
       "0               0                      0.0              0   \n",
       "1               0                      0.0              0   \n",
       "2               0                      0.0              0   \n",
       "3               0                      0.0              0   \n",
       "4               0                      0.0              0   \n",
       "\n",
       "   Informational_Duration  ProductRelated  ProductRelated_Duration  \\\n",
       "0                     0.0               1                 0.000000   \n",
       "1                     0.0               2                64.000000   \n",
       "2                     0.0               1                 0.000000   \n",
       "3                     0.0               2                 2.666667   \n",
       "4                     0.0              10               627.500000   \n",
       "\n",
       "   Total_Pages  Total_Duration  BounceRates  ExitRates  PageValues  \\\n",
       "0            1        0.000000         0.20       0.20         0.0   \n",
       "1            2       64.000000         0.00       0.10         0.0   \n",
       "2            1        0.000000         0.20       0.20         0.0   \n",
       "3            2        2.666667         0.05       0.14         0.0   \n",
       "4           10      627.500000         0.02       0.05         0.0   \n",
       "\n",
       "   SpecialDay Month  OperatingSystems  Browser  Region  TrafficType  \\\n",
       "0         0.0   Feb                 1        1       1            1   \n",
       "1         0.0   Feb                 2        2       1            2   \n",
       "2         0.0   Feb                 4        1       9            3   \n",
       "3         0.0   Feb                 3        2       2            4   \n",
       "4         0.0   Feb                 3        3       1            4   \n",
       "\n",
       "         VisitorType  Weekend  Revenue  \n",
       "0  Returning_Visitor    False    False  \n",
       "1  Returning_Visitor    False    False  \n",
       "2  Returning_Visitor    False    False  \n",
       "3  Returning_Visitor    False    False  \n",
       "4  Returning_Visitor     True    False  "
      ]
     },
     "execution_count": 30,
     "metadata": {},
     "output_type": "execute_result"
    }
   ],
   "source": [
    "new_cols = cols[:6] + cols[-2:] + cols[6:-2]\n",
    "\n",
    "df = df[new_cols]\n",
    "df.head()"
   ]
  },
  {
   "cell_type": "code",
   "execution_count": 31,
   "metadata": {},
   "outputs": [
    {
     "data": {
      "text/html": [
       "<div>\n",
       "<style scoped>\n",
       "    .dataframe tbody tr th:only-of-type {\n",
       "        vertical-align: middle;\n",
       "    }\n",
       "\n",
       "    .dataframe tbody tr th {\n",
       "        vertical-align: top;\n",
       "    }\n",
       "\n",
       "    .dataframe thead th {\n",
       "        text-align: right;\n",
       "    }\n",
       "</style>\n",
       "<table border=\"1\" class=\"dataframe\">\n",
       "  <thead>\n",
       "    <tr style=\"text-align: right;\">\n",
       "      <th></th>\n",
       "      <th>Administrative</th>\n",
       "      <th>Administrative_Duration</th>\n",
       "      <th>Informational</th>\n",
       "      <th>Informational_Duration</th>\n",
       "      <th>ProductRelated</th>\n",
       "      <th>ProductRelated_Duration</th>\n",
       "      <th>Total_Pages</th>\n",
       "      <th>Total_Duration</th>\n",
       "      <th>BounceRates</th>\n",
       "      <th>ExitRates</th>\n",
       "      <th>PageValues</th>\n",
       "      <th>SpecialDay</th>\n",
       "      <th>Month</th>\n",
       "      <th>OperatingSystems</th>\n",
       "      <th>Browser</th>\n",
       "      <th>Region</th>\n",
       "      <th>TrafficType</th>\n",
       "      <th>VisitorType</th>\n",
       "      <th>Weekend</th>\n",
       "      <th>Revenue</th>\n",
       "    </tr>\n",
       "  </thead>\n",
       "  <tbody>\n",
       "    <tr>\n",
       "      <th>0</th>\n",
       "      <td>0</td>\n",
       "      <td>0.0</td>\n",
       "      <td>0</td>\n",
       "      <td>0.0</td>\n",
       "      <td>1</td>\n",
       "      <td>0.000000</td>\n",
       "      <td>1</td>\n",
       "      <td>0.000000</td>\n",
       "      <td>0.20</td>\n",
       "      <td>0.20</td>\n",
       "      <td>0.0</td>\n",
       "      <td>0.0</td>\n",
       "      <td>Feb</td>\n",
       "      <td>1</td>\n",
       "      <td>1</td>\n",
       "      <td>1</td>\n",
       "      <td>1</td>\n",
       "      <td>Returning_Visitor</td>\n",
       "      <td>0</td>\n",
       "      <td>False</td>\n",
       "    </tr>\n",
       "    <tr>\n",
       "      <th>1</th>\n",
       "      <td>0</td>\n",
       "      <td>0.0</td>\n",
       "      <td>0</td>\n",
       "      <td>0.0</td>\n",
       "      <td>2</td>\n",
       "      <td>64.000000</td>\n",
       "      <td>2</td>\n",
       "      <td>64.000000</td>\n",
       "      <td>0.00</td>\n",
       "      <td>0.10</td>\n",
       "      <td>0.0</td>\n",
       "      <td>0.0</td>\n",
       "      <td>Feb</td>\n",
       "      <td>2</td>\n",
       "      <td>2</td>\n",
       "      <td>1</td>\n",
       "      <td>2</td>\n",
       "      <td>Returning_Visitor</td>\n",
       "      <td>0</td>\n",
       "      <td>False</td>\n",
       "    </tr>\n",
       "    <tr>\n",
       "      <th>2</th>\n",
       "      <td>0</td>\n",
       "      <td>0.0</td>\n",
       "      <td>0</td>\n",
       "      <td>0.0</td>\n",
       "      <td>1</td>\n",
       "      <td>0.000000</td>\n",
       "      <td>1</td>\n",
       "      <td>0.000000</td>\n",
       "      <td>0.20</td>\n",
       "      <td>0.20</td>\n",
       "      <td>0.0</td>\n",
       "      <td>0.0</td>\n",
       "      <td>Feb</td>\n",
       "      <td>4</td>\n",
       "      <td>1</td>\n",
       "      <td>9</td>\n",
       "      <td>3</td>\n",
       "      <td>Returning_Visitor</td>\n",
       "      <td>0</td>\n",
       "      <td>False</td>\n",
       "    </tr>\n",
       "    <tr>\n",
       "      <th>3</th>\n",
       "      <td>0</td>\n",
       "      <td>0.0</td>\n",
       "      <td>0</td>\n",
       "      <td>0.0</td>\n",
       "      <td>2</td>\n",
       "      <td>2.666667</td>\n",
       "      <td>2</td>\n",
       "      <td>2.666667</td>\n",
       "      <td>0.05</td>\n",
       "      <td>0.14</td>\n",
       "      <td>0.0</td>\n",
       "      <td>0.0</td>\n",
       "      <td>Feb</td>\n",
       "      <td>3</td>\n",
       "      <td>2</td>\n",
       "      <td>2</td>\n",
       "      <td>4</td>\n",
       "      <td>Returning_Visitor</td>\n",
       "      <td>0</td>\n",
       "      <td>False</td>\n",
       "    </tr>\n",
       "    <tr>\n",
       "      <th>4</th>\n",
       "      <td>0</td>\n",
       "      <td>0.0</td>\n",
       "      <td>0</td>\n",
       "      <td>0.0</td>\n",
       "      <td>10</td>\n",
       "      <td>627.500000</td>\n",
       "      <td>10</td>\n",
       "      <td>627.500000</td>\n",
       "      <td>0.02</td>\n",
       "      <td>0.05</td>\n",
       "      <td>0.0</td>\n",
       "      <td>0.0</td>\n",
       "      <td>Feb</td>\n",
       "      <td>3</td>\n",
       "      <td>3</td>\n",
       "      <td>1</td>\n",
       "      <td>4</td>\n",
       "      <td>Returning_Visitor</td>\n",
       "      <td>1</td>\n",
       "      <td>False</td>\n",
       "    </tr>\n",
       "  </tbody>\n",
       "</table>\n",
       "</div>"
      ],
      "text/plain": [
       "   Administrative  Administrative_Duration  Informational  \\\n",
       "0               0                      0.0              0   \n",
       "1               0                      0.0              0   \n",
       "2               0                      0.0              0   \n",
       "3               0                      0.0              0   \n",
       "4               0                      0.0              0   \n",
       "\n",
       "   Informational_Duration  ProductRelated  ProductRelated_Duration  \\\n",
       "0                     0.0               1                 0.000000   \n",
       "1                     0.0               2                64.000000   \n",
       "2                     0.0               1                 0.000000   \n",
       "3                     0.0               2                 2.666667   \n",
       "4                     0.0              10               627.500000   \n",
       "\n",
       "   Total_Pages  Total_Duration  BounceRates  ExitRates  PageValues  \\\n",
       "0            1        0.000000         0.20       0.20         0.0   \n",
       "1            2       64.000000         0.00       0.10         0.0   \n",
       "2            1        0.000000         0.20       0.20         0.0   \n",
       "3            2        2.666667         0.05       0.14         0.0   \n",
       "4           10      627.500000         0.02       0.05         0.0   \n",
       "\n",
       "   SpecialDay Month  OperatingSystems  Browser  Region  TrafficType  \\\n",
       "0         0.0   Feb                 1        1       1            1   \n",
       "1         0.0   Feb                 2        2       1            2   \n",
       "2         0.0   Feb                 4        1       9            3   \n",
       "3         0.0   Feb                 3        2       2            4   \n",
       "4         0.0   Feb                 3        3       1            4   \n",
       "\n",
       "         VisitorType  Weekend  Revenue  \n",
       "0  Returning_Visitor        0    False  \n",
       "1  Returning_Visitor        0    False  \n",
       "2  Returning_Visitor        0    False  \n",
       "3  Returning_Visitor        0    False  \n",
       "4  Returning_Visitor        1    False  "
      ]
     },
     "execution_count": 31,
     "metadata": {},
     "output_type": "execute_result"
    }
   ],
   "source": [
    "df['Weekend'] = df['Weekend'].astype(int)\n",
    "df.head()"
   ]
  },
  {
   "cell_type": "code",
   "execution_count": 32,
   "metadata": {},
   "outputs": [
    {
     "data": {
      "image/png": "[encoded data removed]",
      "text/plain": [
       "<Figure size 432x288 with 1 Axes>"
      ]
     },
     "metadata": {
      "needs_background": "light"
     },
     "output_type": "display_data"
    }
   ],
   "source": [
    "df.groupby(['Month'])['Revenue'].sum().plot(kind='bar', legend=True)\n",
    "plt.show()"
   ]
  },
  {
   "cell_type": "code",
   "execution_count": 33,
   "metadata": {},
   "outputs": [
    {
     "data": {
      "text/plain": [
       "['Administrative',\n",
       " 'Administrative_Duration',\n",
       " 'Informational',\n",
       " 'Informational_Duration',\n",
       " 'ProductRelated',\n",
       " 'ProductRelated_Duration',\n",
       " 'Total_Pages',\n",
       " 'Total_Duration',\n",
       " 'BounceRates',\n",
       " 'ExitRates',\n",
       " 'PageValues',\n",
       " 'SpecialDay']"
      ]
     },
     "execution_count": 33,
     "metadata": {},
     "output_type": "execute_result"
    }
   ],
   "source": [
    "categorical_feats = df.columns.tolist()[12:-1]\n",
    "categorical_feats\n",
    "numerical_feats = df.columns.tolist()[:12]\n",
    "numerical_feats"
   ]
  },
  {
   "cell_type": "code",
   "execution_count": 34,
   "metadata": {
    "scrolled": false
   },
   "outputs": [],
   "source": [
    "# for each in categorical_feats:\n",
    "#     fig = px.histogram(df, x=each, color='Revenue', )\n",
    "#     fig.show()"
   ]
  },
  {
   "cell_type": "code",
   "execution_count": 35,
   "metadata": {},
   "outputs": [
    {
     "data": {
      "text/plain": [
       "0        1\n",
       "1        1\n",
       "2        1\n",
       "3        1\n",
       "4        1\n",
       "        ..\n",
       "12325    1\n",
       "12326    1\n",
       "12327    1\n",
       "12328    1\n",
       "12329    1\n",
       "Name: Revenue, Length: 12330, dtype: int32"
      ]
     },
     "execution_count": 35,
     "metadata": {},
     "output_type": "execute_result"
    }
   ],
   "source": [
    "(df['Revenue']==0).astype(int)"
   ]
  },
  {
   "cell_type": "code",
   "execution_count": 36,
   "metadata": {
    "scrolled": false
   },
   "outputs": [],
   "source": [
    "# df[\"Invert_Revenue\"] = (df['Revenue']==0).astype(int)\n",
    "\n",
    "# for each in categorical_feats:\n",
    "#     categories = df[each].unique().tolist()\n",
    "#     categories.sort    \n",
    "#     sales = df.groupby(each)['Revenue'].sum().tolist()\n",
    "#     passes = df.groupby(each)['Invert_Revenue'].sum().tolist()\n",
    "\n",
    "#     fig = go.Figure()\n",
    "#     fig.add_bar(x=categories, y=passes, name='No Sale').add_bar(x=categories, y=sales, name='Sale').update_layout(title_text = each, barmode='stack')\n"
   ]
  },
  {
   "cell_type": "code",
   "execution_count": 37,
   "metadata": {
    "scrolled": false
   },
   "outputs": [],
   "source": [
    "# for each in categorical_feats:\n",
    "#     categories = df[each].unique().tolist()\n",
    "#     categories.sort()\n",
    "\n",
    "#     total = df.groupby(each)['Revenue'].count().tolist()\n",
    "#     sales = df.groupby(each)['Revenue'].sum().tolist()\n",
    "#     passes = df.groupby(each)['Invert_Revenue'].sum().tolist()\n",
    "#     sale_percent = []\n",
    "#     pass_percent = []\n",
    "#     for idx, category in enumerate(categories):\n",
    "#         sale_percent.append(sales[idx] / total[idx] *100)\n",
    "#         pass_percent.append(passes[idx]/total[idx] * 100)\n",
    "\n",
    "#     fig = go.Figure()\n",
    "#     fig.add_bar(x=categories, y=pass_percent, name='No Sale').add_bar(x=categories, y=sale_percent, name='Sale').update_layout(title_text = each, barmode='stack')"
   ]
  },
  {
   "cell_type": "code",
   "execution_count": 38,
   "metadata": {
    "scrolled": false
   },
   "outputs": [],
   "source": [
    "# for each in numerical_feats:\n",
    "#     fig = px.scatter(df, x=each, y='Revenue')\n",
    "#     fig.show()"
   ]
  },
  {
   "cell_type": "code",
   "execution_count": 39,
   "metadata": {
    "scrolled": true
   },
   "outputs": [],
   "source": [
    "#  for each in numerical_feats:\n",
    "#      fig = px.scatter(df, x=each, y='Total_Duration', color='Revenue')\n",
    "#      fig.show()"
   ]
  },
  {
   "cell_type": "markdown",
   "metadata": {},
   "source": [
    "Do the google analytics change over the course of the year?"
   ]
  },
  {
   "cell_type": "code",
   "execution_count": 40,
   "metadata": {},
   "outputs": [
    {
     "data": {
      "text/html": [
       "<div>\n",
       "<style scoped>\n",
       "    .dataframe tbody tr th:only-of-type {\n",
       "        vertical-align: middle;\n",
       "    }\n",
       "\n",
       "    .dataframe tbody tr th {\n",
       "        vertical-align: top;\n",
       "    }\n",
       "\n",
       "    .dataframe thead th {\n",
       "        text-align: right;\n",
       "    }\n",
       "</style>\n",
       "<table border=\"1\" class=\"dataframe\">\n",
       "  <thead>\n",
       "    <tr style=\"text-align: right;\">\n",
       "      <th></th>\n",
       "      <th>BounceRates</th>\n",
       "      <th>ExitRates</th>\n",
       "      <th>PageValues</th>\n",
       "    </tr>\n",
       "  </thead>\n",
       "  <tbody>\n",
       "    <tr>\n",
       "      <th>count</th>\n",
       "      <td>1727.000000</td>\n",
       "      <td>1727.000000</td>\n",
       "      <td>1727.000000</td>\n",
       "    </tr>\n",
       "    <tr>\n",
       "      <th>mean</th>\n",
       "      <td>0.020149</td>\n",
       "      <td>0.041303</td>\n",
       "      <td>6.833243</td>\n",
       "    </tr>\n",
       "    <tr>\n",
       "      <th>std</th>\n",
       "      <td>0.047736</td>\n",
       "      <td>0.047152</td>\n",
       "      <td>22.939978</td>\n",
       "    </tr>\n",
       "    <tr>\n",
       "      <th>min</th>\n",
       "      <td>0.000000</td>\n",
       "      <td>0.000505</td>\n",
       "      <td>0.000000</td>\n",
       "    </tr>\n",
       "    <tr>\n",
       "      <th>25%</th>\n",
       "      <td>0.000000</td>\n",
       "      <td>0.014675</td>\n",
       "      <td>0.000000</td>\n",
       "    </tr>\n",
       "    <tr>\n",
       "      <th>50%</th>\n",
       "      <td>0.001449</td>\n",
       "      <td>0.025000</td>\n",
       "      <td>0.000000</td>\n",
       "    </tr>\n",
       "    <tr>\n",
       "      <th>75%</th>\n",
       "      <td>0.014039</td>\n",
       "      <td>0.044623</td>\n",
       "      <td>0.000000</td>\n",
       "    </tr>\n",
       "    <tr>\n",
       "      <th>max</th>\n",
       "      <td>0.200000</td>\n",
       "      <td>0.200000</td>\n",
       "      <td>360.953384</td>\n",
       "    </tr>\n",
       "  </tbody>\n",
       "</table>\n",
       "</div>"
      ],
      "text/plain": [
       "       BounceRates    ExitRates   PageValues\n",
       "count  1727.000000  1727.000000  1727.000000\n",
       "mean      0.020149     0.041303     6.833243\n",
       "std       0.047736     0.047152    22.939978\n",
       "min       0.000000     0.000505     0.000000\n",
       "25%       0.000000     0.014675     0.000000\n",
       "50%       0.001449     0.025000     0.000000\n",
       "75%       0.014039     0.044623     0.000000\n",
       "max       0.200000     0.200000   360.953384"
      ]
     },
     "execution_count": 40,
     "metadata": {},
     "output_type": "execute_result"
    }
   ],
   "source": [
    "ga_stats = ['BounceRates','ExitRates','PageValues']\n",
    "\n",
    "df_feb = df[ga_stats].loc[df['Month'] == 'Feb']\n",
    "df_aug = df[ga_stats].loc[df['Month'] == 'Aug']\n",
    "df_dec = df[ga_stats].loc[df['Month'] == 'Dec']\n",
    "\n",
    "df_feb.describe()\n",
    "df_aug.describe()\n",
    "df_dec.describe()"
   ]
  },
  {
   "cell_type": "code",
   "execution_count": 41,
   "metadata": {
    "scrolled": true
   },
   "outputs": [],
   "source": [
    "\n",
    "# fig = make_subplots(rows=3, cols=1)\n",
    "\n",
    "# fig.append_trace(go.Scatter(\n",
    "#     x = df[\"Month\"], y=df[\"BounceRates\"],\n",
    "#     name='Bounce Rates',\n",
    "#     mode='markers',\n",
    "#     marker_color='blue'\n",
    "# ), row=1, col=1)\n",
    "\n",
    "# fig.append_trace(go.Scatter(\n",
    "#     x = df[\"Month\"], y=df[\"ExitRates\"],\n",
    "#     name='Exit Rates',\n",
    "#     mode='markers',\n",
    "\n",
    "#     marker_color='red'\n",
    "# ), row=2, col=1)\n",
    "\n",
    "# fig.add_trace(go.Scatter(\n",
    "#     x = df[\"Month\"], y=df[\"PageValues\"],\n",
    "#     name='Page Values',\n",
    "#     mode='markers',\n",
    "#     marker_color='green'\n",
    "# ), row=3, col=1)"
   ]
  },
  {
   "cell_type": "markdown",
   "metadata": {},
   "source": [
    "understand special day better"
   ]
  },
  {
   "cell_type": "code",
   "execution_count": 42,
   "metadata": {},
   "outputs": [
    {
     "data": {
      "text/plain": [
       "Month\n",
       "Aug     0.000000\n",
       "Dec     0.000000\n",
       "Feb     0.233696\n",
       "Jul     0.000000\n",
       "June    0.000000\n",
       "Mar     0.000000\n",
       "May     0.212366\n",
       "Nov     0.000000\n",
       "Oct     0.000000\n",
       "Sep     0.000000\n",
       "Name: SpecialDay, dtype: float64"
      ]
     },
     "execution_count": 42,
     "metadata": {},
     "output_type": "execute_result"
    }
   ],
   "source": [
    "temp = df.groupby('Month')['SpecialDay'].mean()\n",
    "temp"
   ]
  },
  {
   "cell_type": "markdown",
   "metadata": {},
   "source": [
    "bin low-count categories together to limit low-count categories"
   ]
  },
  {
   "cell_type": "code",
   "execution_count": 43,
   "metadata": {},
   "outputs": [
    {
     "name": "stdout",
     "output_type": "stream",
     "text": [
      "2    6601\n",
      "1    2585\n",
      "3    2555\n",
      "4     478\n",
      "8      79\n",
      "6      19\n",
      "7       7\n",
      "5       6\n",
      "Name: OperatingSystems, dtype: int64\n",
      "2     7961\n",
      "1     2462\n",
      "4      736\n",
      "5      467\n",
      "6      174\n",
      "10     163\n",
      "8      135\n",
      "3      105\n",
      "13      61\n",
      "7       49\n",
      "12      10\n",
      "11       6\n",
      "9        1\n",
      "Name: Browser, dtype: int64\n",
      "2     3913\n",
      "1     2451\n",
      "3     2052\n",
      "4     1069\n",
      "13     738\n",
      "10     450\n",
      "6      444\n",
      "8      343\n",
      "5      260\n",
      "11     247\n",
      "20     198\n",
      "9       42\n",
      "7       40\n",
      "15      38\n",
      "19      17\n",
      "14      13\n",
      "18      10\n",
      "16       3\n",
      "12       1\n",
      "17       1\n",
      "Name: TrafficType, dtype: int64\n",
      "2     6601\n",
      "1     2585\n",
      "3     2555\n",
      "4      478\n",
      "99     111\n",
      "Name: OperatingSystems, dtype: int64\n",
      "2     7961\n",
      "1     2462\n",
      "4      736\n",
      "5      467\n",
      "99     232\n",
      "6      174\n",
      "10     163\n",
      "8      135\n",
      "Name: Browser, dtype: int64\n",
      "2     3913\n",
      "1     2451\n",
      "3     2052\n",
      "4     1069\n",
      "13     738\n",
      "10     450\n",
      "6      444\n",
      "8      343\n",
      "5      260\n",
      "11     247\n",
      "20     198\n",
      "99     165\n",
      "Name: TrafficType, dtype: int64\n"
     ]
    }
   ],
   "source": [
    "sm_outliers = ['OperatingSystems', 'Browser', 'TrafficType']\n",
    "\n",
    "for each in sm_outliers:\n",
    "    print(df[each].value_counts())\n",
    "\n",
    "for each in sm_outliers:\n",
    "    #code snippet below from stackoverflow\n",
    "    series = pd.value_counts(df[each])\n",
    "    mask = (series/series.sum() * 100).lt(1)\n",
    "    # To replace df['column'] use np.where I.e \n",
    "    df[each] = np.where(df[each].isin(series[mask].index),99,df[each])\n",
    "    \n",
    "    print(df[each].value_counts())"
   ]
  },
  {
   "cell_type": "code",
   "execution_count": 44,
   "metadata": {},
   "outputs": [
    {
     "name": "stdout",
     "output_type": "stream",
     "text": [
      "<class 'pandas.core.frame.DataFrame'>\n",
      "RangeIndex: 12330 entries, 0 to 12329\n",
      "Data columns (total 20 columns):\n",
      " #   Column                   Non-Null Count  Dtype  \n",
      "---  ------                   --------------  -----  \n",
      " 0   Administrative           12330 non-null  int64  \n",
      " 1   Administrative_Duration  12330 non-null  float64\n",
      " 2   Informational            12330 non-null  int64  \n",
      " 3   Informational_Duration   12330 non-null  float64\n",
      " 4   ProductRelated           12330 non-null  int64  \n",
      " 5   ProductRelated_Duration  12330 non-null  float64\n",
      " 6   Total_Pages              12330 non-null  int64  \n",
      " 7   Total_Duration           12330 non-null  float64\n",
      " 8   BounceRates              12330 non-null  float64\n",
      " 9   ExitRates                12330 non-null  float64\n",
      " 10  PageValues               12330 non-null  float64\n",
      " 11  SpecialDay               12330 non-null  float64\n",
      " 12  Month                    12330 non-null  object \n",
      " 13  OperatingSystems         12330 non-null  int64  \n",
      " 14  Browser                  12330 non-null  int64  \n",
      " 15  Region                   12330 non-null  int64  \n",
      " 16  TrafficType              12330 non-null  int64  \n",
      " 17  VisitorType              12330 non-null  object \n",
      " 18  Weekend                  12330 non-null  int32  \n",
      " 19  Revenue                  12330 non-null  bool   \n",
      "dtypes: bool(1), float64(8), int32(1), int64(8), object(2)\n",
      "memory usage: 1.8+ MB\n",
      "<class 'pandas.core.frame.DataFrame'>\n",
      "RangeIndex: 12330 entries, 0 to 12329\n",
      "Data columns (total 20 columns):\n",
      " #   Column                   Non-Null Count  Dtype  \n",
      "---  ------                   --------------  -----  \n",
      " 0   Administrative           12330 non-null  int64  \n",
      " 1   Administrative_Duration  12330 non-null  float64\n",
      " 2   Informational            12330 non-null  int64  \n",
      " 3   Informational_Duration   12330 non-null  float64\n",
      " 4   ProductRelated           12330 non-null  int64  \n",
      " 5   ProductRelated_Duration  12330 non-null  float64\n",
      " 6   Total_Pages              12330 non-null  int64  \n",
      " 7   Total_Duration           12330 non-null  float64\n",
      " 8   BounceRates              12330 non-null  float64\n",
      " 9   ExitRates                12330 non-null  float64\n",
      " 10  PageValues               12330 non-null  float64\n",
      " 11  SpecialDay               12330 non-null  float64\n",
      " 12  Month                    12330 non-null  object \n",
      " 13  OperatingSystems         12330 non-null  int64  \n",
      " 14  Browser                  12330 non-null  int64  \n",
      " 15  Region                   12330 non-null  int64  \n",
      " 16  TrafficType              12330 non-null  int64  \n",
      " 17  VisitorType              12330 non-null  object \n",
      " 18  Weekend                  12330 non-null  int32  \n",
      " 19  Revenue                  12330 non-null  int32  \n",
      "dtypes: float64(8), int32(2), int64(8), object(2)\n",
      "memory usage: 1.8+ MB\n"
     ]
    }
   ],
   "source": [
    "df.info()\n",
    "\n",
    "df['Revenue'] = df['Revenue'].astype('int32')\n",
    "#df.drop('Invert_Revenue', axis=1, inplace=True )\n",
    "df.info()\n"
   ]
  },
  {
   "cell_type": "markdown",
   "metadata": {},
   "source": [
    "### Data Preparation"
   ]
  },
  {
   "cell_type": "code",
   "execution_count": 45,
   "metadata": {},
   "outputs": [],
   "source": [
    "X_train, X_test, y_train, y_test = train_test_split(df.drop('Revenue', axis=1), df['Revenue'], test_size=0.2, random_state=270)"
   ]
  },
  {
   "cell_type": "code",
   "execution_count": 67,
   "metadata": {},
   "outputs": [],
   "source": [
    "processed_train = pd.get_dummies(X_train, columns=categorical_feats)\n",
    "processed_test = pd.get_dummies(X_test, columns=categorical_feats)\n",
    "\n",
    "processed_columns = processed_train.columns.to_list()\n",
    "\n",
    "x_scale = StandardScaler().fit(processed_train)\n",
    "#processed_y_train = y_train.to_numpy().reshape(-1,1)\n",
    "#y_scale = StandardScaler().fit(processed_y_train)\n",
    "\n",
    "processed_train = x_scale.transform(processed_train)\n",
    "#processed_y_train = y_scale.transform(processed_y_train)\n",
    "processed_test = x_scale.fit_transform(processed_test)\n",
    "#processed_y_test = y_test.to_numpy().reshape(-1,1)\n",
    "#processed_y_test = y_scale.transform(processed_y_test)"
   ]
  },
  {
   "cell_type": "markdown",
   "metadata": {},
   "source": [
    "designate numerical and categorical pipelines"
   ]
  },
  {
   "cell_type": "code",
   "execution_count": 47,
   "metadata": {},
   "outputs": [],
   "source": [
    "num_pipe = Pipeline(steps=[\n",
    "    ('scaler', StandardScaler())\n",
    "])\n",
    "\n",
    "cat_pipe = Pipeline(steps=[\n",
    "    ('ohe', OneHotEncoder(drop='first'))\n",
    "])\n",
    "\n",
    "transformer = ColumnTransformer(transformers=[\n",
    "    ('num', num_pipe, numerical_feats),\n",
    "    ('cat', cat_pipe, categorical_feats)\n",
    "])\n",
    "\n",
    "#testing\n",
    "\n",
    "#main_pipe = Pipeline(steps=[\n",
    "    #('ColumnTransformer', transformer),\n",
    "    #('Classifier', RandomForestRegressor(random_state=270))\n",
    "    #('Classifier', LogisticRegression(random_state=270))\n",
    "    #('Classifier', svm.SVC(random_state=270))\n",
    "    #('Classifier', tree.DecisionTreeClassifier(random_state=270))\n",
    "#])"
   ]
  },
  {
   "cell_type": "markdown",
   "metadata": {},
   "source": [
    "### Modeling"
   ]
  },
  {
   "cell_type": "markdown",
   "metadata": {},
   "source": [
    "#### Logistic Regression"
   ]
  },
  {
   "cell_type": "code",
   "execution_count": 48,
   "metadata": {},
   "outputs": [
    {
     "data": {
      "text/plain": [
       "0.8856447688564477"
      ]
     },
     "execution_count": 48,
     "metadata": {},
     "output_type": "execute_result"
    }
   ],
   "source": [
    "lr_pipe = Pipeline(steps=[\n",
    "    ('ColumnTransformer', transformer),\n",
    "    ('Classifier', LogisticRegression(random_state=270, solver='lbfgs', max_iter=250))\n",
    "])\n",
    "\n",
    "lr_pipe.fit(X_train, y_train)\n",
    "\n",
    "print(lr_pipe.score(X_test, y_test))"
   ]
  },
  {
   "cell_type": "code",
   "execution_count": 62,
   "metadata": {},
   "outputs": [
    {
     "name": "stdout",
     "output_type": "stream",
     "text": [
      "Train residuals:\n",
      "0    8737\n",
      "1    1127\n",
      "Name: Revenue, dtype: int64\n",
      "0    0.885746\n",
      "1    0.114254\n",
      "Name: Revenue, dtype: float64\n"
     ]
    }
   ],
   "source": [
    "y_hat_test = lr_pipe.predict(X_test)\n",
    "y_hat_train = lr_pipe.predict(X_train)\n",
    "residuals = np.abs(y_train - y_hat_train)\n",
    "print('Train residuals:')\n",
    "print(pd.Series(residuals).value_counts())\n",
    "print(pd.Series(residuals).value_counts(normalize=True))"
   ]
  },
  {
   "cell_type": "code",
   "execution_count": 63,
   "metadata": {},
   "outputs": [
    {
     "name": "stdout",
     "output_type": "stream",
     "text": [
      "Test residuals:\n",
      "0    2184\n",
      "1     282\n",
      "Name: Revenue, dtype: int64\n",
      "0    0.885645\n",
      "1    0.114355\n",
      "Name: Revenue, dtype: float64\n"
     ]
    }
   ],
   "source": [
    "residuals = np.abs(y_test - y_hat_test)\n",
    "print('Test residuals:')\n",
    "print(pd.Series(residuals).value_counts())\n",
    "print(pd.Series(residuals).value_counts(normalize=True))"
   ]
  },
  {
   "cell_type": "code",
   "execution_count": 51,
   "metadata": {},
   "outputs": [
    {
     "data": {
      "text/plain": [
       "[Text(0.5, 15.0, 'True'), Text(33.0, 0.5, 'Predicted')]"
      ]
     },
     "execution_count": 51,
     "metadata": {},
     "output_type": "execute_result"
    },
    {
     "data": {
      "image/png": "[encoded data removed]",
      "text/plain": [
       "<Figure size 432x288 with 2 Axes>"
      ]
     },
     "metadata": {
      "needs_background": "light"
     },
     "output_type": "display_data"
    }
   ],
   "source": [
    "cf_train = confusion_matrix(y_train, y_hat_train)\n",
    "ax = sns.heatmap(cf_train/np.sum(cf_train), annot=True, fmt='.2%', cmap = 'Blues')\n",
    "ax.set(xlabel='True', ylabel='Predicted')"
   ]
  },
  {
   "cell_type": "code",
   "execution_count": 52,
   "metadata": {},
   "outputs": [
    {
     "data": {
      "text/plain": [
       "[Text(0.5, 15.0, 'True'), Text(33.0, 0.5, 'Predicted')]"
      ]
     },
     "execution_count": 52,
     "metadata": {},
     "output_type": "execute_result"
    },
    {
     "data": {
      "image/png": "[encoded data removed]",
      "text/plain": [
       "<Figure size 432x288 with 2 Axes>"
      ]
     },
     "metadata": {
      "needs_background": "light"
     },
     "output_type": "display_data"
    }
   ],
   "source": [
    "cf_test = confusion_matrix(y_test, y_hat_test)\n",
    "ax = sns.heatmap(cf_test/np.sum(cf_test), annot=True, fmt='.2%', cmap = 'Blues')\n",
    "ax.set(xlabel='True', ylabel='Predicted')"
   ]
  },
  {
   "cell_type": "code",
   "execution_count": 53,
   "metadata": {},
   "outputs": [
    {
     "name": "stdout",
     "output_type": "stream",
     "text": [
      "              precision    recall  f1-score   support\n",
      "\n",
      "     No Sale       0.90      0.98      0.94      8337\n",
      "        Sale       0.75      0.40      0.52      1527\n",
      "\n",
      "    accuracy                           0.89      9864\n",
      "   macro avg       0.82      0.69      0.73      9864\n",
      "weighted avg       0.87      0.89      0.87      9864\n",
      "\n"
     ]
    }
   ],
   "source": [
    "target_names = ['No Sale', 'Sale']\n",
    "print(classification_report(y_train, y_hat_train, target_names=target_names))"
   ]
  },
  {
   "cell_type": "code",
   "execution_count": 64,
   "metadata": {},
   "outputs": [
    {
     "name": "stdout",
     "output_type": "stream",
     "text": [
      "0.8471208434712084\n"
     ]
    }
   ],
   "source": [
    "lr_pipe = Pipeline(steps=[\n",
    "    ('ColumnTransformer', transformer),\n",
    "    ('Classifier', LogisticRegression(class_weight='balanced', random_state=270, solver='lbfgs', max_iter=250))\n",
    "])\n",
    "\n",
    "lr_pipe.fit(X_train, y_train)\n",
    "\n",
    "print(lr_pipe.score(X_test, y_test))"
   ]
  },
  {
   "cell_type": "code",
   "execution_count": 66,
   "metadata": {},
   "outputs": [
    {
     "data": {
      "text/plain": [
       "[Text(0.5, 15.0, 'True'), Text(33.0, 0.5, 'Predicted')]"
      ]
     },
     "execution_count": 66,
     "metadata": {},
     "output_type": "execute_result"
    },
    {
     "data": {
      "image/png": "[encoded data removed]",
      "text/plain": [
       "<Figure size 432x288 with 2 Axes>"
      ]
     },
     "metadata": {
      "needs_background": "light"
     },
     "output_type": "display_data"
    }
   ],
   "source": [
    "y_hat_train = lr_pipe.predict(X_train)\n",
    "cf_train = confusion_matrix(y_train, y_hat_train)\n",
    "ax = sns.heatmap(cf_train/np.sum(cf_train), annot=True, fmt='.2%', cmap = 'Blues')\n",
    "ax.set(xlabel='True', ylabel='Predicted')"
   ]
  },
  {
   "cell_type": "code",
   "execution_count": 54,
   "metadata": {},
   "outputs": [
    {
     "name": "stdout",
     "output_type": "stream",
     "text": [
      "AUC: 0.9057220365439931\n"
     ]
    }
   ],
   "source": [
    "y_score = lr_pipe.fit(X_train, y_train).decision_function(X_test)\n",
    "\n",
    "fpr, tpr, thresholds = roc_curve(y_test, y_score)\n",
    "\n",
    "print('AUC: {}'.format(auc(fpr, tpr)))"
   ]
  },
  {
   "cell_type": "code",
   "execution_count": 55,
   "metadata": {},
   "outputs": [
    {
     "data": {
      "image/png": "[encoded data removed]",
      "text/plain": [
       "<Figure size 432x288 with 1 Axes>"
      ]
     },
     "metadata": {
      "needs_background": "light"
     },
     "output_type": "display_data"
    }
   ],
   "source": [
    "ax = sns.lineplot(x=fpr, y=tpr, color = 'red')\n",
    "ax = sns.lineplot(x=[0,1], y=[0,1], color='navy')"
   ]
  },
  {
   "cell_type": "code",
   "execution_count": 57,
   "metadata": {},
   "outputs": [
    {
     "name": "stdout",
     "output_type": "stream",
     "text": [
      "Train Residuals:\n",
      "0    8737\n",
      "1    1127\n",
      "Name: Revenue, dtype: int64\n",
      "0    0.885746\n",
      "1    0.114254\n",
      "Name: Revenue, dtype: float64\n",
      "Test Residuals:\n",
      "0    2184\n",
      "1     282\n",
      "Name: Revenue, dtype: int64\n",
      "0    0.885645\n",
      "1    0.114355\n",
      "Name: Revenue, dtype: float64\n",
      "Train Report:\n",
      "              precision    recall  f1-score   support\n",
      "\n",
      "     No Sale       0.90      0.98      0.94      8337\n",
      "        Sale       0.75      0.40      0.52      1527\n",
      "\n",
      "    accuracy                           0.89      9864\n",
      "   macro avg       0.82      0.69      0.73      9864\n",
      "weighted avg       0.87      0.89      0.87      9864\n",
      "\n",
      "Test Report:\n",
      "              precision    recall  f1-score   support\n",
      "\n",
      "     No Sale       0.90      0.97      0.94      2085\n",
      "        Sale       0.74      0.40      0.52       381\n",
      "\n",
      "    accuracy                           0.89      2466\n",
      "   macro avg       0.82      0.69      0.73      2466\n",
      "weighted avg       0.87      0.89      0.87      2466\n",
      "\n"
     ]
    },
    {
     "data": {
      "image/png": "[encoded data removed]",
      "text/plain": [
       "<Figure size 432x288 with 2 Axes>"
      ]
     },
     "metadata": {
      "needs_background": "light"
     },
     "output_type": "display_data"
    },
    {
     "data": {
      "image/png": "[encoded data removed]",
      "text/plain": [
       "<Figure size 432x288 with 2 Axes>"
      ]
     },
     "metadata": {
      "needs_background": "light"
     },
     "output_type": "display_data"
    }
   ],
   "source": [
    "classification_evaluation(lr_pipe, X_test, X_train, y_test, y_train)"
   ]
  },
  {
   "cell_type": "code",
   "execution_count": 87,
   "metadata": {},
   "outputs": [
    {
     "name": "stdout",
     "output_type": "stream",
     "text": [
      "Original Class Distribution:\n",
      "0    8337\n",
      "1    1527\n",
      "Name: Revenue, dtype: int64\n",
      "SMOTE Class Distribution:\n",
      "1    8337\n",
      "0    8337\n",
      "Name: Revenue, dtype: int64\n"
     ]
    }
   ],
   "source": [
    "# smote = SMOTE(sampling_strategy = 1)\n",
    "smote = SMOTE()\n",
    "X_train_resampled, y_train_resampled = smote.fit_sample(processed_train, y_train)\n",
    "\n",
    "\n",
    "#process the newly-balanced dataset\n",
    "# processed_train = pd.get_dummies(X_train, columns=categorical_feats)\n",
    "# x_scale = StandardScaler().fit(processed_train)\n",
    "# processed_train = x_scale.transform(processed_train)\n",
    "\n",
    "print('Original Class Distribution:')\n",
    "print(y_train.value_counts())\n",
    "\n",
    "print('SMOTE Class Distribution:')\n",
    "print(pd.Series(y_train_resampled).value_counts())"
   ]
  },
  {
   "cell_type": "code",
   "execution_count": 88,
   "metadata": {},
   "outputs": [],
   "source": [
    "manual_lr = LogisticRegression(random_state=270, solver='lbfgs', max_iter=250)\n",
    "manual_lr.fit(X_train_resampled, y_train_resampled)\n",
    "y_hat_train = manual_lr.predict(processed_train)\n",
    "y_hat_test = manual_lr.predict(processed_test)\n",
    "y_score = manual_lr.decision_function(processed_test)\n"
   ]
  },
  {
   "cell_type": "code",
   "execution_count": 89,
   "metadata": {},
   "outputs": [
    {
     "name": "stdout",
     "output_type": "stream",
     "text": [
      "              precision    recall  f1-score   support\n",
      "\n",
      "     No Sale       0.95      0.88      0.91      8337\n",
      "        Sale       0.53      0.76      0.62      1527\n",
      "\n",
      "    accuracy                           0.86      9864\n",
      "   macro avg       0.74      0.82      0.77      9864\n",
      "weighted avg       0.89      0.86      0.87      9864\n",
      "\n",
      "              precision    recall  f1-score   support\n",
      "\n",
      "     No Sale       0.96      0.88      0.91      2085\n",
      "        Sale       0.54      0.78      0.64       381\n",
      "\n",
      "    accuracy                           0.86      2466\n",
      "   macro avg       0.75      0.83      0.78      2466\n",
      "weighted avg       0.89      0.86      0.87      2466\n",
      "\n"
     ]
    }
   ],
   "source": [
    "\n",
    "print(classification_report(y_train, y_hat_train, target_names=target_names))\n",
    "print(classification_report(y_test, y_hat_test, target_names=target_names))"
   ]
  },
  {
   "cell_type": "code",
   "execution_count": 90,
   "metadata": {},
   "outputs": [
    {
     "data": {
      "text/plain": [
       "[Text(0.5, 15.0, 'True'), Text(33.0, 0.5, 'Predicted')]"
      ]
     },
     "execution_count": 90,
     "metadata": {},
     "output_type": "execute_result"
    },
    {
     "data": {
      "image/png": "[encoded data removed]",
      "text/plain": [
       "<Figure size 432x288 with 2 Axes>"
      ]
     },
     "metadata": {
      "needs_background": "light"
     },
     "output_type": "display_data"
    }
   ],
   "source": [
    "cf_train = confusion_matrix(y_train, y_hat_train)\n",
    "ax = sns.heatmap(cf_train/np.sum(cf_train), annot=True, fmt='.2%', cmap = 'Blues')\n",
    "ax.set(xlabel='True', ylabel='Predicted')"
   ]
  },
  {
   "cell_type": "code",
   "execution_count": 91,
   "metadata": {},
   "outputs": [
    {
     "data": {
      "text/plain": [
       "[Text(0.5, 15.0, 'True'), Text(33.0, 0.5, 'Predicted')]"
      ]
     },
     "execution_count": 91,
     "metadata": {},
     "output_type": "execute_result"
    },
    {
     "data": {
      "image/png": "[encoded data removed]",
      "text/plain": [
       "<Figure size 432x288 with 2 Axes>"
      ]
     },
     "metadata": {
      "needs_background": "light"
     },
     "output_type": "display_data"
    }
   ],
   "source": [
    "cf_test = confusion_matrix(y_test, y_hat_test)\n",
    "ax = sns.heatmap(cf_test/np.sum(cf_test), annot=True, fmt='.2%', cmap = 'Blues')\n",
    "ax.set(xlabel='True', ylabel='Predicted')"
   ]
  },
  {
   "cell_type": "markdown",
   "metadata": {},
   "source": [
    "### Modeling"
   ]
  },
  {
   "cell_type": "markdown",
   "metadata": {},
   "source": [
    "#### Logistic Regression"
   ]
  },
  {
   "cell_type": "code",
   "execution_count": 48,
   "metadata": {},
   "outputs": [
    {
     "data": {
      "text/plain": [
       "0.8856447688564477"
      ]
     },
     "execution_count": 48,
     "metadata": {},
     "output_type": "execute_result"
    }
   ],
   "source": [
    "lr_pipe = Pipeline(steps=[\n",
    "    ('ColumnTransformer', transformer),\n",
    "    ('Classifier', LogisticRegression(random_state=270, solver='lbfgs', max_iter=250))\n",
    "])\n",
    "\n",
    "lr_pipe.fit(X_train, y_train)\n",
    "\n",
    "print(lr_pipe.score(X_test, y_test))"
   ]
  },
  {
   "cell_type": "code",
   "execution_count": 62,
   "metadata": {},
   "outputs": [
    {
     "name": "stdout",
     "output_type": "stream",
     "text": [
      "Train residuals:\n",
      "0    8737\n",
      "1    1127\n",
      "Name: Revenue, dtype: int64\n",
      "0    0.885746\n",
      "1    0.114254\n",
      "Name: Revenue, dtype: float64\n"
     ]
    }
   ],
   "source": [
    "y_hat_test = lr_pipe.predict(X_test)\n",
    "y_hat_train = lr_pipe.predict(X_train)\n",
    "residuals = np.abs(y_train - y_hat_train)\n",
    "print('Train residuals:')\n",
    "print(pd.Series(residuals).value_counts())\n",
    "print(pd.Series(residuals).value_counts(normalize=True))"
   ]
  },
  {
   "cell_type": "code",
   "execution_count": 63,
   "metadata": {},
   "outputs": [
    {
     "name": "stdout",
     "output_type": "stream",
     "text": [
      "Test residuals:\n",
      "0    2184\n",
      "1     282\n",
      "Name: Revenue, dtype: int64\n",
      "0    0.885645\n",
      "1    0.114355\n",
      "Name: Revenue, dtype: float64\n"
     ]
    }
   ],
   "source": [
    "residuals = np.abs(y_test - y_hat_test)\n",
    "print('Test residuals:')\n",
    "print(pd.Series(residuals).value_counts())\n",
    "print(pd.Series(residuals).value_counts(normalize=True))"
   ]
  },
  {
   "cell_type": "code",
   "execution_count": 51,
   "metadata": {},
   "outputs": [
    {
     "data": {
      "text/plain": [
       "[Text(0.5, 15.0, 'True'), Text(33.0, 0.5, 'Predicted')]"
      ]
     },
     "execution_count": 51,
     "metadata": {},
     "output_type": "execute_result"
    },
    {
     "data": {
      "image/png": "[encoded data removed]",
      "text/plain": [
       "<Figure size 432x288 with 2 Axes>"
      ]
     },
     "metadata": {
      "needs_background": "light"
     },
     "output_type": "display_data"
    }
   ],
   "source": [
    "cf_train = confusion_matrix(y_train, y_hat_train)\n",
    "ax = sns.heatmap(cf_train/np.sum(cf_train), annot=True, fmt='.2%', cmap = 'Blues')\n",
    "ax.set(xlabel='True', ylabel='Predicted')"
   ]
  },
  {
   "cell_type": "code",
   "execution_count": 52,
   "metadata": {},
   "outputs": [
    {
     "data": {
      "text/plain": [
       "[Text(0.5, 15.0, 'True'), Text(33.0, 0.5, 'Predicted')]"
      ]
     },
     "execution_count": 52,
     "metadata": {},
     "output_type": "execute_result"
    },
    {
     "data": {
      "image/png": "[encoded data removed]",
      "text/plain": [
       "<Figure size 432x288 with 2 Axes>"
      ]
     },
     "metadata": {
      "needs_background": "light"
     },
     "output_type": "display_data"
    }
   ],
   "source": [
    "cf_test = confusion_matrix(y_test, y_hat_test)\n",
    "ax = sns.heatmap(cf_test/np.sum(cf_test), annot=True, fmt='.2%', cmap = 'Blues')\n",
    "ax.set(xlabel='True', ylabel='Predicted')"
   ]
  },
  {
   "cell_type": "code",
   "execution_count": 53,
   "metadata": {},
   "outputs": [
    {
     "name": "stdout",
     "output_type": "stream",
     "text": [
      "              precision    recall  f1-score   support\n",
      "\n",
      "     No Sale       0.90      0.98      0.94      8337\n",
      "        Sale       0.75      0.40      0.52      1527\n",
      "\n",
      "    accuracy                           0.89      9864\n",
      "   macro avg       0.82      0.69      0.73      9864\n",
      "weighted avg       0.87      0.89      0.87      9864\n",
      "\n"
     ]
    }
   ],
   "source": [
    "target_names = ['No Sale', 'Sale']\n",
    "print(classification_report(y_train, y_hat_train, target_names=target_names))"
   ]
  },
  {
   "cell_type": "code",
   "execution_count": 64,
   "metadata": {},
   "outputs": [
    {
     "name": "stdout",
     "output_type": "stream",
     "text": [
      "0.8471208434712084\n"
     ]
    }
   ],
   "source": [
    "lr_pipe = Pipeline(steps=[\n",
    "    ('ColumnTransformer', transformer),\n",
    "    ('Classifier', LogisticRegression(class_weight='balanced', random_state=270, solver='lbfgs', max_iter=250))\n",
    "])\n",
    "\n",
    "lr_pipe.fit(X_train, y_train)\n",
    "\n",
    "print(lr_pipe.score(X_test, y_test))"
   ]
  },
  {
   "cell_type": "code",
   "execution_count": 66,
   "metadata": {},
   "outputs": [
    {
     "data": {
      "text/plain": [
       "[Text(0.5, 15.0, 'True'), Text(33.0, 0.5, 'Predicted')]"
      ]
     },
     "execution_count": 66,
     "metadata": {},
     "output_type": "execute_result"
    },
    {
     "data": {
      "image/png": "[encoded data removed]",
      "text/plain": [
       "<Figure size 432x288 with 2 Axes>"
      ]
     },
     "metadata": {
      "needs_background": "light"
     },
     "output_type": "display_data"
    }
   ],
   "source": [
    "y_hat_train = lr_pipe.predict(X_train)\n",
    "cf_train = confusion_matrix(y_train, y_hat_train)\n",
    "ax = sns.heatmap(cf_train/np.sum(cf_train), annot=True, fmt='.2%', cmap = 'Blues')\n",
    "ax.set(xlabel='True', ylabel='Predicted')"
   ]
  },
  {
   "cell_type": "code",
   "execution_count": 54,
   "metadata": {},
   "outputs": [
    {
     "name": "stdout",
     "output_type": "stream",
     "text": [
      "AUC: 0.9057220365439931\n"
     ]
    }
   ],
   "source": [
    "y_score = lr_pipe.fit(X_train, y_train).decision_function(X_test)\n",
    "\n",
    "fpr, tpr, thresholds = roc_curve(y_test, y_score)\n",
    "\n",
    "print('AUC: {}'.format(auc(fpr, tpr)))"
   ]
  },
  {
   "cell_type": "code",
   "execution_count": 55,
   "metadata": {},
   "outputs": [
    {
     "data": {
      "image/png": "[encoded data removed]",
      "text/plain": [
       "<Figure size 432x288 with 1 Axes>"
      ]
     },
     "metadata": {
      "needs_background": "light"
     },
     "output_type": "display_data"
    }
   ],
   "source": [
    "ax = sns.lineplot(x=fpr, y=tpr, color = 'red')\n",
    "ax = sns.lineplot(x=[0,1], y=[0,1], color='navy')"
   ]
  },
  {
   "cell_type": "code",
   "execution_count": 57,
   "metadata": {},
   "outputs": [
    {
     "name": "stdout",
     "output_type": "stream",
     "text": [
      "Train Residuals:\n",
      "0    8737\n",
      "1    1127\n",
      "Name: Revenue, dtype: int64\n",
      "0    0.885746\n",
      "1    0.114254\n",
      "Name: Revenue, dtype: float64\n",
      "Test Residuals:\n",
      "0    2184\n",
      "1     282\n",
      "Name: Revenue, dtype: int64\n",
      "0    0.885645\n",
      "1    0.114355\n",
      "Name: Revenue, dtype: float64\n",
      "Train Report:\n",
      "              precision    recall  f1-score   support\n",
      "\n",
      "     No Sale       0.90      0.98      0.94      8337\n",
      "        Sale       0.75      0.40      0.52      1527\n",
      "\n",
      "    accuracy                           0.89      9864\n",
      "   macro avg       0.82      0.69      0.73      9864\n",
      "weighted avg       0.87      0.89      0.87      9864\n",
      "\n",
      "Test Report:\n",
      "              precision    recall  f1-score   support\n",
      "\n",
      "     No Sale       0.90      0.97      0.94      2085\n",
      "        Sale       0.74      0.40      0.52       381\n",
      "\n",
      "    accuracy                           0.89      2466\n",
      "   macro avg       0.82      0.69      0.73      2466\n",
      "weighted avg       0.87      0.89      0.87      2466\n",
      "\n"
     ]
    },
    {
     "data": {
      "image/png": "[encoded data removed]",
      "text/plain": [
       "<Figure size 432x288 with 2 Axes>"
      ]
     },
     "metadata": {
      "needs_background": "light"
     },
     "output_type": "display_data"
    },
    {
     "data": {
      "image/png": "[encoded data removed]",
      "text/plain": [
       "<Figure size 432x288 with 2 Axes>"
      ]
     },
     "metadata": {
      "needs_background": "light"
     },
     "output_type": "display_data"
    }
   ],
   "source": [
    "classification_evaluation(lr_pipe, X_test, X_train, y_test, y_train)"
   ]
  },
  {
   "cell_type": "code",
   "execution_count": 87,
   "metadata": {},
   "outputs": [
    {
     "name": "stdout",
     "output_type": "stream",
     "text": [
      "Original Class Distribution:\n",
      "0    8337\n",
      "1    1527\n",
      "Name: Revenue, dtype: int64\n",
      "SMOTE Class Distribution:\n",
      "1    8337\n",
      "0    8337\n",
      "Name: Revenue, dtype: int64\n"
     ]
    }
   ],
   "source": [
    "# smote = SMOTE(sampling_strategy = 1)\n",
    "smote = SMOTE()\n",
    "X_train_resampled, y_train_resampled = smote.fit_sample(processed_train, y_train)\n",
    "\n",
    "\n",
    "#process the newly-balanced dataset\n",
    "# processed_train = pd.get_dummies(X_train, columns=categorical_feats)\n",
    "# x_scale = StandardScaler().fit(processed_train)\n",
    "# processed_train = x_scale.transform(processed_train)\n",
    "\n",
    "print('Original Class Distribution:')\n",
    "print(y_train.value_counts())\n",
    "\n",
    "print('SMOTE Class Distribution:')\n",
    "print(pd.Series(y_train_resampled).value_counts())"
   ]
  },
  {
   "cell_type": "code",
   "execution_count": 98,
   "metadata": {},
   "outputs": [],
   "source": [
    "manual_lr = LogisticRegression(random_state=270, solver='liblinear', max_iter=250)\n",
    "manual_lr.fit(X_train_resampled, y_train_resampled)\n",
    "y_hat_train = manual_lr.predict(processed_train)\n",
    "y_hat_test = manual_lr.predict(processed_test)\n",
    "y_score = manual_lr.decision_function(processed_test)\n"
   ]
  },
  {
   "cell_type": "code",
   "execution_count": 99,
   "metadata": {},
   "outputs": [
    {
     "name": "stdout",
     "output_type": "stream",
     "text": [
      "              precision    recall  f1-score   support\n",
      "\n",
      "     No Sale       0.95      0.88      0.91      8337\n",
      "        Sale       0.53      0.76      0.62      1527\n",
      "\n",
      "    accuracy                           0.86      9864\n",
      "   macro avg       0.74      0.82      0.77      9864\n",
      "weighted avg       0.89      0.86      0.87      9864\n",
      "\n",
      "              precision    recall  f1-score   support\n",
      "\n",
      "     No Sale       0.96      0.88      0.91      2085\n",
      "        Sale       0.54      0.78      0.64       381\n",
      "\n",
      "    accuracy                           0.86      2466\n",
      "   macro avg       0.75      0.83      0.78      2466\n",
      "weighted avg       0.89      0.86      0.87      2466\n",
      "\n"
     ]
    }
   ],
   "source": [
    "\n",
    "print(classification_report(y_train, y_hat_train, target_names=target_names))\n",
    "print(classification_report(y_test, y_hat_test, target_names=target_names))"
   ]
  },
  {
   "cell_type": "code",
   "execution_count": 100,
   "metadata": {},
   "outputs": [
    {
     "data": {
      "text/plain": [
       "[Text(0.5, 15.0, 'True'), Text(33.0, 0.5, 'Predicted')]"
      ]
     },
     "execution_count": 100,
     "metadata": {},
     "output_type": "execute_result"
    },
    {
     "data": {
      "image/png": "[encoded data removed]",
      "text/plain": [
       "<Figure size 432x288 with 2 Axes>"
      ]
     },
     "metadata": {
      "needs_background": "light"
     },
     "output_type": "display_data"
    }
   ],
   "source": [
    "cf_train = confusion_matrix(y_train, y_hat_train)\n",
    "ax = sns.heatmap(cf_train/np.sum(cf_train), annot=True, fmt='.2%', cmap = 'Blues')\n",
    "ax.set(xlabel='True', ylabel='Predicted')"
   ]
  },
  {
   "cell_type": "code",
   "execution_count": 101,
   "metadata": {},
   "outputs": [
    {
     "data": {
      "text/plain": [
       "[Text(0.5, 15.0, 'True'), Text(33.0, 0.5, 'Predicted')]"
      ]
     },
     "execution_count": 101,
     "metadata": {},
     "output_type": "execute_result"
    },
    {
     "data": {
      "image/png": "[encoded data removed]",
      "text/plain": [
       "<Figure size 432x288 with 2 Axes>"
      ]
     },
     "metadata": {
      "needs_background": "light"
     },
     "output_type": "display_data"
    }
   ],
   "source": [
    "cf_test = confusion_matrix(y_test, y_hat_test)\n",
    "ax = sns.heatmap(cf_test/np.sum(cf_test), annot=True, fmt='.2%', cmap = 'Blues')\n",
    "ax.set(xlabel='True', ylabel='Predicted')"
   ]
  },
  {
   "cell_type": "code",
   "execution_count": 102,
   "metadata": {},
   "outputs": [
    {
     "name": "stdout",
     "output_type": "stream",
     "text": [
      "AUC: 0.9133619088980783\n"
     ]
    }
   ],
   "source": [
    "fpr, tpr, thresholds = roc_curve(y_test, y_score)\n",
    "\n",
    "print('AUC: {}'.format(auc(fpr, tpr)))"
   ]
  },
  {
   "cell_type": "code",
   "execution_count": null,
   "metadata": {},
   "outputs": [],
   "source": []
  },
  {
   "cell_type": "markdown",
   "metadata": {},
   "source": [
    "Would prefer a model that predicted sales better"
   ]
  },
  {
   "cell_type": "markdown",
   "metadata": {},
   "source": [
    "#### Decision Tree"
   ]
  },
  {
   "cell_type": "code",
   "execution_count": 58,
   "metadata": {},
   "outputs": [
    {
     "name": "stdout",
     "output_type": "stream",
     "text": [
      "Train Residuals:\n",
      "0    9864\n",
      "Name: Revenue, dtype: int64\n",
      "0    1.0\n",
      "Name: Revenue, dtype: float64\n",
      "Test Residuals:\n",
      "0    2135\n",
      "1     331\n",
      "Name: Revenue, dtype: int64\n",
      "0    0.865775\n",
      "1    0.134225\n",
      "Name: Revenue, dtype: float64\n",
      "Train Report:\n",
      "              precision    recall  f1-score   support\n",
      "\n",
      "     No Sale       1.00      1.00      1.00      8337\n",
      "        Sale       1.00      1.00      1.00      1527\n",
      "\n",
      "    accuracy                           1.00      9864\n",
      "   macro avg       1.00      1.00      1.00      9864\n",
      "weighted avg       1.00      1.00      1.00      9864\n",
      "\n",
      "Test Report:\n",
      "              precision    recall  f1-score   support\n",
      "\n",
      "     No Sale       0.92      0.92      0.92      2085\n",
      "        Sale       0.56      0.59      0.58       381\n",
      "\n",
      "    accuracy                           0.87      2466\n",
      "   macro avg       0.74      0.75      0.75      2466\n",
      "weighted avg       0.87      0.87      0.87      2466\n",
      "\n"
     ]
    },
    {
     "data": {
      "image/png": "[encoded data removed]",
      "text/plain": [
       "<Figure size 432x288 with 2 Axes>"
      ]
     },
     "metadata": {
      "needs_background": "light"
     },
     "output_type": "display_data"
    },
    {
     "data": {
      "image/png": "[encoded data removed]",
      "text/plain": [
       "<Figure size 432x288 with 2 Axes>"
      ]
     },
     "metadata": {
      "needs_background": "light"
     },
     "output_type": "display_data"
    }
   ],
   "source": [
    "dt_pipe = Pipeline(steps=[\n",
    "    ('ColumnTransformer', transformer),\n",
    "    ('Classifier', tree.DecisionTreeClassifier(criterion='entropy'))\n",
    "])\n",
    "\n",
    "dt_pipe.fit(X_train, y_train)\n",
    "classification_evaluation(dt_pipe, X_test, X_train, y_test, y_train)\n"
   ]
  },
  {
   "cell_type": "code",
   "execution_count": 107,
   "metadata": {},
   "outputs": [
    {
     "data": {
      "text/plain": [
       "[Text(153.06627481401003, 214.24235294117648, 'PageValues <= -0.266\\nentropy = 0.622\\nsamples = 9864\\nvalue = [8337, 1527]\\nclass = 0'),\n",
       " Text(74.98281701163819, 207.8470588235294, 'Month_Nov <= 0.606\\nentropy = 0.247\\nsamples = 7745\\nvalue = [7428, 317]\\nclass = 0'),\n",
       " Text(33.83419600766058, 201.45176470588234, 'Month_May <= 0.508\\nentropy = 0.138\\nsamples = 5952\\nvalue = [5837, 115]\\nclass = 0'),\n",
       " Text(33.20287013847967, 195.0564705882353, 'Month_Mar <= 0.957\\nentropy = 0.194\\nsamples = 3855\\nvalue = [3740, 115]\\nclass = 0'),\n",
       " Text(25.528623305833825, 188.66117647058823, 'Administrative_Duration <= -0.451\\nentropy = 0.262\\nsamples = 2571\\nvalue = [2457, 114]\\nclass = 0'),\n",
       " Text(12.074107248084855, 182.26588235294116, 'Informational_Duration <= -0.2\\nentropy = 0.09\\nsamples = 1224\\nvalue = [1210, 14]\\nclass = 0'),\n",
       " Text(8.04940483205657, 175.87058823529412, 'Browser_5 <= 2.366\\nentropy = 0.054\\nsamples = 1142\\nvalue = [1135, 7]\\nclass = 0'),\n",
       " Text(4.734944018856806, 169.47529411764705, 'VisitorType_New_Visitor <= 1.049\\nentropy = 0.042\\nsamples = 1098\\nvalue = [1093, 5]\\nclass = 0'),\n",
       " Text(2.52530347672363, 163.07999999999998, 'ProductRelated <= -0.367\\nentropy = 0.021\\nsamples = 982\\nvalue = [980, 2]\\nclass = 0'),\n",
       " Text(1.8939776075427224, 156.68470588235294, 'entropy = 0.0\\nsamples = 665\\nvalue = [665, 0]\\nclass = 0'),\n",
       " Text(3.1566293459045376, 156.68470588235294, 'Region_9 <= 2.272\\nentropy = 0.055\\nsamples = 317\\nvalue = [315, 2]\\nclass = 0'),\n",
       " Text(1.8939776075427224, 150.28941176470587, 'Total_Duration <= -0.525\\nentropy = 0.031\\nsamples = 310\\nvalue = [309, 1]\\nclass = 0'),\n",
       " Text(1.262651738361815, 143.8941176470588, 'TrafficType_4 <= 1.461\\nentropy = 0.469\\nsamples = 10\\nvalue = [9, 1]\\nclass = 0'),\n",
       " Text(0.6313258691809075, 137.49882352941177, 'entropy = 0.0\\nsamples = 9\\nvalue = [9, 0]\\nclass = 0'),\n",
       " Text(1.8939776075427224, 137.49882352941177, 'entropy = 0.0\\nsamples = 1\\nvalue = [0, 1]\\nclass = 1'),\n",
       " Text(2.52530347672363, 143.8941176470588, 'entropy = 0.0\\nsamples = 300\\nvalue = [300, 0]\\nclass = 0'),\n",
       " Text(4.419281084266353, 150.28941176470587, 'Total_Duration <= 0.299\\nentropy = 0.592\\nsamples = 7\\nvalue = [6, 1]\\nclass = 0'),\n",
       " Text(3.7879552150854447, 143.8941176470588, 'entropy = 0.0\\nsamples = 5\\nvalue = [5, 0]\\nclass = 0'),\n",
       " Text(5.05060695344726, 143.8941176470588, 'BounceRates <= -0.018\\nentropy = 1.0\\nsamples = 2\\nvalue = [1, 1]\\nclass = 0'),\n",
       " Text(4.419281084266353, 137.49882352941177, 'entropy = 0.0\\nsamples = 1\\nvalue = [0, 1]\\nclass = 1'),\n",
       " Text(5.681932822628167, 137.49882352941177, 'entropy = 0.0\\nsamples = 1\\nvalue = [1, 0]\\nclass = 0'),\n",
       " Text(6.944584560989982, 163.07999999999998, 'BounceRates <= -0.26\\nentropy = 0.173\\nsamples = 116\\nvalue = [113, 3]\\nclass = 0'),\n",
       " Text(6.313258691809075, 156.68470588235294, 'entropy = 0.0\\nsamples = 91\\nvalue = [91, 0]\\nclass = 0'),\n",
       " Text(7.5759104301708895, 156.68470588235294, 'Total_Duration <= -0.457\\nentropy = 0.529\\nsamples = 25\\nvalue = [22, 3]\\nclass = 0'),\n",
       " Text(6.944584560989982, 150.28941176470587, 'Region_6 <= 1.778\\nentropy = 0.258\\nsamples = 23\\nvalue = [22, 1]\\nclass = 0'),\n",
       " Text(6.313258691809075, 143.8941176470588, 'entropy = 0.0\\nsamples = 22\\nvalue = [22, 0]\\nclass = 0'),\n",
       " Text(7.5759104301708895, 143.8941176470588, 'entropy = 0.0\\nsamples = 1\\nvalue = [0, 1]\\nclass = 1'),\n",
       " Text(8.207236299351797, 150.28941176470587, 'entropy = 0.0\\nsamples = 2\\nvalue = [0, 2]\\nclass = 1'),\n",
       " Text(11.363865645256334, 169.47529411764705, 'TrafficType_20 <= 3.868\\nentropy = 0.267\\nsamples = 44\\nvalue = [42, 2]\\nclass = 0'),\n",
       " Text(10.732539776075427, 163.07999999999998, 'ExitRates <= -0.653\\nentropy = 0.159\\nsamples = 43\\nvalue = [42, 1]\\nclass = 0'),\n",
       " Text(10.10121390689452, 156.68470588235294, 'Total_Duration <= -0.322\\nentropy = 0.811\\nsamples = 4\\nvalue = [3, 1]\\nclass = 0'),\n",
       " Text(9.469888037713613, 150.28941176470587, 'entropy = 0.0\\nsamples = 3\\nvalue = [3, 0]\\nclass = 0'),\n",
       " Text(10.732539776075427, 150.28941176470587, 'entropy = 0.0\\nsamples = 1\\nvalue = [0, 1]\\nclass = 1'),\n",
       " Text(11.363865645256334, 156.68470588235294, 'entropy = 0.0\\nsamples = 39\\nvalue = [39, 0]\\nclass = 0'),\n",
       " Text(11.995191514437243, 163.07999999999998, 'entropy = 0.0\\nsamples = 1\\nvalue = [0, 1]\\nclass = 1'),\n",
       " Text(16.09880966411314, 175.87058823529412, 'VisitorType_New_Visitor <= 1.049\\nentropy = 0.421\\nsamples = 82\\nvalue = [75, 7]\\nclass = 0'),\n",
       " Text(14.520494991160872, 169.47529411764705, 'ExitRates <= -0.564\\nentropy = 0.245\\nsamples = 74\\nvalue = [71, 3]\\nclass = 0'),\n",
       " Text(13.257843252799058, 163.07999999999998, 'BounceRates <= -0.394\\nentropy = 0.764\\nsamples = 9\\nvalue = [7, 2]\\nclass = 0'),\n",
       " Text(12.62651738361815, 156.68470588235294, 'entropy = 0.0\\nsamples = 7\\nvalue = [7, 0]\\nclass = 0'),\n",
       " Text(13.889169121979965, 156.68470588235294, 'entropy = 0.0\\nsamples = 2\\nvalue = [0, 2]\\nclass = 1'),\n",
       " Text(15.783146729522688, 163.07999999999998, 'TrafficType_4 <= 1.461\\nentropy = 0.115\\nsamples = 65\\nvalue = [64, 1]\\nclass = 0'),\n",
       " Text(15.151820860341779, 156.68470588235294, 'entropy = 0.0\\nsamples = 63\\nvalue = [63, 0]\\nclass = 0'),\n",
       " Text(16.414472598703593, 156.68470588235294, 'ExitRates <= -0.115\\nentropy = 1.0\\nsamples = 2\\nvalue = [1, 1]\\nclass = 0'),\n",
       " Text(15.783146729522688, 150.28941176470587, 'entropy = 0.0\\nsamples = 1\\nvalue = [1, 0]\\nclass = 0'),\n",
       " Text(17.045798467884502, 150.28941176470587, 'entropy = 0.0\\nsamples = 1\\nvalue = [0, 1]\\nclass = 1'),\n",
       " Text(17.67712433706541, 169.47529411764705, 'Total_Pages <= -0.348\\nentropy = 1.0\\nsamples = 8\\nvalue = [4, 4]\\nclass = 0'),\n",
       " Text(17.045798467884502, 163.07999999999998, 'entropy = 0.0\\nsamples = 3\\nvalue = [3, 0]\\nclass = 0'),\n",
       " Text(18.308450206246317, 163.07999999999998, 'Total_Duration <= 0.2\\nentropy = 0.722\\nsamples = 5\\nvalue = [1, 4]\\nclass = 1'),\n",
       " Text(17.67712433706541, 156.68470588235294, 'entropy = 0.0\\nsamples = 3\\nvalue = [0, 3]\\nclass = 1'),\n",
       " Text(18.939776075427226, 156.68470588235294, 'Region_3 <= 0.776\\nentropy = 1.0\\nsamples = 2\\nvalue = [1, 1]\\nclass = 0'),\n",
       " Text(18.308450206246317, 150.28941176470587, 'entropy = 0.0\\nsamples = 1\\nvalue = [0, 1]\\nclass = 1'),\n",
       " Text(19.57110194460813, 150.28941176470587, 'entropy = 0.0\\nsamples = 1\\nvalue = [1, 0]\\nclass = 0'),\n",
       " Text(38.983139363582794, 182.26588235294116, 'Total_Duration <= -0.585\\nentropy = 0.382\\nsamples = 1347\\nvalue = [1247, 100]\\nclass = 0'),\n",
       " Text(26.910265173836184, 175.87058823529412, 'Month_Sep <= 2.46\\nentropy = 0.902\\nsamples = 63\\nvalue = [43, 20]\\nclass = 0'),\n",
       " Text(24.77954036535062, 169.47529411764705, 'Administrative_Duration <= -0.151\\nentropy = 0.768\\nsamples = 49\\nvalue = [38, 11]\\nclass = 0'),\n",
       " Text(23.043394225103125, 163.07999999999998, 'Total_Duration <= -0.619\\nentropy = 0.632\\nsamples = 44\\nvalue = [37, 7]\\nclass = 0'),\n",
       " Text(21.465079552150854, 156.68470588235294, 'Weekend_1 <= 0.624\\nentropy = 0.971\\nsamples = 10\\nvalue = [6, 4]\\nclass = 0'),\n",
       " Text(20.83375368296995, 150.28941176470587, 'Total_Duration <= -0.621\\nentropy = 0.811\\nsamples = 8\\nvalue = [6, 2]\\nclass = 0'),\n",
       " Text(20.20242781378904, 143.8941176470588, 'entropy = 0.0\\nsamples = 5\\nvalue = [5, 0]\\nclass = 0'),\n",
       " Text(21.465079552150854, 143.8941176470588, 'BounceRates <= 0.369\\nentropy = 0.918\\nsamples = 3\\nvalue = [1, 2]\\nclass = 1'),\n",
       " Text(20.83375368296995, 137.49882352941177, 'entropy = 0.0\\nsamples = 2\\nvalue = [0, 2]\\nclass = 1'),\n",
       " Text(22.096405421331763, 137.49882352941177, 'entropy = 0.0\\nsamples = 1\\nvalue = [1, 0]\\nclass = 0'),\n",
       " Text(22.096405421331763, 150.28941176470587, 'entropy = 0.0\\nsamples = 2\\nvalue = [0, 2]\\nclass = 1'),\n",
       " Text(24.62170889805539, 156.68470588235294, 'Region_2 <= 1.398\\nentropy = 0.431\\nsamples = 34\\nvalue = [31, 3]\\nclass = 0'),\n",
       " Text(23.359057159693577, 150.28941176470587, 'Month_Jul <= 2.511\\nentropy = 0.211\\nsamples = 30\\nvalue = [29, 1]\\nclass = 0'),\n",
       " Text(22.72773129051267, 143.8941176470588, 'entropy = 0.0\\nsamples = 29\\nvalue = [29, 0]\\nclass = 0'),\n",
       " Text(23.990383028874486, 143.8941176470588, 'entropy = 0.0\\nsamples = 1\\nvalue = [0, 1]\\nclass = 1'),\n",
       " Text(25.884360636417206, 150.28941176470587, 'Weekend_0 <= -0.624\\nentropy = 1.0\\nsamples = 4\\nvalue = [2, 2]\\nclass = 0'),\n",
       " Text(25.2530347672363, 143.8941176470588, 'entropy = 0.0\\nsamples = 2\\nvalue = [2, 0]\\nclass = 0'),\n",
       " Text(26.515686505598115, 143.8941176470588, 'entropy = 0.0\\nsamples = 2\\nvalue = [0, 2]\\nclass = 1'),\n",
       " Text(26.515686505598115, 163.07999999999998, 'Region_1 <= 0.237\\nentropy = 0.722\\nsamples = 5\\nvalue = [1, 4]\\nclass = 1'),\n",
       " Text(25.884360636417206, 156.68470588235294, 'entropy = 0.0\\nsamples = 4\\nvalue = [0, 4]\\nclass = 1'),\n",
       " Text(27.147012374779024, 156.68470588235294, 'entropy = 0.0\\nsamples = 1\\nvalue = [1, 0]\\nclass = 0'),\n",
       " Text(29.040989982321744, 169.47529411764705, 'Total_Duration <= -0.607\\nentropy = 0.94\\nsamples = 14\\nvalue = [5, 9]\\nclass = 1'),\n",
       " Text(28.40966411314084, 163.07999999999998, 'entropy = 0.0\\nsamples = 5\\nvalue = [0, 5]\\nclass = 1'),\n",
       " Text(29.672315851502653, 163.07999999999998, 'TrafficType_2 <= 0.39\\nentropy = 0.991\\nsamples = 9\\nvalue = [5, 4]\\nclass = 0'),\n",
       " Text(29.040989982321744, 156.68470588235294, 'ProductRelated <= -0.635\\nentropy = 0.918\\nsamples = 6\\nvalue = [2, 4]\\nclass = 1'),\n",
       " Text(28.40966411314084, 150.28941176470587, 'Region_1 <= 0.237\\nentropy = 0.918\\nsamples = 3\\nvalue = [2, 1]\\nclass = 0'),\n",
       " Text(27.77833824395993, 143.8941176470588, 'entropy = 0.0\\nsamples = 2\\nvalue = [2, 0]\\nclass = 0'),\n",
       " Text(29.040989982321744, 143.8941176470588, 'entropy = 0.0\\nsamples = 1\\nvalue = [0, 1]\\nclass = 1'),\n",
       " Text(29.672315851502653, 150.28941176470587, 'entropy = 0.0\\nsamples = 3\\nvalue = [0, 3]\\nclass = 1'),\n",
       " Text(30.303641720683558, 156.68470588235294, 'entropy = 0.0\\nsamples = 3\\nvalue = [3, 0]\\nclass = 0'),\n",
       " Text(51.05601355332941, 175.87058823529412, 'PageValues <= -0.314\\nentropy = 0.337\\nsamples = 1284\\nvalue = [1204, 80]\\nclass = 0'),\n",
       " Text(43.359263406010605, 169.47529411764705, 'ProductRelated <= -0.011\\nentropy = 0.323\\nsamples = 1255\\nvalue = [1181, 74]\\nclass = 0'),\n",
       " Text(39.17179728933412, 163.07999999999998, 'Informational <= 4.694\\nentropy = 0.378\\nsamples = 819\\nvalue = [759, 60]\\nclass = 0'),\n",
       " Text(36.00530347672363, 156.68470588235294, 'Month_Jul <= 2.511\\nentropy = 0.37\\nsamples = 816\\nvalue = [758, 58]\\nclass = 0'),\n",
       " Text(31.566293459045376, 150.28941176470587, 'BounceRates <= -0.021\\nentropy = 0.339\\nsamples = 731\\nvalue = [685, 46]\\nclass = 0'),\n",
       " Text(30.303641720683558, 143.8941176470588, 'BounceRates <= -0.023\\nentropy = 0.365\\nsamples = 632\\nvalue = [588, 44]\\nclass = 0'),\n",
       " Text(29.672315851502653, 137.49882352941177, 'Informational <= 1.563\\nentropy = 0.359\\nsamples = 631\\nvalue = [588, 43]\\nclass = 0'),\n",
       " Text(29.040989982321744, 131.1035294117647, 'Informational_Duration <= 4.727\\nentropy = 0.371\\nsamples = 602\\nvalue = [559, 43]\\nclass = 0'),\n",
       " Text(28.40966411314084, 124.70823529411764, 'Administrative_Duration <= -0.412\\nentropy = 0.365\\nsamples = 601\\nvalue = [559, 42]\\nclass = 0'),\n",
       " Text(27.77833824395993, 118.31294117647059, 'entropy = 0.0\\nsamples = 24\\nvalue = [24, 0]\\nclass = 0'),\n",
       " Text(29.040989982321744, 118.31294117647059, 'Administrative_Duration <= -0.409\\nentropy = 0.376\\nsamples = 577\\nvalue = [535, 42]\\nclass = 0'),\n",
       " Text(28.40966411314084, 111.91764705882352, 'entropy = 0.0\\nsamples = 1\\nvalue = [0, 1]\\nclass = 1'),\n",
       " Text(29.672315851502653, 111.91764705882352, 'Total_Duration <= -0.543\\nentropy = 0.37\\nsamples = 576\\nvalue = [535, 41]\\nclass = 0'),\n",
       " Text(25.213576900412495, 105.52235294117646, 'Total_Duration <= -0.556\\nentropy = 0.607\\nsamples = 47\\nvalue = [40, 7]\\nclass = 0'),\n",
       " Text(23.31959929286977, 99.12705882352941, 'TrafficType_20 <= 3.868\\nentropy = 0.201\\nsamples = 32\\nvalue = [31, 1]\\nclass = 0'),\n",
       " Text(22.688273423688862, 92.73176470588234, 'entropy = 0.0\\nsamples = 29\\nvalue = [29, 0]\\nclass = 0'),\n",
       " Text(23.950925162050677, 92.73176470588234, 'ExitRates <= -0.332\\nentropy = 0.918\\nsamples = 3\\nvalue = [2, 1]\\nclass = 0'),\n",
       " Text(23.31959929286977, 86.3364705882353, 'entropy = 0.0\\nsamples = 1\\nvalue = [0, 1]\\nclass = 1'),\n",
       " Text(24.582251031231586, 86.3364705882353, 'entropy = 0.0\\nsamples = 2\\nvalue = [2, 0]\\nclass = 0'),\n",
       " Text(27.107554507955214, 99.12705882352941, 'Region_3 <= 0.776\\nentropy = 0.971\\nsamples = 15\\nvalue = [9, 6]\\nclass = 0'),\n",
       " Text(26.47622863877431, 92.73176470588234, 'Month_Dec <= 1.034\\nentropy = 0.994\\nsamples = 11\\nvalue = [5, 6]\\nclass = 1'),\n",
       " Text(25.8449027695934, 86.3364705882353, 'VisitorType_Returning_Visitor <= -1.008\\nentropy = 0.811\\nsamples = 8\\nvalue = [2, 6]\\nclass = 1'),\n",
       " Text(25.213576900412495, 79.94117647058823, 'ProductRelated <= -0.546\\nentropy = 1.0\\nsamples = 4\\nvalue = [2, 2]\\nclass = 0'),\n",
       " Text(24.582251031231586, 73.54588235294116, 'entropy = 0.0\\nsamples = 2\\nvalue = [2, 0]\\nclass = 0'),\n",
       " Text(25.8449027695934, 73.54588235294116, 'entropy = 0.0\\nsamples = 2\\nvalue = [0, 2]\\nclass = 1'),\n",
       " Text(26.47622863877431, 79.94117647058823, 'entropy = 0.0\\nsamples = 4\\nvalue = [0, 4]\\nclass = 1'),\n",
       " Text(27.107554507955214, 86.3364705882353, 'entropy = 0.0\\nsamples = 3\\nvalue = [3, 0]\\nclass = 0'),\n",
       " Text(27.738880377136123, 92.73176470588234, 'entropy = 0.0\\nsamples = 4\\nvalue = [4, 0]\\nclass = 0'),\n",
       " Text(34.131054802592814, 105.52235294117646, 'Total_Pages <= -0.668\\nentropy = 0.344\\nsamples = 529\\nvalue = [495, 34]\\nclass = 0'),\n",
       " Text(33.4997289334119, 99.12705882352941, 'entropy = 0.0\\nsamples = 1\\nvalue = [0, 1]\\nclass = 1'),\n",
       " Text(34.76238067177372, 99.12705882352941, 'BounceRates <= -0.156\\nentropy = 0.337\\nsamples = 528\\nvalue = [495, 33]\\nclass = 0'),\n",
       " Text(34.131054802592814, 92.73176470588234, 'ExitRates <= -0.606\\nentropy = 0.355\\nsamples = 492\\nvalue = [459, 33]\\nclass = 0'),\n",
       " Text(29.001532115497938, 86.3364705882353, 'ProductRelated_Duration <= -0.318\\nentropy = 0.221\\nsamples = 197\\nvalue = [190, 7]\\nclass = 0'),\n",
       " Text(27.738880377136123, 79.94117647058823, 'Administrative_Duration <= -0.268\\nentropy = 0.069\\nsamples = 121\\nvalue = [120, 1]\\nclass = 0'),\n",
       " Text(27.107554507955214, 73.54588235294116, 'Administrative_Duration <= -0.274\\nentropy = 0.371\\nsamples = 14\\nvalue = [13, 1]\\nclass = 0'),\n",
       " Text(26.47622863877431, 67.15058823529412, 'entropy = 0.0\\nsamples = 13\\nvalue = [13, 0]\\nclass = 0'),\n",
       " Text(27.738880377136123, 67.15058823529412, 'entropy = 0.0\\nsamples = 1\\nvalue = [0, 1]\\nclass = 1'),\n",
       " Text(28.370206246317032, 73.54588235294116, 'entropy = 0.0\\nsamples = 107\\nvalue = [107, 0]\\nclass = 0'),\n",
       " Text(30.264183853859752, 79.94117647058823, 'Browser_8 <= 4.816\\nentropy = 0.398\\nsamples = 76\\nvalue = [70, 6]\\nclass = 0'),\n",
       " Text(29.632857984678846, 73.54588235294116, 'ProductRelated_Duration <= -0.314\\nentropy = 0.353\\nsamples = 75\\nvalue = [70, 5]\\nclass = 0'),\n",
       " Text(29.001532115497938, 67.15058823529412, 'entropy = 0.0\\nsamples = 1\\nvalue = [0, 1]\\nclass = 1'),\n",
       " Text(30.264183853859752, 67.15058823529412, 'TrafficType_10 <= 2.464\\nentropy = 0.303\\nsamples = 74\\nvalue = [70, 4]\\nclass = 0'),\n",
       " Text(29.001532115497938, 60.755294117647054, 'Region_3 <= 0.776\\nentropy = 0.189\\nsamples = 69\\nvalue = [67, 2]\\nclass = 0'),\n",
       " Text(28.370206246317032, 54.359999999999985, 'entropy = 0.0\\nsamples = 58\\nvalue = [58, 0]\\nclass = 0'),\n",
       " Text(29.632857984678846, 54.359999999999985, 'Administrative_Duration <= -0.31\\nentropy = 0.684\\nsamples = 11\\nvalue = [9, 2]\\nclass = 0'),\n",
       " Text(29.001532115497938, 47.964705882352945, 'entropy = 0.0\\nsamples = 1\\nvalue = [0, 1]\\nclass = 1'),\n",
       " Text(30.264183853859752, 47.964705882352945, 'BounceRates <= -0.306\\nentropy = 0.469\\nsamples = 10\\nvalue = [9, 1]\\nclass = 0'),\n",
       " Text(29.632857984678846, 41.569411764705876, 'entropy = 0.0\\nsamples = 9\\nvalue = [9, 0]\\nclass = 0'),\n",
       " Text(30.89550972304066, 41.569411764705876, 'entropy = 0.0\\nsamples = 1\\nvalue = [0, 1]\\nclass = 1'),\n",
       " Text(31.52683559222157, 60.755294117647054, 'OperatingSystems_2 <= -0.069\\nentropy = 0.971\\nsamples = 5\\nvalue = [3, 2]\\nclass = 0'),\n",
       " Text(30.89550972304066, 54.359999999999985, 'entropy = 0.0\\nsamples = 2\\nvalue = [0, 2]\\nclass = 1'),\n",
       " Text(32.15816146140248, 54.359999999999985, 'entropy = 0.0\\nsamples = 3\\nvalue = [3, 0]\\nclass = 0'),\n",
       " Text(30.89550972304066, 73.54588235294116, 'entropy = 0.0\\nsamples = 1\\nvalue = [0, 1]\\nclass = 1'),\n",
       " Text(39.260577489687684, 86.3364705882353, 'Informational_Duration <= -0.219\\nentropy = 0.43\\nsamples = 295\\nvalue = [269, 26]\\nclass = 0'),\n",
       " Text(37.52443134944019, 79.94117647058823, 'ExitRates <= 0.064\\nentropy = 0.357\\nsamples = 237\\nvalue = [221, 16]\\nclass = 0'),\n",
       " Text(35.94611667648792, 73.54588235294116, 'ProductRelated <= -0.211\\nentropy = 0.302\\nsamples = 223\\nvalue = [211, 12]\\nclass = 0'),\n",
       " Text(35.31479080730701, 67.15058823529412, 'Administrative <= 3.079\\nentropy = 0.358\\nsamples = 177\\nvalue = [165, 12]\\nclass = 0'),\n",
       " Text(34.68346493812611, 60.755294117647054, 'Total_Pages <= -0.199\\nentropy = 0.337\\nsamples = 176\\nvalue = [165, 11]\\nclass = 0'),\n",
       " Text(33.42081319976429, 54.359999999999985, 'Administrative <= -0.248\\nentropy = 0.28\\nsamples = 165\\nvalue = [157, 8]\\nclass = 0'),\n",
       " Text(32.789487330583384, 47.964705882352945, 'entropy = 0.0\\nsamples = 32\\nvalue = [32, 0]\\nclass = 0'),\n",
       " Text(34.052139068945195, 47.964705882352945, 'Administrative <= 0.659\\nentropy = 0.328\\nsamples = 133\\nvalue = [125, 8]\\nclass = 0'),\n",
       " Text(33.42081319976429, 41.569411764705876, 'TrafficType_99 <= 4.321\\nentropy = 0.394\\nsamples = 103\\nvalue = [95, 8]\\nclass = 0'),\n",
       " Text(32.789487330583384, 35.17411764705881, 'Administrative_Duration <= -0.13\\nentropy = 0.361\\nsamples = 102\\nvalue = [95, 7]\\nclass = 0'),\n",
       " Text(29.9485209192693, 28.778823529411767, 'Month_Oct <= 2.183\\nentropy = 0.571\\nsamples = 37\\nvalue = [32, 5]\\nclass = 0'),\n",
       " Text(28.685869180907485, 22.383529411764698, 'Weekend_1 <= 0.624\\nentropy = 0.345\\nsamples = 31\\nvalue = [29, 2]\\nclass = 0'),\n",
       " Text(28.054543311726576, 15.98823529411763, 'entropy = 0.0\\nsamples = 24\\nvalue = [24, 0]\\nclass = 0'),\n",
       " Text(29.31719505008839, 15.98823529411763, 'Total_Pages <= -0.497\\nentropy = 0.863\\nsamples = 7\\nvalue = [5, 2]\\nclass = 0'),\n",
       " Text(28.685869180907485, 9.592941176470589, 'entropy = 0.0\\nsamples = 4\\nvalue = [4, 0]\\nclass = 0'),\n",
       " Text(29.9485209192693, 9.592941176470589, 'Administrative <= 0.205\\nentropy = 0.918\\nsamples = 3\\nvalue = [1, 2]\\nclass = 1'),\n",
       " Text(29.31719505008839, 3.19764705882352, 'entropy = 0.0\\nsamples = 2\\nvalue = [0, 2]\\nclass = 1'),\n",
       " Text(30.579846788450208, 3.19764705882352, 'entropy = 0.0\\nsamples = 1\\nvalue = [1, 0]\\nclass = 0'),\n",
       " Text(31.211172657631113, 22.383529411764698, 'Total_Pages <= -0.476\\nentropy = 1.0\\nsamples = 6\\nvalue = [3, 3]\\nclass = 0'),\n",
       " Text(30.579846788450208, 15.98823529411763, 'entropy = 0.0\\nsamples = 2\\nvalue = [0, 2]\\nclass = 1'),\n",
       " Text(31.842498526812022, 15.98823529411763, 'TrafficType_1 <= 0.757\\nentropy = 0.811\\nsamples = 4\\nvalue = [3, 1]\\nclass = 0'),\n",
       " Text(31.211172657631113, 9.592941176470589, 'entropy = 0.0\\nsamples = 3\\nvalue = [3, 0]\\nclass = 0'),\n",
       " Text(32.47382439599293, 9.592941176470589, 'entropy = 0.0\\nsamples = 1\\nvalue = [0, 1]\\nclass = 1'),\n",
       " Text(35.63045374189747, 28.778823529411767, 'Total_Pages <= -0.561\\nentropy = 0.198\\nsamples = 65\\nvalue = [63, 2]\\nclass = 0'),\n",
       " Text(34.99912787271656, 22.383529411764698, 'Administrative <= 0.054\\nentropy = 0.503\\nsamples = 18\\nvalue = [16, 2]\\nclass = 0'),\n",
       " Text(34.36780200353565, 15.98823529411763, 'Month_Dec <= 1.034\\nentropy = 0.918\\nsamples = 6\\nvalue = [4, 2]\\nclass = 0'),\n",
       " Text(33.736476134354746, 9.592941176470589, 'entropy = 0.0\\nsamples = 3\\nvalue = [3, 0]\\nclass = 0'),\n",
       " Text(34.99912787271656, 9.592941176470589, 'Administrative_Duration <= 0.578\\nentropy = 0.918\\nsamples = 3\\nvalue = [1, 2]\\nclass = 1'),\n",
       " Text(34.36780200353565, 3.19764705882352, 'entropy = 0.0\\nsamples = 2\\nvalue = [0, 2]\\nclass = 1'),\n",
       " Text(35.63045374189747, 3.19764705882352, 'entropy = 0.0\\nsamples = 1\\nvalue = [1, 0]\\nclass = 0'),\n",
       " Text(35.63045374189747, 15.98823529411763, 'entropy = 0.0\\nsamples = 12\\nvalue = [12, 0]\\nclass = 0'),\n",
       " Text(36.261779611078374, 22.383529411764698, 'entropy = 0.0\\nsamples = 47\\nvalue = [47, 0]\\nclass = 0'),\n",
       " Text(34.052139068945195, 35.17411764705881, 'entropy = 0.0\\nsamples = 1\\nvalue = [0, 1]\\nclass = 1'),\n",
       " Text(34.68346493812611, 41.569411764705876, 'entropy = 0.0\\nsamples = 30\\nvalue = [30, 0]\\nclass = 0'),\n",
       " Text(35.94611667648792, 54.359999999999985, 'Administrative <= 1.264\\nentropy = 0.845\\nsamples = 11\\nvalue = [8, 3]\\nclass = 0'),\n",
       " Text(35.31479080730701, 47.964705882352945, 'entropy = 0.0\\nsamples = 2\\nvalue = [0, 2]\\nclass = 1'),\n",
       " Text(36.57744254566883, 47.964705882352945, 'TrafficType_8 <= 2.885\\nentropy = 0.503\\nsamples = 9\\nvalue = [8, 1]\\nclass = 0'),\n",
       " Text(35.94611667648792, 41.569411764705876, 'entropy = 0.0\\nsamples = 8\\nvalue = [8, 0]\\nclass = 0'),\n",
       " Text(37.208768414849736, 41.569411764705876, 'entropy = 0.0\\nsamples = 1\\nvalue = [0, 1]\\nclass = 1'),\n",
       " Text(35.94611667648792, 60.755294117647054, 'entropy = 0.0\\nsamples = 1\\nvalue = [0, 1]\\nclass = 1'),\n",
       " Text(36.57744254566883, 67.15058823529412, 'entropy = 0.0\\nsamples = 46\\nvalue = [46, 0]\\nclass = 0'),\n",
       " Text(39.10274602239246, 73.54588235294116, 'BounceRates <= -0.224\\nentropy = 0.863\\nsamples = 14\\nvalue = [10, 4]\\nclass = 0'),\n",
       " Text(38.471420153211554, 67.15058823529412, 'Browser_10 <= 4.357\\nentropy = 0.65\\nsamples = 12\\nvalue = [10, 2]\\nclass = 0'),\n",
       " Text(37.84009428403064, 60.755294117647054, 'Total_Duration <= -0.512\\nentropy = 0.439\\nsamples = 11\\nvalue = [10, 1]\\nclass = 0'),\n",
       " Text(37.208768414849736, 54.359999999999985, 'entropy = 0.0\\nsamples = 1\\nvalue = [0, 1]\\nclass = 1'),\n",
       " Text(38.471420153211554, 54.359999999999985, 'entropy = 0.0\\nsamples = 10\\nvalue = [10, 0]\\nclass = 0'),\n",
       " Text(39.10274602239246, 60.755294117647054, 'entropy = 0.0\\nsamples = 1\\nvalue = [0, 1]\\nclass = 1'),\n",
       " Text(39.734071891573365, 67.15058823529412, 'entropy = 0.0\\nsamples = 2\\nvalue = [0, 2]\\nclass = 1'),\n",
       " Text(40.99672362993518, 79.94117647058823, 'Informational_Duration <= -0.195\\nentropy = 0.663\\nsamples = 58\\nvalue = [48, 10]\\nclass = 0'),\n",
       " Text(40.36539776075427, 73.54588235294116, 'entropy = 0.0\\nsamples = 3\\nvalue = [0, 3]\\nclass = 1'),\n",
       " Text(41.62804949911609, 73.54588235294116, 'Administrative <= 0.054\\nentropy = 0.55\\nsamples = 55\\nvalue = [48, 7]\\nclass = 0'),\n",
       " Text(40.99672362993518, 67.15058823529412, 'entropy = 0.0\\nsamples = 24\\nvalue = [24, 0]\\nclass = 0'),\n",
       " Text(42.25937536829699, 67.15058823529412, 'ProductRelated_Duration <= -0.462\\nentropy = 0.771\\nsamples = 31\\nvalue = [24, 7]\\nclass = 0'),\n",
       " Text(41.62804949911609, 60.755294117647054, 'entropy = 0.0\\nsamples = 9\\nvalue = [9, 0]\\nclass = 0'),\n",
       " Text(42.890701237477906, 60.755294117647054, 'VisitorType_New_Visitor <= 1.049\\nentropy = 0.902\\nsamples = 22\\nvalue = [15, 7]\\nclass = 0'),\n",
       " Text(40.99672362993518, 54.359999999999985, 'Month_Aug <= 2.495\\nentropy = 0.696\\nsamples = 16\\nvalue = [13, 3]\\nclass = 0'),\n",
       " Text(40.36539776075427, 47.964705882352945, 'entropy = 0.0\\nsamples = 10\\nvalue = [10, 0]\\nclass = 0'),\n",
       " Text(41.62804949911609, 47.964705882352945, 'BounceRates <= -0.271\\nentropy = 1.0\\nsamples = 6\\nvalue = [3, 3]\\nclass = 0'),\n",
       " Text(40.99672362993518, 41.569411764705876, 'entropy = 0.0\\nsamples = 3\\nvalue = [0, 3]\\nclass = 1'),\n",
       " Text(42.25937536829699, 41.569411764705876, 'entropy = 0.0\\nsamples = 3\\nvalue = [3, 0]\\nclass = 0'),\n",
       " Text(44.78467884502062, 54.359999999999985, 'ProductRelated_Duration <= -0.409\\nentropy = 0.918\\nsamples = 6\\nvalue = [2, 4]\\nclass = 1'),\n",
       " Text(44.15335297583972, 47.964705882352945, 'Total_Pages <= -0.476\\nentropy = 0.918\\nsamples = 3\\nvalue = [2, 1]\\nclass = 0'),\n",
       " Text(43.52202710665881, 41.569411764705876, 'entropy = 0.0\\nsamples = 1\\nvalue = [0, 1]\\nclass = 1'),\n",
       " Text(44.78467884502062, 41.569411764705876, 'entropy = 0.0\\nsamples = 2\\nvalue = [2, 0]\\nclass = 0'),\n",
       " Text(45.416004714201534, 47.964705882352945, 'entropy = 0.0\\nsamples = 3\\nvalue = [0, 3]\\nclass = 1'),\n",
       " Text(35.393706540954625, 92.73176470588234, 'entropy = 0.0\\nsamples = 36\\nvalue = [36, 0]\\nclass = 0'),\n",
       " Text(29.672315851502653, 124.70823529411764, 'entropy = 0.0\\nsamples = 1\\nvalue = [0, 1]\\nclass = 1'),\n",
       " Text(30.303641720683558, 131.1035294117647, 'entropy = 0.0\\nsamples = 29\\nvalue = [29, 0]\\nclass = 0'),\n",
       " Text(30.934967589864467, 137.49882352941177, 'entropy = 0.0\\nsamples = 1\\nvalue = [0, 1]\\nclass = 1'),\n",
       " Text(32.82894519740719, 143.8941176470588, 'ExitRates <= 0.446\\nentropy = 0.143\\nsamples = 99\\nvalue = [97, 2]\\nclass = 0'),\n",
       " Text(32.19761932822628, 137.49882352941177, 'entropy = 0.0\\nsamples = 70\\nvalue = [70, 0]\\nclass = 0'),\n",
       " Text(33.4602710665881, 137.49882352941177, 'ExitRates <= 0.499\\nentropy = 0.362\\nsamples = 29\\nvalue = [27, 2]\\nclass = 0'),\n",
       " Text(32.82894519740719, 131.1035294117647, 'BounceRates <= 0.353\\nentropy = 1.0\\nsamples = 4\\nvalue = [2, 2]\\nclass = 0'),\n",
       " Text(32.19761932822628, 124.70823529411764, 'entropy = 0.0\\nsamples = 2\\nvalue = [2, 0]\\nclass = 0'),\n",
       " Text(33.4602710665881, 124.70823529411764, 'entropy = 0.0\\nsamples = 2\\nvalue = [0, 2]\\nclass = 1'),\n",
       " Text(34.091596935769005, 131.1035294117647, 'entropy = 0.0\\nsamples = 25\\nvalue = [25, 0]\\nclass = 0'),\n",
       " Text(40.44431349440189, 150.28941176470587, 'Administrative_Duration <= 0.162\\nentropy = 0.587\\nsamples = 85\\nvalue = [73, 12]\\nclass = 0'),\n",
       " Text(39.81298762522098, 143.8941176470588, 'Informational_Duration <= -0.135\\nentropy = 0.702\\nsamples = 63\\nvalue = [51, 12]\\nclass = 0'),\n",
       " Text(39.18166175604007, 137.49882352941177, 'Informational <= -0.003\\nentropy = 0.779\\nsamples = 52\\nvalue = [40, 12]\\nclass = 0'),\n",
       " Text(37.919010017678254, 131.1035294117647, 'Browser_10 <= 4.357\\nentropy = 0.583\\nsamples = 43\\nvalue = [37, 6]\\nclass = 0'),\n",
       " Text(37.28768414849735, 124.70823529411764, 'ExitRates <= -0.308\\nentropy = 0.527\\nsamples = 42\\nvalue = [37, 5]\\nclass = 0'),\n",
       " Text(36.65635827931644, 118.31294117647059, 'ExitRates <= -0.397\\nentropy = 0.755\\nsamples = 23\\nvalue = [18, 5]\\nclass = 0'),\n",
       " Text(36.02503241013554, 111.91764705882352, 'Total_Duration <= -0.562\\nentropy = 0.592\\nsamples = 21\\nvalue = [18, 3]\\nclass = 0'),\n",
       " Text(35.393706540954625, 105.52235294117646, 'entropy = 0.0\\nsamples = 1\\nvalue = [0, 1]\\nclass = 1'),\n",
       " Text(36.65635827931644, 105.52235294117646, 'OperatingSystems_3 <= 0.725\\nentropy = 0.469\\nsamples = 20\\nvalue = [18, 2]\\nclass = 0'),\n",
       " Text(36.02503241013554, 99.12705882352941, 'entropy = 0.0\\nsamples = 16\\nvalue = [16, 0]\\nclass = 0'),\n",
       " Text(37.28768414849735, 99.12705882352941, 'Region_3 <= 0.776\\nentropy = 1.0\\nsamples = 4\\nvalue = [2, 2]\\nclass = 0'),\n",
       " Text(36.65635827931644, 92.73176470588234, 'entropy = 0.0\\nsamples = 2\\nvalue = [0, 2]\\nclass = 1'),\n",
       " Text(37.919010017678254, 92.73176470588234, 'entropy = 0.0\\nsamples = 2\\nvalue = [2, 0]\\nclass = 0'),\n",
       " Text(37.28768414849735, 111.91764705882352, 'entropy = 0.0\\nsamples = 2\\nvalue = [0, 2]\\nclass = 1'),\n",
       " Text(37.919010017678254, 118.31294117647059, 'entropy = 0.0\\nsamples = 19\\nvalue = [19, 0]\\nclass = 0'),\n",
       " Text(38.550335886859166, 124.70823529411764, 'entropy = 0.0\\nsamples = 1\\nvalue = [0, 1]\\nclass = 1'),\n",
       " Text(40.44431349440189, 131.1035294117647, 'Total_Duration <= -0.342\\nentropy = 0.918\\nsamples = 9\\nvalue = [3, 6]\\nclass = 1'),\n",
       " Text(39.81298762522098, 124.70823529411764, 'TrafficType_4 <= 1.461\\nentropy = 0.971\\nsamples = 5\\nvalue = [3, 2]\\nclass = 0'),\n",
       " Text(39.18166175604007, 118.31294117647059, 'entropy = 0.0\\nsamples = 3\\nvalue = [3, 0]\\nclass = 0'),\n",
       " Text(40.44431349440189, 118.31294117647059, 'entropy = 0.0\\nsamples = 2\\nvalue = [0, 2]\\nclass = 1'),\n",
       " Text(41.075639363582795, 124.70823529411764, 'entropy = 0.0\\nsamples = 4\\nvalue = [0, 4]\\nclass = 1'),\n",
       " Text(40.44431349440189, 137.49882352941177, 'entropy = 0.0\\nsamples = 11\\nvalue = [11, 0]\\nclass = 0'),\n",
       " Text(41.075639363582795, 143.8941176470588, 'entropy = 0.0\\nsamples = 22\\nvalue = [22, 0]\\nclass = 0'),\n",
       " Text(42.338291101944606, 156.68470588235294, 'Region_1 <= 0.237\\nentropy = 0.918\\nsamples = 3\\nvalue = [1, 2]\\nclass = 1'),\n",
       " Text(41.7069652327637, 150.28941176470587, 'entropy = 0.0\\nsamples = 1\\nvalue = [1, 0]\\nclass = 0'),\n",
       " Text(42.96961697112552, 150.28941176470587, 'entropy = 0.0\\nsamples = 2\\nvalue = [0, 2]\\nclass = 1'),\n",
       " Text(47.546729522687095, 163.07999999999998, 'Administrative_Duration <= 0.142\\nentropy = 0.205\\nsamples = 436\\nvalue = [422, 14]\\nclass = 0'),\n",
       " Text(44.86359457866824, 156.68470588235294, 'ProductRelated <= 0.992\\nentropy = 0.098\\nsamples = 238\\nvalue = [235, 3]\\nclass = 0'),\n",
       " Text(44.23226870948733, 150.28941176470587, 'entropy = 0.0\\nsamples = 172\\nvalue = [172, 0]\\nclass = 0'),\n",
       " Text(45.49492044784915, 150.28941176470587, 'Total_Pages <= 1.06\\nentropy = 0.267\\nsamples = 66\\nvalue = [63, 3]\\nclass = 0'),\n",
       " Text(44.86359457866824, 143.8941176470588, 'ProductRelated <= 1.081\\nentropy = 0.954\\nsamples = 8\\nvalue = [5, 3]\\nclass = 0'),\n",
       " Text(44.23226870948733, 137.49882352941177, 'Administrative_Duration <= -0.406\\nentropy = 0.65\\nsamples = 6\\nvalue = [5, 1]\\nclass = 0'),\n",
       " Text(43.60094284030642, 131.1035294117647, 'entropy = 0.0\\nsamples = 1\\nvalue = [0, 1]\\nclass = 1'),\n",
       " Text(44.86359457866824, 131.1035294117647, 'entropy = 0.0\\nsamples = 5\\nvalue = [5, 0]\\nclass = 0'),\n",
       " Text(45.49492044784915, 137.49882352941177, 'entropy = 0.0\\nsamples = 2\\nvalue = [0, 2]\\nclass = 1'),\n",
       " Text(46.12624631703005, 143.8941176470588, 'entropy = 0.0\\nsamples = 58\\nvalue = [58, 0]\\nclass = 0'),\n",
       " Text(50.229864466705955, 156.68470588235294, 'ExitRates <= -0.487\\nentropy = 0.31\\nsamples = 198\\nvalue = [187, 11]\\nclass = 0'),\n",
       " Text(48.65154979375368, 150.28941176470587, 'Browser_10 <= 4.357\\nentropy = 0.131\\nsamples = 110\\nvalue = [108, 2]\\nclass = 0'),\n",
       " Text(47.38889805539187, 143.8941176470588, 'Browser_4 <= 1.866\\nentropy = 0.076\\nsamples = 108\\nvalue = [107, 1]\\nclass = 0'),\n",
       " Text(46.757572186210965, 137.49882352941177, 'entropy = 0.0\\nsamples = 101\\nvalue = [101, 0]\\nclass = 0'),\n",
       " Text(48.020223924572775, 137.49882352941177, 'ProductRelated_Duration <= 0.243\\nentropy = 0.592\\nsamples = 7\\nvalue = [6, 1]\\nclass = 0'),\n",
       " Text(47.38889805539187, 131.1035294117647, 'entropy = 0.0\\nsamples = 5\\nvalue = [5, 0]\\nclass = 0'),\n",
       " Text(48.65154979375368, 131.1035294117647, 'ProductRelated_Duration <= 0.446\\nentropy = 1.0\\nsamples = 2\\nvalue = [1, 1]\\nclass = 0'),\n",
       " Text(48.020223924572775, 124.70823529411764, 'entropy = 0.0\\nsamples = 1\\nvalue = [0, 1]\\nclass = 1'),\n",
       " Text(49.28287566293459, 124.70823529411764, 'entropy = 0.0\\nsamples = 1\\nvalue = [1, 0]\\nclass = 0'),\n",
       " Text(49.9142015321155, 143.8941176470588, 'Informational_Duration <= 0.326\\nentropy = 1.0\\nsamples = 2\\nvalue = [1, 1]\\nclass = 0'),\n",
       " Text(49.28287566293459, 137.49882352941177, 'entropy = 0.0\\nsamples = 1\\nvalue = [0, 1]\\nclass = 1'),\n",
       " Text(50.545527401296404, 137.49882352941177, 'entropy = 0.0\\nsamples = 1\\nvalue = [1, 0]\\nclass = 0'),\n",
       " Text(51.80817913965822, 150.28941176470587, 'ExitRates <= -0.479\\nentropy = 0.476\\nsamples = 88\\nvalue = [79, 9]\\nclass = 0'),\n",
       " Text(51.17685327047732, 143.8941176470588, 'entropy = 0.0\\nsamples = 3\\nvalue = [0, 3]\\nclass = 1'),\n",
       " Text(52.43950500883913, 143.8941176470588, 'BounceRates <= -0.449\\nentropy = 0.368\\nsamples = 85\\nvalue = [79, 6]\\nclass = 0'),\n",
       " Text(51.80817913965822, 137.49882352941177, 'entropy = 0.0\\nsamples = 1\\nvalue = [0, 1]\\nclass = 1'),\n",
       " Text(53.07083087802004, 137.49882352941177, 'Administrative_Duration <= 0.144\\nentropy = 0.326\\nsamples = 84\\nvalue = [79, 5]\\nclass = 0'),\n",
       " Text(52.43950500883913, 131.1035294117647, 'entropy = 0.0\\nsamples = 1\\nvalue = [0, 1]\\nclass = 1'),\n",
       " Text(53.702156747200945, 131.1035294117647, 'BounceRates <= -0.221\\nentropy = 0.279\\nsamples = 83\\nvalue = [79, 4]\\nclass = 0'),\n",
       " Text(53.07083087802004, 124.70823529411764, 'Administrative_Duration <= 0.9\\nentropy = 0.426\\nsamples = 46\\nvalue = [42, 4]\\nclass = 0'),\n",
       " Text(52.43950500883913, 118.31294117647059, 'BounceRates <= -0.222\\nentropy = 0.65\\nsamples = 24\\nvalue = [20, 4]\\nclass = 0'),\n",
       " Text(51.80817913965822, 111.91764705882352, 'OperatingSystems_3 <= 0.725\\nentropy = 0.559\\nsamples = 23\\nvalue = [20, 3]\\nclass = 0'),\n",
       " Text(50.545527401296404, 105.52235294117646, 'Browser_1 <= 0.744\\nentropy = 0.297\\nsamples = 19\\nvalue = [18, 1]\\nclass = 0'),\n",
       " Text(49.9142015321155, 99.12705882352941, 'entropy = 0.0\\nsamples = 15\\nvalue = [15, 0]\\nclass = 0'),\n",
       " Text(51.17685327047732, 99.12705882352941, 'OperatingSystems_1 <= 0.71\\nentropy = 0.811\\nsamples = 4\\nvalue = [3, 1]\\nclass = 0'),\n",
       " Text(50.545527401296404, 92.73176470588234, 'entropy = 0.0\\nsamples = 1\\nvalue = [0, 1]\\nclass = 1'),\n",
       " Text(51.80817913965822, 92.73176470588234, 'entropy = 0.0\\nsamples = 3\\nvalue = [3, 0]\\nclass = 0'),\n",
       " Text(53.07083087802004, 105.52235294117646, 'TrafficType_2 <= 0.39\\nentropy = 1.0\\nsamples = 4\\nvalue = [2, 2]\\nclass = 0'),\n",
       " Text(52.43950500883913, 99.12705882352941, 'entropy = 0.0\\nsamples = 2\\nvalue = [2, 0]\\nclass = 0'),\n",
       " Text(53.702156747200945, 99.12705882352941, 'entropy = 0.0\\nsamples = 2\\nvalue = [0, 2]\\nclass = 1'),\n",
       " Text(53.07083087802004, 111.91764705882352, 'entropy = 0.0\\nsamples = 1\\nvalue = [0, 1]\\nclass = 1'),\n",
       " Text(53.702156747200945, 118.31294117647059, 'entropy = 0.0\\nsamples = 22\\nvalue = [22, 0]\\nclass = 0'),\n",
       " Text(54.33348261638185, 124.70823529411764, 'entropy = 0.0\\nsamples = 37\\nvalue = [37, 0]\\nclass = 0'),\n",
       " Text(58.7527637006482, 169.47529411764705, 'PageValues <= -0.282\\nentropy = 0.736\\nsamples = 29\\nvalue = [23, 6]\\nclass = 0'),\n",
       " Text(58.1214378314673, 163.07999999999998, 'Administrative <= 3.382\\nentropy = 0.954\\nsamples = 16\\nvalue = [10, 6]\\nclass = 0'),\n",
       " Text(57.49011196228639, 156.68470588235294, 'Browser_1 <= 0.744\\nentropy = 1.0\\nsamples = 12\\nvalue = [6, 6]\\nclass = 0'),\n",
       " Text(56.85878609310548, 150.28941176470587, 'PageValues <= -0.299\\nentropy = 0.918\\nsamples = 9\\nvalue = [6, 3]\\nclass = 0'),\n",
       " Text(56.227460223924574, 143.8941176470588, 'Administrative_Duration <= 0.77\\nentropy = 1.0\\nsamples = 6\\nvalue = [3, 3]\\nclass = 0'),\n",
       " Text(55.59613435474367, 137.49882352941177, 'Total_Duration <= 1.358\\nentropy = 0.811\\nsamples = 4\\nvalue = [3, 1]\\nclass = 0'),\n",
       " Text(54.964808485562756, 131.1035294117647, 'entropy = 0.0\\nsamples = 3\\nvalue = [3, 0]\\nclass = 0'),\n",
       " Text(56.227460223924574, 131.1035294117647, 'entropy = 0.0\\nsamples = 1\\nvalue = [0, 1]\\nclass = 1'),\n",
       " Text(56.85878609310548, 137.49882352941177, 'entropy = 0.0\\nsamples = 2\\nvalue = [0, 2]\\nclass = 1'),\n",
       " Text(57.49011196228639, 143.8941176470588, 'entropy = 0.0\\nsamples = 3\\nvalue = [3, 0]\\nclass = 0'),\n",
       " Text(58.1214378314673, 150.28941176470587, 'entropy = 0.0\\nsamples = 3\\nvalue = [0, 3]\\nclass = 1'),\n",
       " Text(58.7527637006482, 156.68470588235294, 'entropy = 0.0\\nsamples = 4\\nvalue = [4, 0]\\nclass = 0'),\n",
       " Text(59.38408956982911, 163.07999999999998, 'entropy = 0.0\\nsamples = 13\\nvalue = [13, 0]\\nclass = 0'),\n",
       " Text(40.87711697112552, 188.66117647058823, 'PageValues <= -0.314\\nentropy = 0.009\\nsamples = 1284\\nvalue = [1283, 1]\\nclass = 0'),\n",
       " Text(40.24579110194461, 182.26588235294116, 'entropy = 0.0\\nsamples = 1283\\nvalue = [1283, 0]\\nclass = 0'),\n",
       " Text(41.50844284030642, 182.26588235294116, 'entropy = 0.0\\nsamples = 1\\nvalue = [0, 1]\\nclass = 1'),\n",
       " Text(34.465521876841485, 195.0564705882353, 'entropy = 0.0\\nsamples = 2097\\nvalue = [2097, 0]\\nclass = 0'),\n",
       " Text(116.1314380156158, 201.45176470588234, 'ProductRelated <= 0.457\\nentropy = 0.508\\nsamples = 1793\\nvalue = [1591, 202]\\nclass = 0'),\n",
       " Text(96.90266389216264, 195.0564705882353, 'ExitRates <= 1.824\\nentropy = 0.411\\nsamples = 1418\\nvalue = [1301, 117]\\nclass = 0'),\n",
       " Text(79.3158610783736, 188.66117647058823, 'ProductRelated_Duration <= -0.6\\nentropy = 0.44\\nsamples = 1272\\nvalue = [1156, 116]\\nclass = 0'),\n",
       " Text(62.22505598114319, 182.26588235294116, 'Administrative_Duration <= -0.347\\nentropy = 0.872\\nsamples = 41\\nvalue = [29, 12]\\nclass = 0'),\n",
       " Text(60.646741308190926, 175.87058823529412, 'Region_2 <= 1.398\\nentropy = 0.276\\nsamples = 21\\nvalue = [20, 1]\\nclass = 0'),\n",
       " Text(60.01541543901002, 169.47529411764705, 'entropy = 0.0\\nsamples = 18\\nvalue = [18, 0]\\nclass = 0'),\n",
       " Text(61.27806717737183, 169.47529411764705, 'Total_Duration <= -0.622\\nentropy = 0.918\\nsamples = 3\\nvalue = [2, 1]\\nclass = 0'),\n",
       " Text(60.646741308190926, 163.07999999999998, 'entropy = 0.0\\nsamples = 2\\nvalue = [2, 0]\\nclass = 0'),\n",
       " Text(61.909393046552744, 163.07999999999998, 'entropy = 0.0\\nsamples = 1\\nvalue = [0, 1]\\nclass = 1'),\n",
       " Text(63.80337065409547, 175.87058823529412, 'ProductRelated <= -0.68\\nentropy = 0.993\\nsamples = 20\\nvalue = [9, 11]\\nclass = 1'),\n",
       " Text(63.172044784914554, 169.47529411764705, 'entropy = 0.0\\nsamples = 5\\nvalue = [0, 5]\\nclass = 1'),\n",
       " Text(64.43469652327637, 169.47529411764705, 'VisitorType_Returning_Visitor <= -1.008\\nentropy = 0.971\\nsamples = 15\\nvalue = [9, 6]\\nclass = 0'),\n",
       " Text(63.172044784914554, 163.07999999999998, 'Weekend_1 <= 0.624\\nentropy = 0.954\\nsamples = 8\\nvalue = [3, 5]\\nclass = 1'),\n",
       " Text(62.54071891573365, 156.68470588235294, 'OperatingSystems_2 <= -0.069\\nentropy = 0.971\\nsamples = 5\\nvalue = [3, 2]\\nclass = 0'),\n",
       " Text(61.909393046552744, 150.28941176470587, 'entropy = 0.0\\nsamples = 2\\nvalue = [2, 0]\\nclass = 0'),\n",
       " Text(63.172044784914554, 150.28941176470587, 'Administrative_Duration <= -0.213\\nentropy = 0.918\\nsamples = 3\\nvalue = [1, 2]\\nclass = 1'),\n",
       " Text(62.54071891573365, 143.8941176470588, 'entropy = 0.0\\nsamples = 1\\nvalue = [1, 0]\\nclass = 0'),\n",
       " Text(63.80337065409547, 143.8941176470588, 'entropy = 0.0\\nsamples = 2\\nvalue = [0, 2]\\nclass = 1'),\n",
       " Text(63.80337065409547, 156.68470588235294, 'entropy = 0.0\\nsamples = 3\\nvalue = [0, 3]\\nclass = 1'),\n",
       " Text(65.69734826163818, 163.07999999999998, 'ProductRelated_Duration <= -0.601\\nentropy = 0.592\\nsamples = 7\\nvalue = [6, 1]\\nclass = 0'),\n",
       " Text(65.06602239245728, 156.68470588235294, 'entropy = 0.0\\nsamples = 6\\nvalue = [6, 0]\\nclass = 0'),\n",
       " Text(66.3286741308191, 156.68470588235294, 'entropy = 0.0\\nsamples = 1\\nvalue = [0, 1]\\nclass = 1'),\n",
       " Text(96.406666175604, 182.26588235294116, 'ProductRelated <= -0.434\\nentropy = 0.418\\nsamples = 1231\\nvalue = [1127, 104]\\nclass = 0'),\n",
       " Text(79.58651738361814, 175.87058823529412, 'ProductRelated_Duration <= -0.394\\nentropy = 0.314\\nsamples = 513\\nvalue = [484, 29]\\nclass = 0'),\n",
       " Text(75.79856216853271, 169.47529411764705, 'TrafficType_2 <= 0.39\\nentropy = 0.357\\nsamples = 414\\nvalue = [386, 28]\\nclass = 0'),\n",
       " Text(70.11662934590454, 163.07999999999998, 'Browser_4 <= 1.866\\nentropy = 0.246\\nsamples = 269\\nvalue = [258, 11]\\nclass = 0'),\n",
       " Text(67.5913258691809, 156.68470588235294, 'ProductRelated_Duration <= -0.395\\nentropy = 0.181\\nsamples = 256\\nvalue = [249, 7]\\nclass = 0'),\n",
       " Text(66.96000000000001, 150.28941176470587, 'ExitRates <= 1.757\\nentropy = 0.161\\nsamples = 255\\nvalue = [249, 6]\\nclass = 0'),\n",
       " Text(66.3286741308191, 143.8941176470588, 'BounceRates <= -0.063\\nentropy = 0.14\\nsamples = 254\\nvalue = [249, 5]\\nclass = 0'),\n",
       " Text(63.172044784914554, 137.49882352941177, 'TrafficType_10 <= 2.464\\nentropy = 0.053\\nsamples = 166\\nvalue = [165, 1]\\nclass = 0'),\n",
       " Text(62.54071891573365, 131.1035294117647, 'entropy = 0.0\\nsamples = 147\\nvalue = [147, 0]\\nclass = 0'),\n",
       " Text(63.80337065409547, 131.1035294117647, 'Total_Duration <= -0.582\\nentropy = 0.297\\nsamples = 19\\nvalue = [18, 1]\\nclass = 0'),\n",
       " Text(63.172044784914554, 124.70823529411764, 'Total_Duration <= -0.59\\nentropy = 0.918\\nsamples = 3\\nvalue = [2, 1]\\nclass = 0'),\n",
       " Text(62.54071891573365, 118.31294117647059, 'entropy = 0.0\\nsamples = 2\\nvalue = [2, 0]\\nclass = 0'),\n",
       " Text(63.80337065409547, 118.31294117647059, 'entropy = 0.0\\nsamples = 1\\nvalue = [0, 1]\\nclass = 1'),\n",
       " Text(64.43469652327637, 124.70823529411764, 'entropy = 0.0\\nsamples = 16\\nvalue = [16, 0]\\nclass = 0'),\n",
       " Text(69.48530347672363, 137.49882352941177, 'Browser_99 <= 3.558\\nentropy = 0.267\\nsamples = 88\\nvalue = [84, 4]\\nclass = 0'),\n",
       " Text(67.5913258691809, 131.1035294117647, 'Total_Duration <= -0.597\\nentropy = 0.22\\nsamples = 85\\nvalue = [82, 3]\\nclass = 0'),\n",
       " Text(65.69734826163818, 124.70823529411764, 'TrafficType_3 <= 0.895\\nentropy = 0.592\\nsamples = 14\\nvalue = [12, 2]\\nclass = 0'),\n",
       " Text(65.06602239245728, 118.31294117647059, 'entropy = 0.0\\nsamples = 11\\nvalue = [11, 0]\\nclass = 0'),\n",
       " Text(66.3286741308191, 118.31294117647059, 'ExitRates <= 0.319\\nentropy = 0.918\\nsamples = 3\\nvalue = [1, 2]\\nclass = 1'),\n",
       " Text(65.69734826163818, 111.91764705882352, 'entropy = 0.0\\nsamples = 1\\nvalue = [1, 0]\\nclass = 0'),\n",
       " Text(66.96000000000001, 111.91764705882352, 'entropy = 0.0\\nsamples = 2\\nvalue = [0, 2]\\nclass = 1'),\n",
       " Text(69.48530347672363, 124.70823529411764, 'BounceRates <= -0.021\\nentropy = 0.107\\nsamples = 71\\nvalue = [70, 1]\\nclass = 0'),\n",
       " Text(68.85397760754272, 118.31294117647059, 'Region_2 <= 1.398\\nentropy = 0.811\\nsamples = 4\\nvalue = [3, 1]\\nclass = 0'),\n",
       " Text(68.22265173836182, 111.91764705882352, 'entropy = 0.0\\nsamples = 3\\nvalue = [3, 0]\\nclass = 0'),\n",
       " Text(69.48530347672363, 111.91764705882352, 'entropy = 0.0\\nsamples = 1\\nvalue = [0, 1]\\nclass = 1'),\n",
       " Text(70.11662934590454, 118.31294117647059, 'entropy = 0.0\\nsamples = 67\\nvalue = [67, 0]\\nclass = 0'),\n",
       " Text(71.37928108426635, 131.1035294117647, 'ProductRelated_Duration <= -0.478\\nentropy = 0.918\\nsamples = 3\\nvalue = [2, 1]\\nclass = 0'),\n",
       " Text(70.74795521508544, 124.70823529411764, 'entropy = 0.0\\nsamples = 2\\nvalue = [2, 0]\\nclass = 0'),\n",
       " Text(72.01060695344727, 124.70823529411764, 'entropy = 0.0\\nsamples = 1\\nvalue = [0, 1]\\nclass = 1'),\n",
       " Text(67.5913258691809, 143.8941176470588, 'entropy = 0.0\\nsamples = 1\\nvalue = [0, 1]\\nclass = 1'),\n",
       " Text(68.22265173836182, 150.28941176470587, 'entropy = 0.0\\nsamples = 1\\nvalue = [0, 1]\\nclass = 1'),\n",
       " Text(72.64193282262816, 156.68470588235294, 'BounceRates <= 0.403\\nentropy = 0.89\\nsamples = 13\\nvalue = [9, 4]\\nclass = 0'),\n",
       " Text(72.01060695344727, 150.28941176470587, 'OperatingSystems_2 <= -0.069\\nentropy = 0.684\\nsamples = 11\\nvalue = [9, 2]\\nclass = 0'),\n",
       " Text(71.37928108426635, 143.8941176470588, 'entropy = 0.0\\nsamples = 1\\nvalue = [0, 1]\\nclass = 1'),\n",
       " Text(72.64193282262816, 143.8941176470588, 'Region_7 <= 1.805\\nentropy = 0.469\\nsamples = 10\\nvalue = [9, 1]\\nclass = 0'),\n",
       " Text(72.01060695344727, 137.49882352941177, 'entropy = 0.0\\nsamples = 8\\nvalue = [8, 0]\\nclass = 0'),\n",
       " Text(73.27325869180908, 137.49882352941177, 'ExitRates <= -0.265\\nentropy = 1.0\\nsamples = 2\\nvalue = [1, 1]\\nclass = 0'),\n",
       " Text(72.64193282262816, 131.1035294117647, 'entropy = 0.0\\nsamples = 1\\nvalue = [0, 1]\\nclass = 1'),\n",
       " Text(73.90458456098999, 131.1035294117647, 'entropy = 0.0\\nsamples = 1\\nvalue = [1, 0]\\nclass = 0'),\n",
       " Text(73.27325869180908, 150.28941176470587, 'entropy = 0.0\\nsamples = 2\\nvalue = [0, 2]\\nclass = 1'),\n",
       " Text(81.48049499116087, 163.07999999999998, 'Informational_Duration <= 1.725\\nentropy = 0.521\\nsamples = 145\\nvalue = [128, 17]\\nclass = 0'),\n",
       " Text(79.58651738361814, 156.68470588235294, 'Administrative_Duration <= -0.307\\nentropy = 0.487\\nsamples = 142\\nvalue = [127, 15]\\nclass = 0'),\n",
       " Text(77.69253977607544, 150.28941176470587, 'Administrative_Duration <= -0.325\\nentropy = 0.6\\nsamples = 89\\nvalue = [76, 13]\\nclass = 0'),\n",
       " Text(77.06121390689452, 143.8941176470588, 'Total_Duration <= -0.446\\nentropy = 0.548\\nsamples = 87\\nvalue = [76, 11]\\nclass = 0'),\n",
       " Text(75.79856216853271, 137.49882352941177, 'OperatingSystems_3 <= 0.725\\nentropy = 0.491\\nsamples = 84\\nvalue = [75, 9]\\nclass = 0'),\n",
       " Text(75.1672362993518, 131.1035294117647, 'ExitRates <= -0.672\\nentropy = 0.569\\nsamples = 67\\nvalue = [58, 9]\\nclass = 0'),\n",
       " Text(73.90458456098999, 124.70823529411764, 'OperatingSystems_1 <= 0.71\\nentropy = 0.918\\nsamples = 3\\nvalue = [1, 2]\\nclass = 1'),\n",
       " Text(73.27325869180908, 118.31294117647059, 'entropy = 0.0\\nsamples = 2\\nvalue = [0, 2]\\nclass = 1'),\n",
       " Text(74.53591043017089, 118.31294117647059, 'entropy = 0.0\\nsamples = 1\\nvalue = [1, 0]\\nclass = 0'),\n",
       " Text(76.42988803771361, 124.70823529411764, 'Region_8 <= 2.472\\nentropy = 0.498\\nsamples = 64\\nvalue = [57, 7]\\nclass = 0'),\n",
       " Text(75.79856216853271, 118.31294117647059, 'ExitRates <= -0.397\\nentropy = 0.454\\nsamples = 63\\nvalue = [57, 6]\\nclass = 0'),\n",
       " Text(75.1672362993518, 111.91764705882352, 'entropy = 0.0\\nsamples = 14\\nvalue = [14, 0]\\nclass = 0'),\n",
       " Text(76.42988803771361, 111.91764705882352, 'ProductRelated <= -0.59\\nentropy = 0.536\\nsamples = 49\\nvalue = [43, 6]\\nclass = 0'),\n",
       " Text(75.1672362993518, 105.52235294117646, 'Total_Duration <= -0.609\\nentropy = 0.25\\nsamples = 24\\nvalue = [23, 1]\\nclass = 0'),\n",
       " Text(74.53591043017089, 99.12705882352941, 'ProductRelated_Duration <= -0.592\\nentropy = 0.722\\nsamples = 5\\nvalue = [4, 1]\\nclass = 0'),\n",
       " Text(73.90458456098999, 92.73176470588234, 'entropy = 0.0\\nsamples = 4\\nvalue = [4, 0]\\nclass = 0'),\n",
       " Text(75.1672362993518, 92.73176470588234, 'entropy = 0.0\\nsamples = 1\\nvalue = [0, 1]\\nclass = 1'),\n",
       " Text(75.79856216853271, 99.12705882352941, 'entropy = 0.0\\nsamples = 19\\nvalue = [19, 0]\\nclass = 0'),\n",
       " Text(77.69253977607544, 105.52235294117646, 'ProductRelated <= -0.468\\nentropy = 0.722\\nsamples = 25\\nvalue = [20, 5]\\nclass = 0'),\n",
       " Text(77.06121390689452, 99.12705882352941, 'ExitRates <= 0.307\\nentropy = 0.831\\nsamples = 19\\nvalue = [14, 5]\\nclass = 0'),\n",
       " Text(76.42988803771361, 92.73176470588234, 'BounceRates <= 0.067\\nentropy = 0.94\\nsamples = 14\\nvalue = [9, 5]\\nclass = 0'),\n",
       " Text(75.79856216853271, 86.3364705882353, 'ProductRelated_Duration <= -0.56\\nentropy = 0.811\\nsamples = 12\\nvalue = [9, 3]\\nclass = 0'),\n",
       " Text(75.1672362993518, 79.94117647058823, 'entropy = 0.0\\nsamples = 2\\nvalue = [0, 2]\\nclass = 1'),\n",
       " Text(76.42988803771361, 79.94117647058823, 'ProductRelated <= -0.568\\nentropy = 0.469\\nsamples = 10\\nvalue = [9, 1]\\nclass = 0'),\n",
       " Text(75.79856216853271, 73.54588235294116, 'entropy = 0.0\\nsamples = 1\\nvalue = [0, 1]\\nclass = 1'),\n",
       " Text(77.06121390689452, 73.54588235294116, 'entropy = 0.0\\nsamples = 9\\nvalue = [9, 0]\\nclass = 0'),\n",
       " Text(77.06121390689452, 86.3364705882353, 'entropy = 0.0\\nsamples = 2\\nvalue = [0, 2]\\nclass = 1'),\n",
       " Text(77.69253977607544, 92.73176470588234, 'entropy = 0.0\\nsamples = 5\\nvalue = [5, 0]\\nclass = 0'),\n",
       " Text(78.32386564525633, 99.12705882352941, 'entropy = 0.0\\nsamples = 6\\nvalue = [6, 0]\\nclass = 0'),\n",
       " Text(77.06121390689452, 118.31294117647059, 'entropy = 0.0\\nsamples = 1\\nvalue = [0, 1]\\nclass = 1'),\n",
       " Text(76.42988803771361, 131.1035294117647, 'entropy = 0.0\\nsamples = 17\\nvalue = [17, 0]\\nclass = 0'),\n",
       " Text(78.32386564525633, 137.49882352941177, 'Region_3 <= 0.776\\nentropy = 0.918\\nsamples = 3\\nvalue = [1, 2]\\nclass = 1'),\n",
       " Text(77.69253977607544, 131.1035294117647, 'entropy = 0.0\\nsamples = 1\\nvalue = [1, 0]\\nclass = 0'),\n",
       " Text(78.95519151443725, 131.1035294117647, 'entropy = 0.0\\nsamples = 2\\nvalue = [0, 2]\\nclass = 1'),\n",
       " Text(78.32386564525633, 143.8941176470588, 'entropy = 0.0\\nsamples = 2\\nvalue = [0, 2]\\nclass = 1'),\n",
       " Text(81.48049499116087, 150.28941176470587, 'Administrative <= 1.567\\nentropy = 0.232\\nsamples = 53\\nvalue = [51, 2]\\nclass = 0'),\n",
       " Text(80.21784325279906, 143.8941176470588, 'Region_3 <= 0.776\\nentropy = 0.139\\nsamples = 51\\nvalue = [50, 1]\\nclass = 0'),\n",
       " Text(79.58651738361814, 137.49882352941177, 'entropy = 0.0\\nsamples = 42\\nvalue = [42, 0]\\nclass = 0'),\n",
       " Text(80.84916912197997, 137.49882352941177, 'ExitRates <= -0.225\\nentropy = 0.503\\nsamples = 9\\nvalue = [8, 1]\\nclass = 0'),\n",
       " Text(80.21784325279906, 131.1035294117647, 'entropy = 0.0\\nsamples = 7\\nvalue = [7, 0]\\nclass = 0'),\n",
       " Text(81.48049499116087, 131.1035294117647, 'ProductRelated_Duration <= -0.519\\nentropy = 1.0\\nsamples = 2\\nvalue = [1, 1]\\nclass = 0'),\n",
       " Text(80.84916912197997, 124.70823529411764, 'entropy = 0.0\\nsamples = 1\\nvalue = [0, 1]\\nclass = 1'),\n",
       " Text(82.11182086034178, 124.70823529411764, 'entropy = 0.0\\nsamples = 1\\nvalue = [1, 0]\\nclass = 0'),\n",
       " Text(82.74314672952269, 143.8941176470588, 'OperatingSystems_2 <= -0.069\\nentropy = 1.0\\nsamples = 2\\nvalue = [1, 1]\\nclass = 0'),\n",
       " Text(82.11182086034178, 137.49882352941177, 'entropy = 0.0\\nsamples = 1\\nvalue = [0, 1]\\nclass = 1'),\n",
       " Text(83.37447259870359, 137.49882352941177, 'entropy = 0.0\\nsamples = 1\\nvalue = [1, 0]\\nclass = 0'),\n",
       " Text(83.37447259870359, 156.68470588235294, 'VisitorType_Returning_Visitor <= -1.008\\nentropy = 0.918\\nsamples = 3\\nvalue = [1, 2]\\nclass = 1'),\n",
       " Text(82.74314672952269, 150.28941176470587, 'entropy = 0.0\\nsamples = 2\\nvalue = [0, 2]\\nclass = 1'),\n",
       " Text(84.0057984678845, 150.28941176470587, 'entropy = 0.0\\nsamples = 1\\nvalue = [1, 0]\\nclass = 0'),\n",
       " Text(83.37447259870359, 169.47529411764705, 'ProductRelated_Duration <= 0.595\\nentropy = 0.081\\nsamples = 99\\nvalue = [98, 1]\\nclass = 0'),\n",
       " Text(82.74314672952269, 163.07999999999998, 'entropy = 0.0\\nsamples = 98\\nvalue = [98, 0]\\nclass = 0'),\n",
       " Text(84.0057984678845, 163.07999999999998, 'entropy = 0.0\\nsamples = 1\\nvalue = [0, 1]\\nclass = 1'),\n",
       " Text(113.22681496758986, 175.87058823529412, 'TrafficType_3 <= 0.895\\nentropy = 0.483\\nsamples = 718\\nvalue = [643, 75]\\nclass = 0'),\n",
       " Text(108.67189746611668, 169.47529411764705, 'Administrative_Duration <= -0.091\\nentropy = 0.517\\nsamples = 622\\nvalue = [550, 72]\\nclass = 0'),\n",
       " Text(103.98134354743665, 163.07999999999998, 'TrafficType_13 <= 1.86\\nentropy = 0.566\\nsamples = 466\\nvalue = [404, 62]\\nclass = 0'),\n",
       " Text(103.35001767825575, 156.68470588235294, 'Administrative <= 0.054\\nentropy = 0.593\\nsamples = 433\\nvalue = [371, 62]\\nclass = 0'),\n",
       " Text(97.75686505598115, 150.28941176470587, 'ProductRelated_Duration <= 0.175\\nentropy = 0.545\\nsamples = 382\\nvalue = [334, 48]\\nclass = 0'),\n",
       " Text(91.6211667648792, 143.8941176470588, 'ProductRelated_Duration <= -0.021\\nentropy = 0.6\\nsamples = 301\\nvalue = [257, 44]\\nclass = 0'),\n",
       " Text(87.79375368296995, 137.49882352941177, 'Informational_Duration <= 0.645\\nentropy = 0.522\\nsamples = 247\\nvalue = [218, 29]\\nclass = 0'),\n",
       " Text(85.58411314083678, 131.1035294117647, 'OperatingSystems_99 <= 5.223\\nentropy = 0.485\\nsamples = 238\\nvalue = [213, 25]\\nclass = 0'),\n",
       " Text(84.32146140247495, 124.70823529411764, 'Total_Duration <= -0.144\\nentropy = 0.462\\nsamples = 235\\nvalue = [212, 23]\\nclass = 0'),\n",
       " Text(83.69013553329405, 118.31294117647059, 'Administrative_Duration <= -0.127\\nentropy = 0.495\\nsamples = 212\\nvalue = [189, 23]\\nclass = 0'),\n",
       " Text(83.05880966411314, 111.91764705882352, 'Administrative_Duration <= -0.401\\nentropy = 0.469\\nsamples = 210\\nvalue = [189, 21]\\nclass = 0'),\n",
       " Text(82.42748379493223, 105.52235294117646, 'ExitRates <= 0.199\\nentropy = 0.525\\nsamples = 177\\nvalue = [156, 21]\\nclass = 0'),\n",
       " Text(81.79615792575133, 99.12705882352941, 'BounceRates <= -0.165\\nentropy = 0.563\\nsamples = 159\\nvalue = [138, 21]\\nclass = 0'),\n",
       " Text(78.95519151443725, 92.73176470588234, 'ProductRelated_Duration <= -0.452\\nentropy = 0.462\\nsamples = 133\\nvalue = [120, 13]\\nclass = 0'),\n",
       " Text(78.32386564525633, 86.3364705882353, 'entropy = 0.0\\nsamples = 25\\nvalue = [25, 0]\\nclass = 0'),\n",
       " Text(79.58651738361814, 86.3364705882353, 'Total_Duration <= -0.476\\nentropy = 0.53\\nsamples = 108\\nvalue = [95, 13]\\nclass = 0'),\n",
       " Text(78.95519151443725, 79.94117647058823, 'entropy = 0.0\\nsamples = 1\\nvalue = [0, 1]\\nclass = 1'),\n",
       " Text(80.21784325279906, 79.94117647058823, 'ProductRelated_Duration <= -0.105\\nentropy = 0.506\\nsamples = 107\\nvalue = [95, 12]\\nclass = 0'),\n",
       " Text(79.58651738361814, 73.54588235294116, 'ExitRates <= -0.16\\nentropy = 0.481\\nsamples = 106\\nvalue = [95, 11]\\nclass = 0'),\n",
       " Text(78.95519151443725, 67.15058823529412, 'ExitRates <= -0.247\\nentropy = 0.528\\nsamples = 92\\nvalue = [81, 11]\\nclass = 0'),\n",
       " Text(77.21904537418975, 60.755294117647054, 'ExitRates <= -0.4\\nentropy = 0.457\\nsamples = 83\\nvalue = [75, 8]\\nclass = 0'),\n",
       " Text(76.58771950500883, 54.359999999999985, 'ExitRates <= -0.463\\nentropy = 0.538\\nsamples = 65\\nvalue = [57, 8]\\nclass = 0'),\n",
       " Text(75.00940483205657, 47.964705882352945, 'ExitRates <= -0.582\\nentropy = 0.381\\nsamples = 54\\nvalue = [50, 4]\\nclass = 0'),\n",
       " Text(74.37807896287566, 41.569411764705876, 'ExitRates <= -0.627\\nentropy = 0.513\\nsamples = 35\\nvalue = [31, 4]\\nclass = 0'),\n",
       " Text(73.11542722451385, 35.17411764705881, 'BounceRates <= -0.353\\nentropy = 0.229\\nsamples = 27\\nvalue = [26, 1]\\nclass = 0'),\n",
       " Text(72.48410135533294, 28.778823529411767, 'entropy = 0.0\\nsamples = 24\\nvalue = [24, 0]\\nclass = 0'),\n",
       " Text(73.74675309369475, 28.778823529411767, 'Total_Pages <= 0.036\\nentropy = 0.918\\nsamples = 3\\nvalue = [2, 1]\\nclass = 0'),\n",
       " Text(73.11542722451385, 22.383529411764698, 'entropy = 0.0\\nsamples = 2\\nvalue = [2, 0]\\nclass = 0'),\n",
       " Text(74.37807896287566, 22.383529411764698, 'entropy = 0.0\\nsamples = 1\\nvalue = [0, 1]\\nclass = 1'),\n",
       " Text(75.64073070123747, 35.17411764705881, 'ProductRelated <= -0.367\\nentropy = 0.954\\nsamples = 8\\nvalue = [5, 3]\\nclass = 0'),\n",
       " Text(75.00940483205657, 28.778823529411767, 'entropy = 0.0\\nsamples = 3\\nvalue = [3, 0]\\nclass = 0'),\n",
       " Text(76.27205657041839, 28.778823529411767, 'ExitRates <= -0.596\\nentropy = 0.971\\nsamples = 5\\nvalue = [2, 3]\\nclass = 1'),\n",
       " Text(75.64073070123747, 22.383529411764698, 'entropy = 0.0\\nsamples = 2\\nvalue = [0, 2]\\nclass = 1'),\n",
       " Text(76.9033824395993, 22.383529411764698, 'Browser_1 <= 0.744\\nentropy = 0.918\\nsamples = 3\\nvalue = [2, 1]\\nclass = 0'),\n",
       " Text(76.27205657041839, 15.98823529411763, 'entropy = 0.0\\nsamples = 2\\nvalue = [2, 0]\\nclass = 0'),\n",
       " Text(77.5347083087802, 15.98823529411763, 'entropy = 0.0\\nsamples = 1\\nvalue = [0, 1]\\nclass = 1'),\n",
       " Text(75.64073070123747, 41.569411764705876, 'entropy = 0.0\\nsamples = 19\\nvalue = [19, 0]\\nclass = 0'),\n",
       " Text(78.16603417796111, 47.964705882352945, 'Region_3 <= 0.776\\nentropy = 0.946\\nsamples = 11\\nvalue = [7, 4]\\nclass = 0'),\n",
       " Text(77.5347083087802, 41.569411764705876, 'ExitRates <= -0.419\\nentropy = 0.764\\nsamples = 9\\nvalue = [7, 2]\\nclass = 0'),\n",
       " Text(76.9033824395993, 35.17411764705881, 'entropy = 0.0\\nsamples = 6\\nvalue = [6, 0]\\nclass = 0'),\n",
       " Text(78.16603417796111, 35.17411764705881, 'TrafficType_2 <= 0.39\\nentropy = 0.918\\nsamples = 3\\nvalue = [1, 2]\\nclass = 1'),\n",
       " Text(77.5347083087802, 28.778823529411767, 'entropy = 0.0\\nsamples = 2\\nvalue = [0, 2]\\nclass = 1'),\n",
       " Text(78.79736004714202, 28.778823529411767, 'entropy = 0.0\\nsamples = 1\\nvalue = [1, 0]\\nclass = 0'),\n",
       " Text(78.79736004714202, 41.569411764705876, 'entropy = 0.0\\nsamples = 2\\nvalue = [0, 2]\\nclass = 1'),\n",
       " Text(77.85037124337066, 54.359999999999985, 'entropy = 0.0\\nsamples = 18\\nvalue = [18, 0]\\nclass = 0'),\n",
       " Text(80.69133765468474, 60.755294117647054, 'Total_Duration <= -0.212\\nentropy = 0.918\\nsamples = 9\\nvalue = [6, 3]\\nclass = 0'),\n",
       " Text(80.06001178550383, 54.359999999999985, 'Region_1 <= 0.237\\nentropy = 1.0\\nsamples = 6\\nvalue = [3, 3]\\nclass = 0'),\n",
       " Text(79.42868591632292, 47.964705882352945, 'entropy = 0.0\\nsamples = 2\\nvalue = [0, 2]\\nclass = 1'),\n",
       " Text(80.69133765468474, 47.964705882352945, 'Total_Pages <= -0.444\\nentropy = 0.811\\nsamples = 4\\nvalue = [3, 1]\\nclass = 0'),\n",
       " Text(80.06001178550383, 41.569411764705876, 'entropy = 0.0\\nsamples = 1\\nvalue = [0, 1]\\nclass = 1'),\n",
       " Text(81.32266352386564, 41.569411764705876, 'entropy = 0.0\\nsamples = 3\\nvalue = [3, 0]\\nclass = 0'),\n",
       " Text(81.32266352386564, 54.359999999999985, 'entropy = 0.0\\nsamples = 3\\nvalue = [3, 0]\\nclass = 0'),\n",
       " Text(80.21784325279906, 67.15058823529412, 'entropy = 0.0\\nsamples = 14\\nvalue = [14, 0]\\nclass = 0'),\n",
       " Text(80.84916912197997, 73.54588235294116, 'entropy = 0.0\\nsamples = 1\\nvalue = [0, 1]\\nclass = 1'),\n",
       " Text(84.63712433706542, 92.73176470588234, 'Total_Pages <= -0.263\\nentropy = 0.89\\nsamples = 26\\nvalue = [18, 8]\\nclass = 0'),\n",
       " Text(84.0057984678845, 86.3364705882353, 'ExitRates <= -0.171\\nentropy = 0.998\\nsamples = 17\\nvalue = [9, 8]\\nclass = 0'),\n",
       " Text(82.74314672952269, 79.94117647058823, 'Total_Duration <= -0.47\\nentropy = 0.592\\nsamples = 7\\nvalue = [6, 1]\\nclass = 0'),\n",
       " Text(82.11182086034178, 73.54588235294116, 'entropy = 0.0\\nsamples = 1\\nvalue = [0, 1]\\nclass = 1'),\n",
       " Text(83.37447259870359, 73.54588235294116, 'entropy = 0.0\\nsamples = 6\\nvalue = [6, 0]\\nclass = 0'),\n",
       " Text(85.26845020624631, 79.94117647058823, 'BounceRates <= -0.052\\nentropy = 0.881\\nsamples = 10\\nvalue = [3, 7]\\nclass = 1'),\n",
       " Text(84.63712433706542, 73.54588235294116, 'ProductRelated_Duration <= -0.333\\nentropy = 0.971\\nsamples = 5\\nvalue = [3, 2]\\nclass = 0'),\n",
       " Text(84.0057984678845, 67.15058823529412, 'entropy = 0.0\\nsamples = 2\\nvalue = [2, 0]\\nclass = 0'),\n",
       " Text(85.26845020624631, 67.15058823529412, 'Total_Pages <= -0.455\\nentropy = 0.918\\nsamples = 3\\nvalue = [1, 2]\\nclass = 1'),\n",
       " Text(84.63712433706542, 60.755294117647054, 'entropy = 0.0\\nsamples = 1\\nvalue = [1, 0]\\nclass = 0'),\n",
       " Text(85.89977607542723, 60.755294117647054, 'entropy = 0.0\\nsamples = 2\\nvalue = [0, 2]\\nclass = 1'),\n",
       " Text(85.89977607542723, 73.54588235294116, 'entropy = 0.0\\nsamples = 5\\nvalue = [0, 5]\\nclass = 1'),\n",
       " Text(85.26845020624631, 86.3364705882353, 'entropy = 0.0\\nsamples = 9\\nvalue = [9, 0]\\nclass = 0'),\n",
       " Text(83.05880966411314, 99.12705882352941, 'entropy = 0.0\\nsamples = 18\\nvalue = [18, 0]\\nclass = 0'),\n",
       " Text(83.69013553329405, 105.52235294117646, 'entropy = 0.0\\nsamples = 33\\nvalue = [33, 0]\\nclass = 0'),\n",
       " Text(84.32146140247495, 111.91764705882352, 'entropy = 0.0\\nsamples = 2\\nvalue = [0, 2]\\nclass = 1'),\n",
       " Text(84.95278727165586, 118.31294117647059, 'entropy = 0.0\\nsamples = 23\\nvalue = [23, 0]\\nclass = 0'),\n",
       " Text(86.84676487919859, 124.70823529411764, 'ProductRelated <= -0.256\\nentropy = 0.918\\nsamples = 3\\nvalue = [1, 2]\\nclass = 1'),\n",
       " Text(86.21543901001768, 118.31294117647059, 'entropy = 0.0\\nsamples = 1\\nvalue = [1, 0]\\nclass = 0'),\n",
       " Text(87.4780907483795, 118.31294117647059, 'entropy = 0.0\\nsamples = 2\\nvalue = [0, 2]\\nclass = 1'),\n",
       " Text(90.00339422510312, 131.1035294117647, 'ProductRelated_Duration <= -0.257\\nentropy = 0.991\\nsamples = 9\\nvalue = [5, 4]\\nclass = 0'),\n",
       " Text(89.37206835592222, 124.70823529411764, 'OperatingSystems_3 <= 0.725\\nentropy = 0.722\\nsamples = 5\\nvalue = [1, 4]\\nclass = 1'),\n",
       " Text(88.74074248674131, 118.31294117647059, 'entropy = 0.0\\nsamples = 4\\nvalue = [0, 4]\\nclass = 1'),\n",
       " Text(90.00339422510312, 118.31294117647059, 'entropy = 0.0\\nsamples = 1\\nvalue = [1, 0]\\nclass = 0'),\n",
       " Text(90.63472009428403, 124.70823529411764, 'entropy = 0.0\\nsamples = 4\\nvalue = [4, 0]\\nclass = 0'),\n",
       " Text(95.44857984678845, 137.49882352941177, 'ProductRelated_Duration <= 0.036\\nentropy = 0.852\\nsamples = 54\\nvalue = [39, 15]\\nclass = 0'),\n",
       " Text(92.52869770182676, 131.1035294117647, 'TrafficType_1 <= 0.757\\nentropy = 0.996\\nsamples = 13\\nvalue = [6, 7]\\nclass = 1'),\n",
       " Text(91.89737183264585, 124.70823529411764, 'Region_3 <= 0.776\\nentropy = 0.946\\nsamples = 11\\nvalue = [4, 7]\\nclass = 1'),\n",
       " Text(91.26604596346493, 118.31294117647059, 'ExitRates <= -0.1\\nentropy = 0.764\\nsamples = 9\\nvalue = [2, 7]\\nclass = 1'),\n",
       " Text(90.63472009428403, 111.91764705882352, 'Administrative_Duration <= -0.443\\nentropy = 0.544\\nsamples = 8\\nvalue = [1, 7]\\nclass = 1'),\n",
       " Text(90.00339422510312, 105.52235294117646, 'entropy = 0.0\\nsamples = 6\\nvalue = [0, 6]\\nclass = 1'),\n",
       " Text(91.26604596346493, 105.52235294117646, 'Region_1 <= 0.237\\nentropy = 1.0\\nsamples = 2\\nvalue = [1, 1]\\nclass = 0'),\n",
       " Text(90.63472009428403, 99.12705882352941, 'entropy = 0.0\\nsamples = 1\\nvalue = [1, 0]\\nclass = 0'),\n",
       " Text(91.89737183264585, 99.12705882352941, 'entropy = 0.0\\nsamples = 1\\nvalue = [0, 1]\\nclass = 1'),\n",
       " Text(91.89737183264585, 111.91764705882352, 'entropy = 0.0\\nsamples = 1\\nvalue = [1, 0]\\nclass = 0'),\n",
       " Text(92.52869770182676, 118.31294117647059, 'entropy = 0.0\\nsamples = 2\\nvalue = [2, 0]\\nclass = 0'),\n",
       " Text(93.16002357100766, 124.70823529411764, 'entropy = 0.0\\nsamples = 2\\nvalue = [2, 0]\\nclass = 0'),\n",
       " Text(98.36846199175015, 131.1035294117647, 'VisitorType_New_Visitor <= 1.049\\nentropy = 0.712\\nsamples = 41\\nvalue = [33, 8]\\nclass = 0'),\n",
       " Text(96.00098998232174, 124.70823529411764, 'ProductRelated_Duration <= 0.158\\nentropy = 0.581\\nsamples = 36\\nvalue = [31, 5]\\nclass = 0'),\n",
       " Text(94.42267530936948, 118.31294117647059, 'ExitRates <= 0.161\\nentropy = 0.439\\nsamples = 33\\nvalue = [30, 3]\\nclass = 0'),\n",
       " Text(93.16002357100766, 111.91764705882352, 'Region_9 <= 2.272\\nentropy = 0.211\\nsamples = 30\\nvalue = [29, 1]\\nclass = 0'),\n",
       " Text(92.52869770182676, 105.52235294117646, 'entropy = 0.0\\nsamples = 28\\nvalue = [28, 0]\\nclass = 0'),\n",
       " Text(93.79134944018857, 105.52235294117646, 'Browser_1 <= 0.744\\nentropy = 1.0\\nsamples = 2\\nvalue = [1, 1]\\nclass = 0'),\n",
       " Text(93.16002357100766, 99.12705882352941, 'entropy = 0.0\\nsamples = 1\\nvalue = [1, 0]\\nclass = 0'),\n",
       " Text(94.42267530936948, 99.12705882352941, 'entropy = 0.0\\nsamples = 1\\nvalue = [0, 1]\\nclass = 1'),\n",
       " Text(95.68532704773129, 111.91764705882352, 'Total_Duration <= 0.051\\nentropy = 0.918\\nsamples = 3\\nvalue = [1, 2]\\nclass = 1'),\n",
       " Text(95.05400117855038, 105.52235294117646, 'entropy = 0.0\\nsamples = 2\\nvalue = [0, 2]\\nclass = 1'),\n",
       " Text(96.3166529169122, 105.52235294117646, 'entropy = 0.0\\nsamples = 1\\nvalue = [1, 0]\\nclass = 0'),\n",
       " Text(97.57930465527402, 118.31294117647059, 'ProductRelated <= 0.156\\nentropy = 0.918\\nsamples = 3\\nvalue = [1, 2]\\nclass = 1'),\n",
       " Text(96.9479787860931, 111.91764705882352, 'entropy = 0.0\\nsamples = 1\\nvalue = [1, 0]\\nclass = 0'),\n",
       " Text(98.21063052445493, 111.91764705882352, 'entropy = 0.0\\nsamples = 2\\nvalue = [0, 2]\\nclass = 1'),\n",
       " Text(100.73593400117855, 124.70823529411764, 'ProductRelated <= -0.1\\nentropy = 0.971\\nsamples = 5\\nvalue = [2, 3]\\nclass = 1'),\n",
       " Text(100.10460813199765, 118.31294117647059, 'ExitRates <= -0.385\\nentropy = 0.918\\nsamples = 3\\nvalue = [2, 1]\\nclass = 0'),\n",
       " Text(99.47328226281674, 111.91764705882352, 'entropy = 0.0\\nsamples = 2\\nvalue = [2, 0]\\nclass = 0'),\n",
       " Text(100.73593400117855, 111.91764705882352, 'entropy = 0.0\\nsamples = 1\\nvalue = [0, 1]\\nclass = 1'),\n",
       " Text(101.36725987035946, 118.31294117647059, 'entropy = 0.0\\nsamples = 2\\nvalue = [0, 2]\\nclass = 1'),\n",
       " Text(103.89256334708308, 143.8941176470588, 'ProductRelated <= 0.123\\nentropy = 0.284\\nsamples = 81\\nvalue = [77, 4]\\nclass = 0'),\n",
       " Text(103.26123747790218, 137.49882352941177, 'entropy = 0.0\\nsamples = 40\\nvalue = [40, 0]\\nclass = 0'),\n",
       " Text(104.523889216264, 137.49882352941177, 'ProductRelated <= 0.324\\nentropy = 0.461\\nsamples = 41\\nvalue = [37, 4]\\nclass = 0'),\n",
       " Text(103.89256334708308, 131.1035294117647, 'ExitRates <= -0.299\\nentropy = 0.722\\nsamples = 20\\nvalue = [16, 4]\\nclass = 0'),\n",
       " Text(103.26123747790218, 124.70823529411764, 'ProductRelated <= 0.301\\nentropy = 0.918\\nsamples = 12\\nvalue = [8, 4]\\nclass = 0'),\n",
       " Text(102.62991160872127, 118.31294117647059, 'Total_Pages <= 0.1\\nentropy = 0.722\\nsamples = 10\\nvalue = [8, 2]\\nclass = 0'),\n",
       " Text(101.99858573954037, 111.91764705882352, 'VisitorType_New_Visitor <= 1.049\\nentropy = 0.918\\nsamples = 3\\nvalue = [1, 2]\\nclass = 1'),\n",
       " Text(101.36725987035946, 105.52235294117646, 'entropy = 0.0\\nsamples = 2\\nvalue = [0, 2]\\nclass = 1'),\n",
       " Text(102.62991160872127, 105.52235294117646, 'entropy = 0.0\\nsamples = 1\\nvalue = [1, 0]\\nclass = 0'),\n",
       " Text(103.26123747790218, 111.91764705882352, 'entropy = 0.0\\nsamples = 7\\nvalue = [7, 0]\\nclass = 0'),\n",
       " Text(103.89256334708308, 118.31294117647059, 'entropy = 0.0\\nsamples = 2\\nvalue = [0, 2]\\nclass = 1'),\n",
       " Text(104.523889216264, 124.70823529411764, 'entropy = 0.0\\nsamples = 8\\nvalue = [8, 0]\\nclass = 0'),\n",
       " Text(105.15521508544491, 131.1035294117647, 'entropy = 0.0\\nsamples = 21\\nvalue = [21, 0]\\nclass = 0'),\n",
       " Text(108.94317030053035, 150.28941176470587, 'BounceRates <= -0.201\\nentropy = 0.848\\nsamples = 51\\nvalue = [37, 14]\\nclass = 0'),\n",
       " Text(108.31184443134944, 143.8941176470588, 'TrafficType_8 <= 2.885\\nentropy = 0.918\\nsamples = 42\\nvalue = [28, 14]\\nclass = 0'),\n",
       " Text(107.04919269298763, 137.49882352941177, 'BounceRates <= -0.304\\nentropy = 0.811\\nsamples = 36\\nvalue = [27, 9]\\nclass = 0'),\n",
       " Text(106.41786682380672, 131.1035294117647, 'TrafficType_2 <= 0.39\\nentropy = 0.684\\nsamples = 33\\nvalue = [27, 6]\\nclass = 0'),\n",
       " Text(105.7865409546258, 124.70823529411764, 'entropy = 0.0\\nsamples = 12\\nvalue = [12, 0]\\nclass = 0'),\n",
       " Text(107.04919269298763, 124.70823529411764, 'ProductRelated_Duration <= 0.058\\nentropy = 0.863\\nsamples = 21\\nvalue = [15, 6]\\nclass = 0'),\n",
       " Text(106.41786682380672, 118.31294117647059, 'Administrative <= 0.357\\nentropy = 0.971\\nsamples = 15\\nvalue = [9, 6]\\nclass = 0'),\n",
       " Text(105.15521508544491, 111.91764705882352, 'BounceRates <= -0.39\\nentropy = 0.503\\nsamples = 9\\nvalue = [8, 1]\\nclass = 0'),\n",
       " Text(104.523889216264, 105.52235294117646, 'entropy = 0.0\\nsamples = 8\\nvalue = [8, 0]\\nclass = 0'),\n",
       " Text(105.7865409546258, 105.52235294117646, 'entropy = 0.0\\nsamples = 1\\nvalue = [0, 1]\\nclass = 1'),\n",
       " Text(107.68051856216853, 111.91764705882352, 'ExitRates <= -0.171\\nentropy = 0.65\\nsamples = 6\\nvalue = [1, 5]\\nclass = 1'),\n",
       " Text(107.04919269298763, 105.52235294117646, 'entropy = 0.0\\nsamples = 5\\nvalue = [0, 5]\\nclass = 1'),\n",
       " Text(108.31184443134944, 105.52235294117646, 'entropy = 0.0\\nsamples = 1\\nvalue = [1, 0]\\nclass = 0'),\n",
       " Text(107.68051856216853, 118.31294117647059, 'entropy = 0.0\\nsamples = 6\\nvalue = [6, 0]\\nclass = 0'),\n",
       " Text(107.68051856216853, 131.1035294117647, 'entropy = 0.0\\nsamples = 3\\nvalue = [0, 3]\\nclass = 1'),\n",
       " Text(109.57449616971125, 137.49882352941177, 'BounceRates <= -0.333\\nentropy = 0.65\\nsamples = 6\\nvalue = [1, 5]\\nclass = 1'),\n",
       " Text(108.94317030053035, 131.1035294117647, 'entropy = 0.0\\nsamples = 5\\nvalue = [0, 5]\\nclass = 1'),\n",
       " Text(110.20582203889217, 131.1035294117647, 'entropy = 0.0\\nsamples = 1\\nvalue = [1, 0]\\nclass = 0'),\n",
       " Text(109.57449616971125, 143.8941176470588, 'entropy = 0.0\\nsamples = 9\\nvalue = [9, 0]\\nclass = 0'),\n",
       " Text(104.61266941661756, 156.68470588235294, 'entropy = 0.0\\nsamples = 33\\nvalue = [33, 0]\\nclass = 0'),\n",
       " Text(113.3624513847967, 163.07999999999998, 'Administrative_Duration <= 1.631\\nentropy = 0.344\\nsamples = 156\\nvalue = [146, 10]\\nclass = 0'),\n",
       " Text(112.09979964643489, 156.68470588235294, 'BounceRates <= 0.319\\nentropy = 0.231\\nsamples = 133\\nvalue = [128, 5]\\nclass = 0'),\n",
       " Text(111.46847377725398, 150.28941176470587, 'Total_Duration <= 0.042\\nentropy = 0.196\\nsamples = 132\\nvalue = [128, 4]\\nclass = 0'),\n",
       " Text(110.83714790807308, 143.8941176470588, 'entropy = 0.0\\nsamples = 94\\nvalue = [94, 0]\\nclass = 0'),\n",
       " Text(112.09979964643489, 143.8941176470588, 'ProductRelated <= -0.367\\nentropy = 0.485\\nsamples = 38\\nvalue = [34, 4]\\nclass = 0'),\n",
       " Text(111.46847377725398, 137.49882352941177, 'entropy = 0.0\\nsamples = 2\\nvalue = [0, 2]\\nclass = 1'),\n",
       " Text(112.7311255156158, 137.49882352941177, 'ExitRates <= -0.691\\nentropy = 0.31\\nsamples = 36\\nvalue = [34, 2]\\nclass = 0'),\n",
       " Text(112.09979964643489, 131.1035294117647, 'OperatingSystems_2 <= -0.069\\nentropy = 0.863\\nsamples = 7\\nvalue = [5, 2]\\nclass = 0'),\n",
       " Text(111.46847377725398, 124.70823529411764, 'entropy = 0.0\\nsamples = 5\\nvalue = [5, 0]\\nclass = 0'),\n",
       " Text(112.7311255156158, 124.70823529411764, 'entropy = 0.0\\nsamples = 2\\nvalue = [0, 2]\\nclass = 1'),\n",
       " Text(113.3624513847967, 131.1035294117647, 'entropy = 0.0\\nsamples = 29\\nvalue = [29, 0]\\nclass = 0'),\n",
       " Text(112.7311255156158, 150.28941176470587, 'entropy = 0.0\\nsamples = 1\\nvalue = [0, 1]\\nclass = 1'),\n",
       " Text(114.62510312315851, 156.68470588235294, 'Administrative_Duration <= 1.817\\nentropy = 0.755\\nsamples = 23\\nvalue = [18, 5]\\nclass = 0'),\n",
       " Text(113.99377725397761, 150.28941176470587, 'entropy = 0.0\\nsamples = 2\\nvalue = [0, 2]\\nclass = 1'),\n",
       " Text(115.25642899233942, 150.28941176470587, 'ProductRelated_Duration <= 0.045\\nentropy = 0.592\\nsamples = 21\\nvalue = [18, 3]\\nclass = 0'),\n",
       " Text(114.62510312315851, 143.8941176470588, 'entropy = 0.0\\nsamples = 13\\nvalue = [13, 0]\\nclass = 0'),\n",
       " Text(115.88775486152034, 143.8941176470588, 'Administrative_Duration <= 3.191\\nentropy = 0.954\\nsamples = 8\\nvalue = [5, 3]\\nclass = 0'),\n",
       " Text(115.25642899233942, 137.49882352941177, 'entropy = 0.0\\nsamples = 2\\nvalue = [0, 2]\\nclass = 1'),\n",
       " Text(116.51908073070123, 137.49882352941177, 'Administrative_Duration <= 7.106\\nentropy = 0.65\\nsamples = 6\\nvalue = [5, 1]\\nclass = 0'),\n",
       " Text(115.88775486152034, 131.1035294117647, 'entropy = 0.0\\nsamples = 5\\nvalue = [5, 0]\\nclass = 0'),\n",
       " Text(117.15040659988215, 131.1035294117647, 'entropy = 0.0\\nsamples = 1\\nvalue = [0, 1]\\nclass = 1'),\n",
       " Text(117.78173246906306, 169.47529411764705, 'ProductRelated_Duration <= -0.48\\nentropy = 0.201\\nsamples = 96\\nvalue = [93, 3]\\nclass = 0'),\n",
       " Text(116.51908073070123, 163.07999999999998, 'ProductRelated <= -0.39\\nentropy = 0.971\\nsamples = 5\\nvalue = [3, 2]\\nclass = 0'),\n",
       " Text(115.88775486152034, 156.68470588235294, 'entropy = 0.0\\nsamples = 2\\nvalue = [0, 2]\\nclass = 1'),\n",
       " Text(117.15040659988215, 156.68470588235294, 'entropy = 0.0\\nsamples = 3\\nvalue = [3, 0]\\nclass = 0'),\n",
       " Text(119.04438420742487, 163.07999999999998, 'Informational <= 1.171\\nentropy = 0.087\\nsamples = 91\\nvalue = [90, 1]\\nclass = 0'),\n",
       " Text(118.41305833824396, 156.68470588235294, 'entropy = 0.0\\nsamples = 88\\nvalue = [88, 0]\\nclass = 0'),\n",
       " Text(119.67571007660578, 156.68470588235294, 'ProductRelated_Duration <= 0.218\\nentropy = 0.918\\nsamples = 3\\nvalue = [2, 1]\\nclass = 0'),\n",
       " Text(119.04438420742487, 150.28941176470587, 'entropy = 0.0\\nsamples = 2\\nvalue = [2, 0]\\nclass = 0'),\n",
       " Text(120.30703594578668, 150.28941176470587, 'entropy = 0.0\\nsamples = 1\\nvalue = [0, 1]\\nclass = 1'),\n",
       " Text(114.48946670595168, 188.66117647058823, 'TrafficType_11 <= 3.377\\nentropy = 0.059\\nsamples = 146\\nvalue = [145, 1]\\nclass = 0'),\n",
       " Text(113.85814083677077, 182.26588235294116, 'entropy = 0.0\\nsamples = 140\\nvalue = [140, 0]\\nclass = 0'),\n",
       " Text(115.12079257513258, 182.26588235294116, 'ProductRelated <= -0.668\\nentropy = 0.65\\nsamples = 6\\nvalue = [5, 1]\\nclass = 0'),\n",
       " Text(114.48946670595168, 175.87058823529412, 'entropy = 0.0\\nsamples = 5\\nvalue = [5, 0]\\nclass = 0'),\n",
       " Text(115.7521184443135, 175.87058823529412, 'entropy = 0.0\\nsamples = 1\\nvalue = [0, 1]\\nclass = 1'),\n",
       " Text(135.36021213906895, 195.0564705882353, 'ProductRelated_Duration <= 0.669\\nentropy = 0.772\\nsamples = 375\\nvalue = [290, 85]\\nclass = 0'),\n",
       " Text(126.93595757218621, 188.66117647058823, 'BounceRates <= -0.253\\nentropy = 0.541\\nsamples = 121\\nvalue = [106, 15]\\nclass = 0'),\n",
       " Text(126.3046317030053, 182.26588235294116, 'Total_Pages <= 0.591\\nentropy = 0.637\\nsamples = 93\\nvalue = [78, 15]\\nclass = 0'),\n",
       " Text(124.09499116087213, 175.87058823529412, 'Administrative_Duration <= 1.044\\nentropy = 0.894\\nsamples = 29\\nvalue = [20, 9]\\nclass = 0'),\n",
       " Text(123.46366529169123, 169.47529411764705, 'Region_1 <= 0.237\\nentropy = 0.826\\nsamples = 27\\nvalue = [20, 7]\\nclass = 0'),\n",
       " Text(121.5696876841485, 163.07999999999998, 'OperatingSystems_2 <= -0.069\\nentropy = 0.985\\nsamples = 14\\nvalue = [8, 6]\\nclass = 0'),\n",
       " Text(120.93836181496759, 156.68470588235294, 'entropy = 0.0\\nsamples = 4\\nvalue = [0, 4]\\nclass = 1'),\n",
       " Text(122.2010135533294, 156.68470588235294, 'ExitRates <= -0.325\\nentropy = 0.722\\nsamples = 10\\nvalue = [8, 2]\\nclass = 0'),\n",
       " Text(121.5696876841485, 150.28941176470587, 'entropy = 0.0\\nsamples = 8\\nvalue = [8, 0]\\nclass = 0'),\n",
       " Text(122.83233942251032, 150.28941176470587, 'entropy = 0.0\\nsamples = 2\\nvalue = [0, 2]\\nclass = 1'),\n",
       " Text(125.35764289923395, 163.07999999999998, 'Total_Pages <= 0.399\\nentropy = 0.391\\nsamples = 13\\nvalue = [12, 1]\\nclass = 0'),\n",
       " Text(124.72631703005304, 156.68470588235294, 'OperatingSystems_2 <= -0.069\\nentropy = 1.0\\nsamples = 2\\nvalue = [1, 1]\\nclass = 0'),\n",
       " Text(124.09499116087213, 150.28941176470587, 'entropy = 0.0\\nsamples = 1\\nvalue = [1, 0]\\nclass = 0'),\n",
       " Text(125.35764289923395, 150.28941176470587, 'entropy = 0.0\\nsamples = 1\\nvalue = [0, 1]\\nclass = 1'),\n",
       " Text(125.98896876841485, 156.68470588235294, 'entropy = 0.0\\nsamples = 11\\nvalue = [11, 0]\\nclass = 0'),\n",
       " Text(124.72631703005304, 169.47529411764705, 'entropy = 0.0\\nsamples = 2\\nvalue = [0, 2]\\nclass = 1'),\n",
       " Text(128.51427224513847, 175.87058823529412, 'ExitRates <= -0.665\\nentropy = 0.449\\nsamples = 64\\nvalue = [58, 6]\\nclass = 0'),\n",
       " Text(127.88294637595757, 169.47529411764705, 'entropy = 0.0\\nsamples = 21\\nvalue = [21, 0]\\nclass = 0'),\n",
       " Text(129.1455981143194, 169.47529411764705, 'Informational <= 0.78\\nentropy = 0.583\\nsamples = 43\\nvalue = [37, 6]\\nclass = 0'),\n",
       " Text(128.51427224513847, 163.07999999999998, 'Informational_Duration <= -0.073\\nentropy = 0.709\\nsamples = 31\\nvalue = [25, 6]\\nclass = 0'),\n",
       " Text(127.88294637595757, 156.68470588235294, 'Region_3 <= 0.776\\nentropy = 0.579\\nsamples = 29\\nvalue = [25, 4]\\nclass = 0'),\n",
       " Text(126.62029463759576, 150.28941176470587, 'Administrative_Duration <= 0.011\\nentropy = 0.391\\nsamples = 26\\nvalue = [24, 2]\\nclass = 0'),\n",
       " Text(125.98896876841485, 143.8941176470588, 'entropy = 0.0\\nsamples = 19\\nvalue = [19, 0]\\nclass = 0'),\n",
       " Text(127.25162050677666, 143.8941176470588, 'ProductRelated_Duration <= 0.467\\nentropy = 0.863\\nsamples = 7\\nvalue = [5, 2]\\nclass = 0'),\n",
       " Text(126.62029463759576, 137.49882352941177, 'entropy = 0.0\\nsamples = 5\\nvalue = [5, 0]\\nclass = 0'),\n",
       " Text(127.88294637595757, 137.49882352941177, 'entropy = 0.0\\nsamples = 2\\nvalue = [0, 2]\\nclass = 1'),\n",
       " Text(129.1455981143194, 150.28941176470587, 'Administrative_Duration <= 0.489\\nentropy = 0.918\\nsamples = 3\\nvalue = [1, 2]\\nclass = 1'),\n",
       " Text(128.51427224513847, 143.8941176470588, 'entropy = 0.0\\nsamples = 2\\nvalue = [0, 2]\\nclass = 1'),\n",
       " Text(129.7769239835003, 143.8941176470588, 'entropy = 0.0\\nsamples = 1\\nvalue = [1, 0]\\nclass = 0'),\n",
       " Text(129.1455981143194, 156.68470588235294, 'entropy = 0.0\\nsamples = 2\\nvalue = [0, 2]\\nclass = 1'),\n",
       " Text(129.7769239835003, 163.07999999999998, 'entropy = 0.0\\nsamples = 12\\nvalue = [12, 0]\\nclass = 0'),\n",
       " Text(127.56728344136712, 182.26588235294116, 'entropy = 0.0\\nsamples = 28\\nvalue = [28, 0]\\nclass = 0'),\n",
       " Text(143.78446670595167, 188.66117647058823, 'Administrative <= 2.172\\nentropy = 0.849\\nsamples = 254\\nvalue = [184, 70]\\nclass = 0'),\n",
       " Text(139.7992221567472, 182.26588235294116, 'Administrative_Duration <= 0.189\\nentropy = 0.813\\nsamples = 235\\nvalue = [176, 59]\\nclass = 0'),\n",
       " Text(136.8793400117855, 175.87058823529412, 'Informational_Duration <= 3.296\\nentropy = 0.876\\nsamples = 176\\nvalue = [124, 52]\\nclass = 0'),\n",
       " Text(136.2480141426046, 169.47529411764705, 'Informational_Duration <= 2.57\\nentropy = 0.895\\nsamples = 167\\nvalue = [115, 52]\\nclass = 0'),\n",
       " Text(135.6166882734237, 163.07999999999998, 'Total_Duration <= 5.367\\nentropy = 0.885\\nsamples = 165\\nvalue = [115, 50]\\nclass = 0'),\n",
       " Text(134.98536240424278, 156.68470588235294, 'ProductRelated <= 2.798\\nentropy = 0.898\\nsamples = 159\\nvalue = [109, 50]\\nclass = 0'),\n",
       " Text(131.67090159104302, 150.28941176470587, 'Administrative <= 0.962\\nentropy = 0.857\\nsamples = 135\\nvalue = [97, 38]\\nclass = 0'),\n",
       " Text(131.03957572186212, 143.8941176470588, 'OperatingSystems_2 <= -0.069\\nentropy = 0.88\\nsamples = 127\\nvalue = [89, 38]\\nclass = 0'),\n",
       " Text(129.7769239835003, 137.49882352941177, 'Informational <= 0.78\\nentropy = 0.702\\nsamples = 42\\nvalue = [34, 8]\\nclass = 0'),\n",
       " Text(129.1455981143194, 131.1035294117647, 'Region_4 <= 1.361\\nentropy = 0.799\\nsamples = 33\\nvalue = [25, 8]\\nclass = 0'),\n",
       " Text(128.51427224513847, 124.70823529411764, 'Total_Pages <= 1.284\\nentropy = 0.877\\nsamples = 27\\nvalue = [19, 8]\\nclass = 0'),\n",
       " Text(127.25162050677666, 118.31294117647059, 'Informational <= -0.003\\nentropy = 0.985\\nsamples = 14\\nvalue = [8, 6]\\nclass = 0'),\n",
       " Text(126.62029463759576, 111.91764705882352, 'Total_Duration <= 0.979\\nentropy = 0.845\\nsamples = 11\\nvalue = [8, 3]\\nclass = 0'),\n",
       " Text(125.98896876841485, 105.52235294117646, 'entropy = 0.0\\nsamples = 6\\nvalue = [6, 0]\\nclass = 0'),\n",
       " Text(127.25162050677666, 105.52235294117646, 'ProductRelated <= 1.059\\nentropy = 0.971\\nsamples = 5\\nvalue = [2, 3]\\nclass = 1'),\n",
       " Text(126.62029463759576, 99.12705882352941, 'entropy = 0.0\\nsamples = 2\\nvalue = [0, 2]\\nclass = 1'),\n",
       " Text(127.88294637595757, 99.12705882352941, 'ProductRelated_Duration <= 1.2\\nentropy = 0.918\\nsamples = 3\\nvalue = [2, 1]\\nclass = 0'),\n",
       " Text(127.25162050677666, 92.73176470588234, 'entropy = 0.0\\nsamples = 1\\nvalue = [0, 1]\\nclass = 1'),\n",
       " Text(128.51427224513847, 92.73176470588234, 'entropy = 0.0\\nsamples = 2\\nvalue = [2, 0]\\nclass = 0'),\n",
       " Text(127.88294637595757, 111.91764705882352, 'entropy = 0.0\\nsamples = 3\\nvalue = [0, 3]\\nclass = 1'),\n",
       " Text(129.7769239835003, 118.31294117647059, 'Browser_1 <= 0.744\\nentropy = 0.619\\nsamples = 13\\nvalue = [11, 2]\\nclass = 0'),\n",
       " Text(129.1455981143194, 111.91764705882352, 'entropy = 0.0\\nsamples = 11\\nvalue = [11, 0]\\nclass = 0'),\n",
       " Text(130.4082498526812, 111.91764705882352, 'entropy = 0.0\\nsamples = 2\\nvalue = [0, 2]\\nclass = 1'),\n",
       " Text(129.7769239835003, 124.70823529411764, 'entropy = 0.0\\nsamples = 6\\nvalue = [6, 0]\\nclass = 0'),\n",
       " Text(130.4082498526812, 131.1035294117647, 'entropy = 0.0\\nsamples = 9\\nvalue = [9, 0]\\nclass = 0'),\n",
       " Text(132.30222746022392, 137.49882352941177, 'Total_Duration <= 0.621\\nentropy = 0.937\\nsamples = 85\\nvalue = [55, 30]\\nclass = 0'),\n",
       " Text(131.67090159104302, 131.1035294117647, 'entropy = 0.0\\nsamples = 2\\nvalue = [0, 2]\\nclass = 1'),\n",
       " Text(132.93355332940484, 131.1035294117647, 'ProductRelated_Duration <= 0.741\\nentropy = 0.922\\nsamples = 83\\nvalue = [55, 28]\\nclass = 0'),\n",
       " Text(132.30222746022392, 124.70823529411764, 'entropy = 0.0\\nsamples = 4\\nvalue = [4, 0]\\nclass = 0'),\n",
       " Text(133.56487919858574, 124.70823529411764, 'ExitRates <= -0.73\\nentropy = 0.938\\nsamples = 79\\nvalue = [51, 28]\\nclass = 0'),\n",
       " Text(132.30222746022392, 118.31294117647059, 'ExitRates <= -0.802\\nentropy = 0.811\\nsamples = 4\\nvalue = [1, 3]\\nclass = 1'),\n",
       " Text(131.67090159104302, 111.91764705882352, 'entropy = 0.0\\nsamples = 1\\nvalue = [1, 0]\\nclass = 0'),\n",
       " Text(132.93355332940484, 111.91764705882352, 'entropy = 0.0\\nsamples = 3\\nvalue = [0, 3]\\nclass = 1'),\n",
       " Text(134.82753093694757, 118.31294117647059, 'Administrative_Duration <= 0.053\\nentropy = 0.918\\nsamples = 75\\nvalue = [50, 25]\\nclass = 0'),\n",
       " Text(134.19620506776664, 111.91764705882352, 'ProductRelated_Duration <= 2.503\\nentropy = 0.899\\nsamples = 73\\nvalue = [50, 23]\\nclass = 0'),\n",
       " Text(133.56487919858574, 105.52235294117646, 'Total_Duration <= 2.183\\nentropy = 0.933\\nsamples = 66\\nvalue = [43, 23]\\nclass = 0'),\n",
       " Text(132.93355332940484, 99.12705882352941, 'Total_Duration <= 1.921\\nentropy = 0.913\\nsamples = 64\\nvalue = [43, 21]\\nclass = 0'),\n",
       " Text(132.30222746022392, 92.73176470588234, 'Total_Duration <= 1.845\\nentropy = 0.944\\nsamples = 58\\nvalue = [37, 21]\\nclass = 0'),\n",
       " Text(131.67090159104302, 86.3364705882353, 'ProductRelated_Duration <= 1.889\\nentropy = 0.912\\nsamples = 55\\nvalue = [37, 18]\\nclass = 0'),\n",
       " Text(131.03957572186212, 79.94117647058823, 'ProductRelated_Duration <= 1.815\\nentropy = 0.937\\nsamples = 51\\nvalue = [33, 18]\\nclass = 0'),\n",
       " Text(130.4082498526812, 73.54588235294116, 'Total_Pages <= 1.924\\nentropy = 0.896\\nsamples = 48\\nvalue = [33, 15]\\nclass = 0'),\n",
       " Text(128.19860931054802, 67.15058823529412, 'Total_Pages <= 1.284\\nentropy = 0.839\\nsamples = 41\\nvalue = [30, 11]\\nclass = 0'),\n",
       " Text(126.93595757218621, 60.755294117647054, 'Total_Duration <= 1.503\\nentropy = 0.94\\nsamples = 28\\nvalue = [18, 10]\\nclass = 0'),\n",
       " Text(126.3046317030053, 54.359999999999985, 'Administrative <= -0.248\\nentropy = 0.89\\nsamples = 26\\nvalue = [18, 8]\\nclass = 0'),\n",
       " Text(125.6733058338244, 47.964705882352945, 'ExitRates <= -0.45\\nentropy = 0.959\\nsamples = 21\\nvalue = [13, 8]\\nclass = 0'),\n",
       " Text(123.46366529169123, 41.569411764705876, 'ExitRates <= -0.597\\nentropy = 0.954\\nsamples = 8\\nvalue = [3, 5]\\nclass = 1'),\n",
       " Text(122.83233942251032, 35.17411764705881, 'entropy = 0.0\\nsamples = 2\\nvalue = [2, 0]\\nclass = 0'),\n",
       " Text(124.09499116087213, 35.17411764705881, 'TrafficType_13 <= 1.86\\nentropy = 0.65\\nsamples = 6\\nvalue = [1, 5]\\nclass = 1'),\n",
       " Text(123.46366529169123, 28.778823529411767, 'entropy = 0.0\\nsamples = 5\\nvalue = [0, 5]\\nclass = 1'),\n",
       " Text(124.72631703005304, 28.778823529411767, 'entropy = 0.0\\nsamples = 1\\nvalue = [1, 0]\\nclass = 0'),\n",
       " Text(127.88294637595757, 41.569411764705876, 'BounceRates <= -0.193\\nentropy = 0.779\\nsamples = 13\\nvalue = [10, 3]\\nclass = 0'),\n",
       " Text(126.62029463759576, 35.17411764705881, 'TrafficType_8 <= 2.885\\nentropy = 0.469\\nsamples = 10\\nvalue = [9, 1]\\nclass = 0'),\n",
       " Text(125.98896876841485, 28.778823529411767, 'entropy = 0.0\\nsamples = 9\\nvalue = [9, 0]\\nclass = 0'),\n",
       " Text(127.25162050677666, 28.778823529411767, 'entropy = 0.0\\nsamples = 1\\nvalue = [0, 1]\\nclass = 1'),\n",
       " Text(129.1455981143194, 35.17411764705881, 'ProductRelated <= 0.546\\nentropy = 0.918\\nsamples = 3\\nvalue = [1, 2]\\nclass = 1'),\n",
       " Text(128.51427224513847, 28.778823529411767, 'entropy = 0.0\\nsamples = 1\\nvalue = [1, 0]\\nclass = 0'),\n",
       " Text(129.7769239835003, 28.778823529411767, 'entropy = 0.0\\nsamples = 2\\nvalue = [0, 2]\\nclass = 1'),\n",
       " Text(126.93595757218621, 47.964705882352945, 'entropy = 0.0\\nsamples = 5\\nvalue = [5, 0]\\nclass = 0'),\n",
       " Text(127.56728344136712, 54.359999999999985, 'entropy = 0.0\\nsamples = 2\\nvalue = [0, 2]\\nclass = 1'),\n",
       " Text(129.46126104890985, 60.755294117647054, 'Informational_Duration <= 0.614\\nentropy = 0.391\\nsamples = 13\\nvalue = [12, 1]\\nclass = 0'),\n",
       " Text(128.82993517972895, 54.359999999999985, 'entropy = 0.0\\nsamples = 12\\nvalue = [12, 0]\\nclass = 0'),\n",
       " Text(130.09258691809075, 54.359999999999985, 'entropy = 0.0\\nsamples = 1\\nvalue = [0, 1]\\nclass = 1'),\n",
       " Text(132.61789039481437, 67.15058823529412, 'Administrative_Duration <= -0.34\\nentropy = 0.985\\nsamples = 7\\nvalue = [3, 4]\\nclass = 1'),\n",
       " Text(131.98656452563347, 60.755294117647054, 'Region_4 <= 1.361\\nentropy = 0.811\\nsamples = 4\\nvalue = [3, 1]\\nclass = 0'),\n",
       " Text(131.35523865645257, 54.359999999999985, 'entropy = 0.0\\nsamples = 3\\nvalue = [3, 0]\\nclass = 0'),\n",
       " Text(132.61789039481437, 54.359999999999985, 'entropy = 0.0\\nsamples = 1\\nvalue = [0, 1]\\nclass = 1'),\n",
       " Text(133.2492162639953, 60.755294117647054, 'entropy = 0.0\\nsamples = 3\\nvalue = [0, 3]\\nclass = 1'),\n",
       " Text(131.67090159104302, 73.54588235294116, 'entropy = 0.0\\nsamples = 3\\nvalue = [0, 3]\\nclass = 1'),\n",
       " Text(132.30222746022392, 79.94117647058823, 'entropy = 0.0\\nsamples = 4\\nvalue = [4, 0]\\nclass = 0'),\n",
       " Text(132.93355332940484, 86.3364705882353, 'entropy = 0.0\\nsamples = 3\\nvalue = [0, 3]\\nclass = 1'),\n",
       " Text(133.56487919858574, 92.73176470588234, 'entropy = 0.0\\nsamples = 6\\nvalue = [6, 0]\\nclass = 0'),\n",
       " Text(134.19620506776664, 99.12705882352941, 'entropy = 0.0\\nsamples = 2\\nvalue = [0, 2]\\nclass = 1'),\n",
       " Text(134.82753093694757, 105.52235294117646, 'entropy = 0.0\\nsamples = 7\\nvalue = [7, 0]\\nclass = 0'),\n",
       " Text(135.45885680612847, 111.91764705882352, 'entropy = 0.0\\nsamples = 2\\nvalue = [0, 2]\\nclass = 1'),\n",
       " Text(132.30222746022392, 143.8941176470588, 'entropy = 0.0\\nsamples = 8\\nvalue = [8, 0]\\nclass = 0'),\n",
       " Text(138.29982321744254, 150.28941176470587, 'BounceRates <= -0.375\\nentropy = 1.0\\nsamples = 24\\nvalue = [12, 12]\\nclass = 0'),\n",
       " Text(136.7215085444903, 143.8941176470588, 'BounceRates <= -0.399\\nentropy = 0.811\\nsamples = 12\\nvalue = [9, 3]\\nclass = 0'),\n",
       " Text(136.09018267530936, 137.49882352941177, 'Administrative_Duration <= -0.295\\nentropy = 0.971\\nsamples = 5\\nvalue = [2, 3]\\nclass = 1'),\n",
       " Text(135.45885680612847, 131.1035294117647, 'Total_Duration <= 2.967\\nentropy = 0.918\\nsamples = 3\\nvalue = [2, 1]\\nclass = 0'),\n",
       " Text(134.82753093694757, 124.70823529411764, 'entropy = 0.0\\nsamples = 1\\nvalue = [0, 1]\\nclass = 1'),\n",
       " Text(136.09018267530936, 124.70823529411764, 'entropy = 0.0\\nsamples = 2\\nvalue = [2, 0]\\nclass = 0'),\n",
       " Text(136.7215085444903, 131.1035294117647, 'entropy = 0.0\\nsamples = 2\\nvalue = [0, 2]\\nclass = 1'),\n",
       " Text(137.3528344136712, 137.49882352941177, 'entropy = 0.0\\nsamples = 7\\nvalue = [7, 0]\\nclass = 0'),\n",
       " Text(139.8781378903948, 143.8941176470588, 'ExitRates <= -0.398\\nentropy = 0.811\\nsamples = 12\\nvalue = [3, 9]\\nclass = 1'),\n",
       " Text(138.61548615203301, 137.49882352941177, 'TrafficType_2 <= 0.39\\nentropy = 0.503\\nsamples = 9\\nvalue = [1, 8]\\nclass = 1'),\n",
       " Text(137.9841602828521, 131.1035294117647, 'ProductRelated <= 4.603\\nentropy = 1.0\\nsamples = 2\\nvalue = [1, 1]\\nclass = 0'),\n",
       " Text(137.3528344136712, 124.70823529411764, 'entropy = 0.0\\nsamples = 1\\nvalue = [1, 0]\\nclass = 0'),\n",
       " Text(138.61548615203301, 124.70823529411764, 'entropy = 0.0\\nsamples = 1\\nvalue = [0, 1]\\nclass = 1'),\n",
       " Text(139.2468120212139, 131.1035294117647, 'entropy = 0.0\\nsamples = 7\\nvalue = [0, 7]\\nclass = 1'),\n",
       " Text(141.14078962875664, 137.49882352941177, 'Total_Pages <= 5.816\\nentropy = 0.918\\nsamples = 3\\nvalue = [2, 1]\\nclass = 0'),\n",
       " Text(140.50946375957574, 131.1035294117647, 'entropy = 0.0\\nsamples = 2\\nvalue = [2, 0]\\nclass = 0'),\n",
       " Text(141.77211549793753, 131.1035294117647, 'entropy = 0.0\\nsamples = 1\\nvalue = [0, 1]\\nclass = 1'),\n",
       " Text(136.2480141426046, 156.68470588235294, 'entropy = 0.0\\nsamples = 6\\nvalue = [6, 0]\\nclass = 0'),\n",
       " Text(136.8793400117855, 163.07999999999998, 'entropy = 0.0\\nsamples = 2\\nvalue = [0, 2]\\nclass = 1'),\n",
       " Text(137.5106658809664, 169.47529411764705, 'entropy = 0.0\\nsamples = 9\\nvalue = [9, 0]\\nclass = 0'),\n",
       " Text(142.7191043017089, 175.87058823529412, 'VisitorType_Returning_Visitor <= -1.008\\nentropy = 0.525\\nsamples = 59\\nvalue = [52, 7]\\nclass = 0'),\n",
       " Text(142.08777843252798, 169.47529411764705, 'entropy = 0.0\\nsamples = 1\\nvalue = [0, 1]\\nclass = 1'),\n",
       " Text(143.3504301708898, 169.47529411764705, 'Informational_Duration <= -0.202\\nentropy = 0.48\\nsamples = 58\\nvalue = [52, 6]\\nclass = 0'),\n",
       " Text(142.7191043017089, 163.07999999999998, 'entropy = 0.0\\nsamples = 22\\nvalue = [22, 0]\\nclass = 0'),\n",
       " Text(143.9817560400707, 163.07999999999998, 'ProductRelated_Duration <= 2.545\\nentropy = 0.65\\nsamples = 36\\nvalue = [30, 6]\\nclass = 0'),\n",
       " Text(143.3504301708898, 156.68470588235294, 'Administrative <= 1.264\\nentropy = 0.779\\nsamples = 26\\nvalue = [20, 6]\\nclass = 0'),\n",
       " Text(141.77211549793753, 150.28941176470587, 'Informational_Duration <= -0.156\\nentropy = 0.391\\nsamples = 13\\nvalue = [12, 1]\\nclass = 0'),\n",
       " Text(141.14078962875664, 143.8941176470588, 'entropy = 0.0\\nsamples = 1\\nvalue = [0, 1]\\nclass = 1'),\n",
       " Text(142.40344136711846, 143.8941176470588, 'entropy = 0.0\\nsamples = 12\\nvalue = [12, 0]\\nclass = 0'),\n",
       " Text(144.92874484384208, 150.28941176470587, 'Total_Pages <= 1.7\\nentropy = 0.961\\nsamples = 13\\nvalue = [8, 5]\\nclass = 0'),\n",
       " Text(143.66609310548026, 143.8941176470588, 'ProductRelated_Duration <= 0.684\\nentropy = 0.592\\nsamples = 7\\nvalue = [6, 1]\\nclass = 0'),\n",
       " Text(143.03476723629936, 137.49882352941177, 'entropy = 0.0\\nsamples = 1\\nvalue = [0, 1]\\nclass = 1'),\n",
       " Text(144.29741897466116, 137.49882352941177, 'entropy = 0.0\\nsamples = 6\\nvalue = [6, 0]\\nclass = 0'),\n",
       " Text(146.19139658220388, 143.8941176470588, 'ProductRelated <= 2.229\\nentropy = 0.918\\nsamples = 6\\nvalue = [2, 4]\\nclass = 1'),\n",
       " Text(145.56007071302298, 137.49882352941177, 'entropy = 0.0\\nsamples = 3\\nvalue = [0, 3]\\nclass = 1'),\n",
       " Text(146.8227224513848, 137.49882352941177, 'Weekend_0 <= -0.624\\nentropy = 0.918\\nsamples = 3\\nvalue = [2, 1]\\nclass = 0'),\n",
       " Text(146.19139658220388, 131.1035294117647, 'entropy = 0.0\\nsamples = 1\\nvalue = [0, 1]\\nclass = 1'),\n",
       " Text(147.4540483205657, 131.1035294117647, 'entropy = 0.0\\nsamples = 2\\nvalue = [2, 0]\\nclass = 0'),\n",
       " Text(144.61308190925163, 156.68470588235294, 'entropy = 0.0\\nsamples = 10\\nvalue = [10, 0]\\nclass = 0'),\n",
       " Text(147.76971125515615, 182.26588235294116, 'Total_Duration <= 2.997\\nentropy = 0.982\\nsamples = 19\\nvalue = [8, 11]\\nclass = 1'),\n",
       " Text(147.13838538597525, 175.87058823529412, 'Informational <= 1.563\\nentropy = 0.896\\nsamples = 16\\nvalue = [5, 11]\\nclass = 1'),\n",
       " Text(145.87573364761343, 169.47529411764705, 'Total_Duration <= 0.992\\nentropy = 0.469\\nsamples = 10\\nvalue = [1, 9]\\nclass = 1'),\n",
       " Text(145.24440777843253, 163.07999999999998, 'entropy = 0.0\\nsamples = 1\\nvalue = [1, 0]\\nclass = 0'),\n",
       " Text(146.50705951679436, 163.07999999999998, 'entropy = 0.0\\nsamples = 9\\nvalue = [0, 9]\\nclass = 1'),\n",
       " Text(148.40103712433708, 169.47529411764705, 'Administrative_Duration <= 1.483\\nentropy = 0.918\\nsamples = 6\\nvalue = [4, 2]\\nclass = 0'),\n",
       " Text(147.76971125515615, 163.07999999999998, 'entropy = 0.0\\nsamples = 3\\nvalue = [3, 0]\\nclass = 0'),\n",
       " Text(149.03236299351798, 163.07999999999998, 'BounceRates <= -0.403\\nentropy = 0.918\\nsamples = 3\\nvalue = [1, 2]\\nclass = 1'),\n",
       " Text(148.40103712433708, 156.68470588235294, 'entropy = 0.0\\nsamples = 1\\nvalue = [1, 0]\\nclass = 0'),\n",
       " Text(149.66368886269888, 156.68470588235294, 'entropy = 0.0\\nsamples = 2\\nvalue = [0, 2]\\nclass = 1'),\n",
       " Text(148.40103712433708, 175.87058823529412, 'entropy = 0.0\\nsamples = 3\\nvalue = [3, 0]\\nclass = 0'),\n",
       " Text(231.14973261638187, 207.8470588235294, 'BounceRates <= -0.448\\nentropy = 0.985\\nsamples = 2119\\nvalue = [909, 1210]\\nclass = 1'),\n",
       " Text(178.56164407778434, 201.45176470588234, 'PageValues <= 0.907\\nentropy = 0.819\\nsamples = 945\\nvalue = [241, 704]\\nclass = 1'),\n",
       " Text(165.4369711255156, 195.0564705882353, 'Administrative <= 0.659\\nentropy = 0.98\\nsamples = 400\\nvalue = [167, 233]\\nclass = 1'),\n",
       " Text(155.4837242192104, 188.66117647058823, 'VisitorType_Returning_Visitor <= -1.008\\nentropy = 0.871\\nsamples = 240\\nvalue = [70, 170]\\nclass = 1'),\n",
       " Text(152.1100766057749, 182.26588235294116, 'ExitRates <= -0.839\\nentropy = 0.25\\nsamples = 48\\nvalue = [2, 46]\\nclass = 1'),\n",
       " Text(151.47875073659398, 175.87058823529412, 'entropy = 0.0\\nsamples = 1\\nvalue = [1, 0]\\nclass = 0'),\n",
       " Text(152.7414024749558, 175.87058823529412, 'Administrative_Duration <= 0.41\\nentropy = 0.149\\nsamples = 47\\nvalue = [1, 46]\\nclass = 1'),\n",
       " Text(152.1100766057749, 169.47529411764705, 'entropy = 0.0\\nsamples = 44\\nvalue = [0, 44]\\nclass = 1'),\n",
       " Text(153.3727283441367, 169.47529411764705, 'Total_Pages <= 0.079\\nentropy = 0.918\\nsamples = 3\\nvalue = [1, 2]\\nclass = 1'),\n",
       " Text(152.7414024749558, 163.07999999999998, 'entropy = 0.0\\nsamples = 2\\nvalue = [0, 2]\\nclass = 1'),\n",
       " Text(154.00405421331763, 163.07999999999998, 'entropy = 0.0\\nsamples = 1\\nvalue = [1, 0]\\nclass = 0'),\n",
       " Text(158.85737183264584, 182.26588235294116, 'Browser_6 <= 4.154\\nentropy = 0.938\\nsamples = 192\\nvalue = [68, 124]\\nclass = 1'),\n",
       " Text(158.22604596346494, 175.87058823529412, 'ProductRelated <= 1.182\\nentropy = 0.918\\nsamples = 186\\nvalue = [62, 124]\\nclass = 1'),\n",
       " Text(155.89803182086035, 169.47529411764705, 'Region_5 <= 2.988\\nentropy = 0.885\\nsamples = 175\\nvalue = [53, 122]\\nclass = 1'),\n",
       " Text(155.26670595167943, 163.07999999999998, 'ExitRates <= -0.649\\nentropy = 0.87\\nsamples = 172\\nvalue = [50, 122]\\nclass = 1'),\n",
       " Text(151.24200353565115, 156.68470588235294, 'PageValues <= -0.002\\nentropy = 0.668\\nsamples = 63\\nvalue = [11, 52]\\nclass = 1'),\n",
       " Text(149.34802592810843, 150.28941176470587, 'ExitRates <= -0.767\\nentropy = 0.971\\nsamples = 15\\nvalue = [6, 9]\\nclass = 1'),\n",
       " Text(148.71670005892753, 143.8941176470588, 'entropy = 0.0\\nsamples = 3\\nvalue = [3, 0]\\nclass = 0'),\n",
       " Text(149.97935179728933, 143.8941176470588, 'Informational <= -0.003\\nentropy = 0.811\\nsamples = 12\\nvalue = [3, 9]\\nclass = 1'),\n",
       " Text(149.34802592810843, 137.49882352941177, 'ProductRelated <= -0.145\\nentropy = 1.0\\nsamples = 6\\nvalue = [3, 3]\\nclass = 0'),\n",
       " Text(148.71670005892753, 131.1035294117647, 'entropy = 0.0\\nsamples = 2\\nvalue = [0, 2]\\nclass = 1'),\n",
       " Text(149.97935179728933, 131.1035294117647, 'Month_Nov <= 0.606\\nentropy = 0.811\\nsamples = 4\\nvalue = [3, 1]\\nclass = 0'),\n",
       " Text(149.34802592810843, 124.70823529411764, 'entropy = 0.0\\nsamples = 3\\nvalue = [3, 0]\\nclass = 0'),\n",
       " Text(150.61067766647025, 124.70823529411764, 'entropy = 0.0\\nsamples = 1\\nvalue = [0, 1]\\nclass = 1'),\n",
       " Text(150.61067766647025, 137.49882352941177, 'entropy = 0.0\\nsamples = 6\\nvalue = [0, 6]\\nclass = 1'),\n",
       " Text(153.13598114319387, 150.28941176470587, 'OperatingSystems_99 <= 5.223\\nentropy = 0.482\\nsamples = 48\\nvalue = [5, 43]\\nclass = 1'),\n",
       " Text(152.50465527401298, 143.8941176470588, 'Administrative_Duration <= -0.325\\nentropy = 0.42\\nsamples = 47\\nvalue = [4, 43]\\nclass = 1'),\n",
       " Text(151.87332940483205, 137.49882352941177, 'entropy = 0.0\\nsamples = 22\\nvalue = [0, 22]\\nclass = 1'),\n",
       " Text(153.13598114319387, 137.49882352941177, 'Total_Pages <= 0.079\\nentropy = 0.634\\nsamples = 25\\nvalue = [4, 21]\\nclass = 1'),\n",
       " Text(152.50465527401298, 131.1035294117647, 'ProductRelated_Duration <= 0.205\\nentropy = 0.863\\nsamples = 14\\nvalue = [4, 10]\\nclass = 1'),\n",
       " Text(151.87332940483205, 124.70823529411764, 'TrafficType_3 <= 0.895\\nentropy = 0.65\\nsamples = 12\\nvalue = [2, 10]\\nclass = 1'),\n",
       " Text(151.24200353565115, 118.31294117647059, 'entropy = 0.0\\nsamples = 9\\nvalue = [0, 9]\\nclass = 1'),\n",
       " Text(152.50465527401298, 118.31294117647059, 'ProductRelated <= -0.033\\nentropy = 0.918\\nsamples = 3\\nvalue = [2, 1]\\nclass = 0'),\n",
       " Text(151.87332940483205, 111.91764705882352, 'entropy = 0.0\\nsamples = 2\\nvalue = [2, 0]\\nclass = 0'),\n",
       " Text(153.13598114319387, 111.91764705882352, 'entropy = 0.0\\nsamples = 1\\nvalue = [0, 1]\\nclass = 1'),\n",
       " Text(153.13598114319387, 124.70823529411764, 'entropy = 0.0\\nsamples = 2\\nvalue = [2, 0]\\nclass = 0'),\n",
       " Text(153.76730701237477, 131.1035294117647, 'entropy = 0.0\\nsamples = 11\\nvalue = [0, 11]\\nclass = 1'),\n",
       " Text(153.76730701237477, 143.8941176470588, 'entropy = 0.0\\nsamples = 1\\nvalue = [1, 0]\\nclass = 0'),\n",
       " Text(159.29140836770773, 156.68470588235294, 'Administrative <= 0.357\\nentropy = 0.941\\nsamples = 109\\nvalue = [39, 70]\\nclass = 1'),\n",
       " Text(157.23959929286977, 150.28941176470587, 'Total_Pages <= -0.412\\nentropy = 0.98\\nsamples = 91\\nvalue = [38, 53]\\nclass = 1'),\n",
       " Text(155.0299587507366, 143.8941176470588, 'ExitRates <= -0.272\\nentropy = 0.667\\nsamples = 23\\nvalue = [4, 19]\\nclass = 1'),\n",
       " Text(154.3986328815557, 137.49882352941177, 'entropy = 0.0\\nsamples = 12\\nvalue = [0, 12]\\nclass = 1'),\n",
       " Text(155.6612846199175, 137.49882352941177, 'TrafficType_20 <= 3.868\\nentropy = 0.946\\nsamples = 11\\nvalue = [4, 7]\\nclass = 1'),\n",
       " Text(155.0299587507366, 131.1035294117647, 'ProductRelated <= -0.434\\nentropy = 0.985\\nsamples = 7\\nvalue = [4, 3]\\nclass = 0'),\n",
       " Text(154.3986328815557, 124.70823529411764, 'Informational <= 0.389\\nentropy = 0.722\\nsamples = 5\\nvalue = [4, 1]\\nclass = 0'),\n",
       " Text(153.76730701237477, 118.31294117647059, 'entropy = 0.0\\nsamples = 4\\nvalue = [4, 0]\\nclass = 0'),\n",
       " Text(155.0299587507366, 118.31294117647059, 'entropy = 0.0\\nsamples = 1\\nvalue = [0, 1]\\nclass = 1'),\n",
       " Text(155.6612846199175, 124.70823529411764, 'entropy = 0.0\\nsamples = 2\\nvalue = [0, 2]\\nclass = 1'),\n",
       " Text(156.29261048909842, 131.1035294117647, 'entropy = 0.0\\nsamples = 4\\nvalue = [0, 4]\\nclass = 1'),\n",
       " Text(159.44923983500294, 143.8941176470588, 'ExitRates <= -0.308\\nentropy = 1.0\\nsamples = 68\\nvalue = [34, 34]\\nclass = 0'),\n",
       " Text(158.18658809664115, 137.49882352941177, 'ExitRates <= -0.389\\nentropy = 0.992\\nsamples = 58\\nvalue = [26, 32]\\nclass = 1'),\n",
       " Text(157.55526222746022, 131.1035294117647, 'Administrative_Duration <= 0.349\\nentropy = 1.0\\nsamples = 52\\nvalue = [26, 26]\\nclass = 0'),\n",
       " Text(156.92393635827932, 124.70823529411764, 'ProductRelated_Duration <= 0.59\\nentropy = 0.997\\nsamples = 49\\nvalue = [26, 23]\\nclass = 0'),\n",
       " Text(156.29261048909842, 118.31294117647059, 'ProductRelated_Duration <= 0.26\\nentropy = 1.0\\nsamples = 45\\nvalue = [22, 23]\\nclass = 1'),\n",
       " Text(155.6612846199175, 111.91764705882352, 'Total_Duration <= 0.072\\nentropy = 0.988\\nsamples = 39\\nvalue = [22, 17]\\nclass = 0'),\n",
       " Text(155.0299587507366, 105.52235294117646, 'Weekend_0 <= -0.624\\nentropy = 0.997\\nsamples = 32\\nvalue = [15, 17]\\nclass = 1'),\n",
       " Text(154.3986328815557, 99.12705882352941, 'entropy = 0.0\\nsamples = 4\\nvalue = [0, 4]\\nclass = 1'),\n",
       " Text(155.6612846199175, 99.12705882352941, 'Total_Duration <= -0.347\\nentropy = 0.996\\nsamples = 28\\nvalue = [15, 13]\\nclass = 0'),\n",
       " Text(155.0299587507366, 92.73176470588234, 'entropy = 0.0\\nsamples = 4\\nvalue = [4, 0]\\nclass = 0'),\n",
       " Text(156.29261048909842, 92.73176470588234, 'PageValues <= 0.583\\nentropy = 0.995\\nsamples = 24\\nvalue = [11, 13]\\nclass = 1'),\n",
       " Text(155.6612846199175, 86.3364705882353, 'Administrative <= 0.054\\nentropy = 0.998\\nsamples = 21\\nvalue = [11, 10]\\nclass = 0'),\n",
       " Text(155.0299587507366, 79.94117647058823, 'ProductRelated_Duration <= -0.273\\nentropy = 0.991\\nsamples = 18\\nvalue = [8, 10]\\nclass = 1'),\n",
       " Text(154.3986328815557, 73.54588235294116, 'entropy = 0.0\\nsamples = 3\\nvalue = [0, 3]\\nclass = 1'),\n",
       " Text(155.6612846199175, 73.54588235294116, 'PageValues <= -0.089\\nentropy = 0.997\\nsamples = 15\\nvalue = [8, 7]\\nclass = 0'),\n",
       " Text(155.0299587507366, 67.15058823529412, 'entropy = 0.0\\nsamples = 3\\nvalue = [3, 0]\\nclass = 0'),\n",
       " Text(156.29261048909842, 67.15058823529412, 'PageValues <= 0.09\\nentropy = 0.98\\nsamples = 12\\nvalue = [5, 7]\\nclass = 1'),\n",
       " Text(155.6612846199175, 60.755294117647054, 'entropy = 0.0\\nsamples = 5\\nvalue = [0, 5]\\nclass = 1'),\n",
       " Text(156.92393635827932, 60.755294117647054, 'Total_Duration <= -0.064\\nentropy = 0.863\\nsamples = 7\\nvalue = [5, 2]\\nclass = 0'),\n",
       " Text(156.29261048909842, 54.359999999999985, 'entropy = 0.0\\nsamples = 4\\nvalue = [4, 0]\\nclass = 0'),\n",
       " Text(157.55526222746022, 54.359999999999985, 'Total_Duration <= -0.007\\nentropy = 0.918\\nsamples = 3\\nvalue = [1, 2]\\nclass = 1'),\n",
       " Text(156.92393635827932, 47.964705882352945, 'entropy = 0.0\\nsamples = 2\\nvalue = [0, 2]\\nclass = 1'),\n",
       " Text(158.18658809664115, 47.964705882352945, 'entropy = 0.0\\nsamples = 1\\nvalue = [1, 0]\\nclass = 0'),\n",
       " Text(156.29261048909842, 79.94117647058823, 'entropy = 0.0\\nsamples = 3\\nvalue = [3, 0]\\nclass = 0'),\n",
       " Text(156.92393635827932, 86.3364705882353, 'entropy = 0.0\\nsamples = 3\\nvalue = [0, 3]\\nclass = 1'),\n",
       " Text(156.29261048909842, 105.52235294117646, 'entropy = 0.0\\nsamples = 7\\nvalue = [7, 0]\\nclass = 0'),\n",
       " Text(156.92393635827932, 111.91764705882352, 'entropy = 0.0\\nsamples = 6\\nvalue = [0, 6]\\nclass = 1'),\n",
       " Text(157.55526222746022, 118.31294117647059, 'entropy = 0.0\\nsamples = 4\\nvalue = [4, 0]\\nclass = 0'),\n",
       " Text(158.18658809664115, 124.70823529411764, 'entropy = 0.0\\nsamples = 3\\nvalue = [0, 3]\\nclass = 1'),\n",
       " Text(158.81791396582204, 131.1035294117647, 'entropy = 0.0\\nsamples = 6\\nvalue = [0, 6]\\nclass = 1'),\n",
       " Text(160.71189157336477, 137.49882352941177, 'ProductRelated_Duration <= -0.138\\nentropy = 0.722\\nsamples = 10\\nvalue = [8, 2]\\nclass = 0'),\n",
       " Text(160.08056570418387, 131.1035294117647, 'Total_Pages <= -0.22\\nentropy = 1.0\\nsamples = 4\\nvalue = [2, 2]\\nclass = 0'),\n",
       " Text(159.44923983500294, 124.70823529411764, 'entropy = 0.0\\nsamples = 2\\nvalue = [2, 0]\\nclass = 0'),\n",
       " Text(160.71189157336477, 124.70823529411764, 'entropy = 0.0\\nsamples = 2\\nvalue = [0, 2]\\nclass = 1'),\n",
       " Text(161.34321744254567, 131.1035294117647, 'entropy = 0.0\\nsamples = 6\\nvalue = [6, 0]\\nclass = 0'),\n",
       " Text(161.34321744254567, 150.28941176470587, 'Administrative_Duration <= -0.377\\nentropy = 0.31\\nsamples = 18\\nvalue = [1, 17]\\nclass = 1'),\n",
       " Text(160.71189157336477, 143.8941176470588, 'entropy = 0.0\\nsamples = 1\\nvalue = [1, 0]\\nclass = 0'),\n",
       " Text(161.9745433117266, 143.8941176470588, 'entropy = 0.0\\nsamples = 17\\nvalue = [0, 17]\\nclass = 1'),\n",
       " Text(156.52935769004125, 163.07999999999998, 'entropy = 0.0\\nsamples = 3\\nvalue = [3, 0]\\nclass = 0'),\n",
       " Text(160.55406010606953, 169.47529411764705, 'TrafficType_3 <= 0.895\\nentropy = 0.684\\nsamples = 11\\nvalue = [9, 2]\\nclass = 0'),\n",
       " Text(159.92273423688863, 163.07999999999998, 'entropy = 0.0\\nsamples = 8\\nvalue = [8, 0]\\nclass = 0'),\n",
       " Text(161.18538597525045, 163.07999999999998, 'Total_Pages <= 2.649\\nentropy = 0.918\\nsamples = 3\\nvalue = [1, 2]\\nclass = 1'),\n",
       " Text(160.55406010606953, 156.68470588235294, 'entropy = 0.0\\nsamples = 2\\nvalue = [0, 2]\\nclass = 1'),\n",
       " Text(161.81671184443135, 156.68470588235294, 'entropy = 0.0\\nsamples = 1\\nvalue = [1, 0]\\nclass = 0'),\n",
       " Text(159.48869770182677, 175.87058823529412, 'entropy = 0.0\\nsamples = 6\\nvalue = [6, 0]\\nclass = 0'),\n",
       " Text(175.39021803182087, 188.66117647058823, 'TrafficType_4 <= 1.461\\nentropy = 0.967\\nsamples = 160\\nvalue = [97, 63]\\nclass = 0'),\n",
       " Text(171.44443134944018, 182.26588235294116, 'Administrative_Duration <= 0.754\\nentropy = 0.986\\nsamples = 142\\nvalue = [81, 61]\\nclass = 0'),\n",
       " Text(167.9721390689452, 175.87058823529412, 'ExitRates <= -0.409\\nentropy = 0.914\\nsamples = 85\\nvalue = [57, 28]\\nclass = 0'),\n",
       " Text(167.34081319976428, 169.47529411764705, 'Month_Nov <= 0.606\\nentropy = 0.953\\nsamples = 75\\nvalue = [47, 28]\\nclass = 0'),\n",
       " Text(164.4998467884502, 163.07999999999998, 'ExitRates <= -0.772\\nentropy = 0.843\\nsamples = 48\\nvalue = [35, 13]\\nclass = 0'),\n",
       " Text(163.2371950500884, 156.68470588235294, 'PageValues <= 0.847\\nentropy = 0.722\\nsamples = 5\\nvalue = [1, 4]\\nclass = 1'),\n",
       " Text(162.6058691809075, 150.28941176470587, 'entropy = 0.0\\nsamples = 4\\nvalue = [0, 4]\\nclass = 1'),\n",
       " Text(163.86852091926932, 150.28941176470587, 'entropy = 0.0\\nsamples = 1\\nvalue = [1, 0]\\nclass = 0'),\n",
       " Text(165.76249852681204, 156.68470588235294, 'Administrative_Duration <= -0.041\\nentropy = 0.74\\nsamples = 43\\nvalue = [34, 9]\\nclass = 0'),\n",
       " Text(165.1311726576311, 150.28941176470587, 'entropy = 0.0\\nsamples = 8\\nvalue = [8, 0]\\nclass = 0'),\n",
       " Text(166.39382439599294, 150.28941176470587, 'Administrative_Duration <= 0.618\\nentropy = 0.822\\nsamples = 35\\nvalue = [26, 9]\\nclass = 0'),\n",
       " Text(165.76249852681204, 143.8941176470588, 'ProductRelated <= 1.148\\nentropy = 0.906\\nsamples = 28\\nvalue = [19, 9]\\nclass = 0'),\n",
       " Text(165.1311726576311, 137.49882352941177, 'TrafficType_1 <= 0.757\\nentropy = 0.966\\nsamples = 23\\nvalue = [14, 9]\\nclass = 0'),\n",
       " Text(164.4998467884502, 131.1035294117647, 'Month_Mar <= 0.957\\nentropy = 0.998\\nsamples = 19\\nvalue = [10, 9]\\nclass = 0'),\n",
       " Text(163.86852091926932, 124.70823529411764, 'Total_Duration <= -0.291\\nentropy = 0.918\\nsamples = 15\\nvalue = [10, 5]\\nclass = 0'),\n",
       " Text(163.2371950500884, 118.31294117647059, 'entropy = 0.0\\nsamples = 3\\nvalue = [0, 3]\\nclass = 1'),\n",
       " Text(164.4998467884502, 118.31294117647059, 'Informational_Duration <= 0.107\\nentropy = 0.65\\nsamples = 12\\nvalue = [10, 2]\\nclass = 0'),\n",
       " Text(163.86852091926932, 111.91764705882352, 'entropy = 0.0\\nsamples = 9\\nvalue = [9, 0]\\nclass = 0'),\n",
       " Text(165.1311726576311, 111.91764705882352, 'Total_Duration <= 0.023\\nentropy = 0.918\\nsamples = 3\\nvalue = [1, 2]\\nclass = 1'),\n",
       " Text(164.4998467884502, 105.52235294117646, 'entropy = 0.0\\nsamples = 1\\nvalue = [1, 0]\\nclass = 0'),\n",
       " Text(165.76249852681204, 105.52235294117646, 'entropy = 0.0\\nsamples = 2\\nvalue = [0, 2]\\nclass = 1'),\n",
       " Text(165.1311726576311, 124.70823529411764, 'entropy = 0.0\\nsamples = 4\\nvalue = [0, 4]\\nclass = 1'),\n",
       " Text(165.76249852681204, 131.1035294117647, 'entropy = 0.0\\nsamples = 4\\nvalue = [4, 0]\\nclass = 0'),\n",
       " Text(166.39382439599294, 137.49882352941177, 'entropy = 0.0\\nsamples = 5\\nvalue = [5, 0]\\nclass = 0'),\n",
       " Text(167.02515026517383, 143.8941176470588, 'entropy = 0.0\\nsamples = 7\\nvalue = [7, 0]\\nclass = 0'),\n",
       " Text(170.18177961107838, 163.07999999999998, 'Informational <= 0.78\\nentropy = 0.991\\nsamples = 27\\nvalue = [12, 15]\\nclass = 1'),\n",
       " Text(169.55045374189746, 156.68470588235294, 'Region_4 <= 1.361\\nentropy = 0.999\\nsamples = 23\\nvalue = [12, 11]\\nclass = 0'),\n",
       " Text(168.91912787271656, 150.28941176470587, 'Informational_Duration <= -0.23\\nentropy = 0.971\\nsamples = 20\\nvalue = [12, 8]\\nclass = 0'),\n",
       " Text(168.28780200353566, 143.8941176470588, 'ProductRelated <= 2.586\\nentropy = 1.0\\nsamples = 16\\nvalue = [8, 8]\\nclass = 0'),\n",
       " Text(167.65647613435473, 137.49882352941177, 'ProductRelated_Duration <= 1.055\\nentropy = 0.985\\nsamples = 14\\nvalue = [8, 6]\\nclass = 0'),\n",
       " Text(167.02515026517383, 131.1035294117647, 'Administrative_Duration <= 0.233\\nentropy = 0.918\\nsamples = 9\\nvalue = [3, 6]\\nclass = 1'),\n",
       " Text(166.39382439599294, 124.70823529411764, 'entropy = 0.0\\nsamples = 4\\nvalue = [0, 4]\\nclass = 1'),\n",
       " Text(167.65647613435473, 124.70823529411764, 'Total_Duration <= 0.001\\nentropy = 0.971\\nsamples = 5\\nvalue = [3, 2]\\nclass = 0'),\n",
       " Text(167.02515026517383, 118.31294117647059, 'entropy = 0.0\\nsamples = 2\\nvalue = [2, 0]\\nclass = 0'),\n",
       " Text(168.28780200353566, 118.31294117647059, 'ExitRates <= -0.755\\nentropy = 0.918\\nsamples = 3\\nvalue = [1, 2]\\nclass = 1'),\n",
       " Text(167.65647613435473, 111.91764705882352, 'entropy = 0.0\\nsamples = 1\\nvalue = [1, 0]\\nclass = 0'),\n",
       " Text(168.91912787271656, 111.91764705882352, 'entropy = 0.0\\nsamples = 2\\nvalue = [0, 2]\\nclass = 1'),\n",
       " Text(168.28780200353566, 131.1035294117647, 'entropy = 0.0\\nsamples = 5\\nvalue = [5, 0]\\nclass = 0'),\n",
       " Text(168.91912787271656, 137.49882352941177, 'entropy = 0.0\\nsamples = 2\\nvalue = [0, 2]\\nclass = 1'),\n",
       " Text(169.55045374189746, 143.8941176470588, 'entropy = 0.0\\nsamples = 4\\nvalue = [4, 0]\\nclass = 0'),\n",
       " Text(170.18177961107838, 150.28941176470587, 'entropy = 0.0\\nsamples = 3\\nvalue = [0, 3]\\nclass = 1'),\n",
       " Text(170.81310548025928, 156.68470588235294, 'entropy = 0.0\\nsamples = 4\\nvalue = [0, 4]\\nclass = 1'),\n",
       " Text(168.6034649381261, 169.47529411764705, 'entropy = 0.0\\nsamples = 10\\nvalue = [10, 0]\\nclass = 0'),\n",
       " Text(174.91672362993518, 175.87058823529412, 'Administrative <= 0.962\\nentropy = 0.982\\nsamples = 57\\nvalue = [24, 33]\\nclass = 1'),\n",
       " Text(174.28539776075428, 169.47529411764705, 'entropy = 0.0\\nsamples = 7\\nvalue = [0, 7]\\nclass = 1'),\n",
       " Text(175.5480494991161, 169.47529411764705, 'Administrative_Duration <= 3.988\\nentropy = 0.999\\nsamples = 50\\nvalue = [24, 26]\\nclass = 1'),\n",
       " Text(174.91672362993518, 163.07999999999998, 'Total_Pages <= 0.409\\nentropy = 0.988\\nsamples = 46\\nvalue = [20, 26]\\nclass = 1'),\n",
       " Text(172.707083087802, 156.68470588235294, 'Total_Pages <= 0.1\\nentropy = 0.845\\nsamples = 22\\nvalue = [6, 16]\\nclass = 1'),\n",
       " Text(171.44443134944018, 150.28941176470587, 'Administrative_Duration <= 1.184\\nentropy = 1.0\\nsamples = 10\\nvalue = [5, 5]\\nclass = 0'),\n",
       " Text(170.81310548025928, 143.8941176470588, 'entropy = 0.0\\nsamples = 5\\nvalue = [5, 0]\\nclass = 0'),\n",
       " Text(172.0757572186211, 143.8941176470588, 'entropy = 0.0\\nsamples = 5\\nvalue = [0, 5]\\nclass = 1'),\n",
       " Text(173.96973482616383, 150.28941176470587, 'TrafficType_11 <= 3.377\\nentropy = 0.414\\nsamples = 12\\nvalue = [1, 11]\\nclass = 1'),\n",
       " Text(173.3384089569829, 143.8941176470588, 'entropy = 0.0\\nsamples = 11\\nvalue = [0, 11]\\nclass = 1'),\n",
       " Text(174.60106069534473, 143.8941176470588, 'entropy = 0.0\\nsamples = 1\\nvalue = [1, 0]\\nclass = 0'),\n",
       " Text(177.12636417206835, 156.68470588235294, 'Region_3 <= 0.776\\nentropy = 0.98\\nsamples = 24\\nvalue = [14, 10]\\nclass = 0'),\n",
       " Text(176.49503830288745, 150.28941176470587, 'Informational_Duration <= 1.563\\nentropy = 0.998\\nsamples = 19\\nvalue = [9, 10]\\nclass = 1'),\n",
       " Text(175.86371243370655, 143.8941176470588, 'ProductRelated_Duration <= 0.457\\nentropy = 0.94\\nsamples = 14\\nvalue = [9, 5]\\nclass = 0'),\n",
       " Text(175.23238656452563, 137.49882352941177, 'entropy = 0.0\\nsamples = 6\\nvalue = [6, 0]\\nclass = 0'),\n",
       " Text(176.49503830288745, 137.49882352941177, 'Informational_Duration <= 0.184\\nentropy = 0.954\\nsamples = 8\\nvalue = [3, 5]\\nclass = 1'),\n",
       " Text(175.86371243370655, 131.1035294117647, 'entropy = 0.0\\nsamples = 5\\nvalue = [0, 5]\\nclass = 1'),\n",
       " Text(177.12636417206835, 131.1035294117647, 'entropy = 0.0\\nsamples = 3\\nvalue = [3, 0]\\nclass = 0'),\n",
       " Text(177.12636417206835, 143.8941176470588, 'entropy = 0.0\\nsamples = 5\\nvalue = [0, 5]\\nclass = 1'),\n",
       " Text(177.75769004124928, 150.28941176470587, 'entropy = 0.0\\nsamples = 5\\nvalue = [5, 0]\\nclass = 0'),\n",
       " Text(176.179375368297, 163.07999999999998, 'entropy = 0.0\\nsamples = 4\\nvalue = [4, 0]\\nclass = 0'),\n",
       " Text(179.33600471420152, 182.26588235294116, 'OperatingSystems_3 <= 0.725\\nentropy = 0.503\\nsamples = 18\\nvalue = [16, 2]\\nclass = 0'),\n",
       " Text(178.70467884502062, 175.87058823529412, 'Total_Duration <= -0.36\\nentropy = 0.323\\nsamples = 17\\nvalue = [16, 1]\\nclass = 0'),\n",
       " Text(178.07335297583973, 169.47529411764705, 'PageValues <= 0.358\\nentropy = 1.0\\nsamples = 2\\nvalue = [1, 1]\\nclass = 0'),\n",
       " Text(177.44202710665883, 163.07999999999998, 'entropy = 0.0\\nsamples = 1\\nvalue = [1, 0]\\nclass = 0'),\n",
       " Text(178.70467884502062, 163.07999999999998, 'entropy = 0.0\\nsamples = 1\\nvalue = [0, 1]\\nclass = 1'),\n",
       " Text(179.33600471420152, 169.47529411764705, 'entropy = 0.0\\nsamples = 15\\nvalue = [15, 0]\\nclass = 0'),\n",
       " Text(179.96733058338245, 175.87058823529412, 'entropy = 0.0\\nsamples = 1\\nvalue = [0, 1]\\nclass = 1'),\n",
       " Text(191.68631703005303, 195.0564705882353, 'Administrative <= -0.248\\nentropy = 0.573\\nsamples = 545\\nvalue = [74, 471]\\nclass = 1'),\n",
       " Text(186.43842074248676, 188.66117647058823, 'Region_3 <= 0.776\\nentropy = 0.289\\nsamples = 276\\nvalue = [14, 262]\\nclass = 1'),\n",
       " Text(183.7552857984679, 182.26588235294116, 'VisitorType_New_Visitor <= 1.049\\nentropy = 0.178\\nsamples = 224\\nvalue = [6, 218]\\nclass = 1'),\n",
       " Text(183.12395992928697, 175.87058823529412, 'Administrative_Duration <= -0.048\\nentropy = 0.299\\nsamples = 113\\nvalue = [6, 107]\\nclass = 1'),\n",
       " Text(181.54564525633472, 169.47529411764705, 'ExitRates <= -0.291\\nentropy = 0.23\\nsamples = 107\\nvalue = [4, 103]\\nclass = 1'),\n",
       " Text(180.2829935179729, 163.07999999999998, 'Total_Duration <= -0.409\\nentropy = 0.145\\nsamples = 97\\nvalue = [2, 95]\\nclass = 1'),\n",
       " Text(179.651667648792, 156.68470588235294, 'Month_Nov <= 0.606\\nentropy = 0.454\\nsamples = 21\\nvalue = [2, 19]\\nclass = 1'),\n",
       " Text(179.02034177961107, 150.28941176470587, 'entropy = 0.0\\nsamples = 18\\nvalue = [0, 18]\\nclass = 1'),\n",
       " Text(180.2829935179729, 150.28941176470587, 'Total_Duration <= -0.457\\nentropy = 0.918\\nsamples = 3\\nvalue = [2, 1]\\nclass = 0'),\n",
       " Text(179.651667648792, 143.8941176470588, 'entropy = 0.0\\nsamples = 1\\nvalue = [0, 1]\\nclass = 1'),\n",
       " Text(180.9143193871538, 143.8941176470588, 'entropy = 0.0\\nsamples = 2\\nvalue = [2, 0]\\nclass = 0'),\n",
       " Text(180.9143193871538, 156.68470588235294, 'entropy = 0.0\\nsamples = 76\\nvalue = [0, 76]\\nclass = 1'),\n",
       " Text(182.80829699469652, 163.07999999999998, 'ExitRates <= -0.165\\nentropy = 0.722\\nsamples = 10\\nvalue = [2, 8]\\nclass = 1'),\n",
       " Text(182.17697112551562, 156.68470588235294, 'entropy = 0.0\\nsamples = 2\\nvalue = [2, 0]\\nclass = 0'),\n",
       " Text(183.43962286387745, 156.68470588235294, 'entropy = 0.0\\nsamples = 8\\nvalue = [0, 8]\\nclass = 1'),\n",
       " Text(184.70227460223924, 169.47529411764705, 'ProductRelated <= -0.312\\nentropy = 0.918\\nsamples = 6\\nvalue = [2, 4]\\nclass = 1'),\n",
       " Text(184.07094873305834, 163.07999999999998, 'entropy = 0.0\\nsamples = 3\\nvalue = [0, 3]\\nclass = 1'),\n",
       " Text(185.33360047142017, 163.07999999999998, 'ExitRates <= -0.718\\nentropy = 0.918\\nsamples = 3\\nvalue = [2, 1]\\nclass = 0'),\n",
       " Text(184.70227460223924, 156.68470588235294, 'entropy = 0.0\\nsamples = 1\\nvalue = [0, 1]\\nclass = 1'),\n",
       " Text(185.96492634060107, 156.68470588235294, 'entropy = 0.0\\nsamples = 2\\nvalue = [2, 0]\\nclass = 0'),\n",
       " Text(184.3866116676488, 175.87058823529412, 'entropy = 0.0\\nsamples = 111\\nvalue = [0, 111]\\nclass = 1'),\n",
       " Text(189.1215556865056, 182.26588235294116, 'PageValues <= 2.69\\nentropy = 0.619\\nsamples = 52\\nvalue = [8, 44]\\nclass = 1'),\n",
       " Text(188.4902298173247, 175.87058823529412, 'Total_Pages <= -0.476\\nentropy = 0.776\\nsamples = 35\\nvalue = [8, 27]\\nclass = 1'),\n",
       " Text(187.8589039481438, 169.47529411764705, 'entropy = 0.0\\nsamples = 11\\nvalue = [0, 11]\\nclass = 1'),\n",
       " Text(189.1215556865056, 169.47529411764705, 'ExitRates <= -0.486\\nentropy = 0.918\\nsamples = 24\\nvalue = [8, 16]\\nclass = 1'),\n",
       " Text(187.8589039481438, 163.07999999999998, 'Total_Duration <= -0.49\\nentropy = 0.742\\nsamples = 19\\nvalue = [4, 15]\\nclass = 1'),\n",
       " Text(187.2275780789629, 156.68470588235294, 'entropy = 0.0\\nsamples = 1\\nvalue = [1, 0]\\nclass = 0'),\n",
       " Text(188.4902298173247, 156.68470588235294, 'TrafficType_2 <= 0.39\\nentropy = 0.65\\nsamples = 18\\nvalue = [3, 15]\\nclass = 1'),\n",
       " Text(187.8589039481438, 150.28941176470587, 'entropy = 0.0\\nsamples = 8\\nvalue = [0, 8]\\nclass = 1'),\n",
       " Text(189.1215556865056, 150.28941176470587, 'ExitRates <= -0.786\\nentropy = 0.881\\nsamples = 10\\nvalue = [3, 7]\\nclass = 1'),\n",
       " Text(188.4902298173247, 143.8941176470588, 'entropy = 0.0\\nsamples = 4\\nvalue = [0, 4]\\nclass = 1'),\n",
       " Text(189.7528815556865, 143.8941176470588, 'ProductRelated <= -0.011\\nentropy = 1.0\\nsamples = 6\\nvalue = [3, 3]\\nclass = 0'),\n",
       " Text(189.1215556865056, 137.49882352941177, 'Weekend_0 <= -0.624\\nentropy = 0.811\\nsamples = 4\\nvalue = [1, 3]\\nclass = 1'),\n",
       " Text(188.4902298173247, 131.1035294117647, 'entropy = 0.0\\nsamples = 1\\nvalue = [1, 0]\\nclass = 0'),\n",
       " Text(189.7528815556865, 131.1035294117647, 'entropy = 0.0\\nsamples = 3\\nvalue = [0, 3]\\nclass = 1'),\n",
       " Text(190.3842074248674, 137.49882352941177, 'entropy = 0.0\\nsamples = 2\\nvalue = [2, 0]\\nclass = 0'),\n",
       " Text(190.3842074248674, 163.07999999999998, 'Total_Pages <= -0.284\\nentropy = 0.722\\nsamples = 5\\nvalue = [4, 1]\\nclass = 0'),\n",
       " Text(189.7528815556865, 156.68470588235294, 'entropy = 0.0\\nsamples = 4\\nvalue = [4, 0]\\nclass = 0'),\n",
       " Text(191.0155332940483, 156.68470588235294, 'entropy = 0.0\\nsamples = 1\\nvalue = [0, 1]\\nclass = 1'),\n",
       " Text(189.7528815556865, 175.87058823529412, 'entropy = 0.0\\nsamples = 17\\nvalue = [0, 17]\\nclass = 1'),\n",
       " Text(196.93421331761934, 188.66117647058823, 'Weekend_0 <= -0.624\\nentropy = 0.766\\nsamples = 269\\nvalue = [60, 209]\\nclass = 1'),\n",
       " Text(192.27818503241014, 182.26588235294116, 'Informational_Duration <= 0.835\\nentropy = 0.27\\nsamples = 65\\nvalue = [3, 62]\\nclass = 1'),\n",
       " Text(191.0155332940483, 175.87058823529412, 'ExitRates <= -0.211\\nentropy = 0.119\\nsamples = 62\\nvalue = [1, 61]\\nclass = 1'),\n",
       " Text(190.3842074248674, 169.47529411764705, 'entropy = 0.0\\nsamples = 61\\nvalue = [0, 61]\\nclass = 1'),\n",
       " Text(191.64685916322924, 169.47529411764705, 'entropy = 0.0\\nsamples = 1\\nvalue = [1, 0]\\nclass = 0'),\n",
       " Text(193.54083677077196, 175.87058823529412, 'Total_Duration <= -0.014\\nentropy = 0.918\\nsamples = 3\\nvalue = [2, 1]\\nclass = 0'),\n",
       " Text(192.90951090159103, 169.47529411764705, 'entropy = 0.0\\nsamples = 1\\nvalue = [0, 1]\\nclass = 1'),\n",
       " Text(194.17216263995286, 169.47529411764705, 'entropy = 0.0\\nsamples = 2\\nvalue = [2, 0]\\nclass = 0'),\n",
       " Text(201.5902416028285, 182.26588235294116, 'Total_Pages <= -0.177\\nentropy = 0.855\\nsamples = 204\\nvalue = [57, 147]\\nclass = 1'),\n",
       " Text(196.06614024749558, 175.87058823529412, 'PageValues <= 2.836\\nentropy = 0.557\\nsamples = 77\\nvalue = [10, 67]\\nclass = 1'),\n",
       " Text(195.43481437831468, 169.47529411764705, 'Total_Pages <= -0.476\\nentropy = 0.691\\nsamples = 54\\nvalue = [10, 44]\\nclass = 1'),\n",
       " Text(194.17216263995286, 163.07999999999998, 'TrafficType_4 <= 1.461\\nentropy = 0.996\\nsamples = 13\\nvalue = [6, 7]\\nclass = 1'),\n",
       " Text(193.54083677077196, 156.68470588235294, 'Region_1 <= 0.237\\nentropy = 0.971\\nsamples = 10\\nvalue = [6, 4]\\nclass = 0'),\n",
       " Text(192.90951090159103, 150.28941176470587, 'entropy = 0.0\\nsamples = 4\\nvalue = [4, 0]\\nclass = 0'),\n",
       " Text(194.17216263995286, 150.28941176470587, 'Browser_1 <= 0.744\\nentropy = 0.918\\nsamples = 6\\nvalue = [2, 4]\\nclass = 1'),\n",
       " Text(193.54083677077196, 143.8941176470588, 'entropy = 0.0\\nsamples = 4\\nvalue = [0, 4]\\nclass = 1'),\n",
       " Text(194.80348850913376, 143.8941176470588, 'entropy = 0.0\\nsamples = 2\\nvalue = [2, 0]\\nclass = 0'),\n",
       " Text(194.80348850913376, 156.68470588235294, 'entropy = 0.0\\nsamples = 3\\nvalue = [0, 3]\\nclass = 1'),\n",
       " Text(196.69746611667648, 163.07999999999998, 'ProductRelated_Duration <= -0.009\\nentropy = 0.461\\nsamples = 41\\nvalue = [4, 37]\\nclass = 1'),\n",
       " Text(196.06614024749558, 156.68470588235294, 'entropy = 0.0\\nsamples = 25\\nvalue = [0, 25]\\nclass = 1'),\n",
       " Text(197.3287919858574, 156.68470588235294, 'Total_Duration <= 0.035\\nentropy = 0.811\\nsamples = 16\\nvalue = [4, 12]\\nclass = 1'),\n",
       " Text(196.69746611667648, 150.28941176470587, 'entropy = 0.0\\nsamples = 2\\nvalue = [2, 0]\\nclass = 0'),\n",
       " Text(197.9601178550383, 150.28941176470587, 'Informational_Duration <= 1.811\\nentropy = 0.592\\nsamples = 14\\nvalue = [2, 12]\\nclass = 1'),\n",
       " Text(197.3287919858574, 143.8941176470588, 'Administrative <= 0.659\\nentropy = 0.391\\nsamples = 13\\nvalue = [1, 12]\\nclass = 1'),\n",
       " Text(196.69746611667648, 137.49882352941177, 'entropy = 0.0\\nsamples = 11\\nvalue = [0, 11]\\nclass = 1'),\n",
       " Text(197.9601178550383, 137.49882352941177, 'Month_Mar <= 0.957\\nentropy = 1.0\\nsamples = 2\\nvalue = [1, 1]\\nclass = 0'),\n",
       " Text(197.3287919858574, 131.1035294117647, 'entropy = 0.0\\nsamples = 1\\nvalue = [1, 0]\\nclass = 0'),\n",
       " Text(198.5914437242192, 131.1035294117647, 'entropy = 0.0\\nsamples = 1\\nvalue = [0, 1]\\nclass = 1'),\n",
       " Text(198.5914437242192, 143.8941176470588, 'entropy = 0.0\\nsamples = 1\\nvalue = [1, 0]\\nclass = 0'),\n",
       " Text(196.69746611667648, 169.47529411764705, 'entropy = 0.0\\nsamples = 23\\nvalue = [0, 23]\\nclass = 1'),\n",
       " Text(207.11434295816147, 175.87058823529412, 'PageValues <= 2.01\\nentropy = 0.951\\nsamples = 127\\nvalue = [47, 80]\\nclass = 1'),\n",
       " Text(203.64205067766648, 169.47529411764705, 'Region_6 <= 1.778\\nentropy = 1.0\\nsamples = 66\\nvalue = [33, 33]\\nclass = 0'),\n",
       " Text(203.01072480848558, 163.07999999999998, 'Administrative <= 3.382\\nentropy = 0.997\\nsamples = 62\\nvalue = [33, 29]\\nclass = 0'),\n",
       " Text(202.37939893930465, 156.68470588235294, 'Month_Mar <= 0.957\\nentropy = 0.986\\nsamples = 58\\nvalue = [33, 25]\\nclass = 0'),\n",
       " Text(201.74807307012375, 150.28941176470587, 'PageValues <= 1.909\\nentropy = 0.999\\nsamples = 52\\nvalue = [27, 25]\\nclass = 0'),\n",
       " Text(201.11674720094285, 143.8941176470588, 'ExitRates <= -0.521\\nentropy = 0.999\\nsamples = 48\\nvalue = [23, 25]\\nclass = 1'),\n",
       " Text(200.48542133176193, 137.49882352941177, 'SpecialDay <= 1.714\\nentropy = 0.991\\nsamples = 45\\nvalue = [20, 25]\\nclass = 1'),\n",
       " Text(199.85409546258103, 131.1035294117647, 'VisitorType_Returning_Visitor <= -1.008\\nentropy = 0.998\\nsamples = 42\\nvalue = [20, 22]\\nclass = 1'),\n",
       " Text(198.5914437242192, 124.70823529411764, 'ProductRelated_Duration <= -0.323\\nentropy = 0.779\\nsamples = 13\\nvalue = [3, 10]\\nclass = 1'),\n",
       " Text(197.9601178550383, 118.31294117647059, 'entropy = 0.0\\nsamples = 2\\nvalue = [2, 0]\\nclass = 0'),\n",
       " Text(199.22276959340013, 118.31294117647059, 'Month_Nov <= 0.606\\nentropy = 0.439\\nsamples = 11\\nvalue = [1, 10]\\nclass = 1'),\n",
       " Text(198.5914437242192, 111.91764705882352, 'entropy = 0.0\\nsamples = 10\\nvalue = [0, 10]\\nclass = 1'),\n",
       " Text(199.85409546258103, 111.91764705882352, 'entropy = 0.0\\nsamples = 1\\nvalue = [1, 0]\\nclass = 0'),\n",
       " Text(201.11674720094285, 124.70823529411764, 'PageValues <= 1.178\\nentropy = 0.978\\nsamples = 29\\nvalue = [17, 12]\\nclass = 0'),\n",
       " Text(200.48542133176193, 118.31294117647059, 'entropy = 0.0\\nsamples = 6\\nvalue = [6, 0]\\nclass = 0'),\n",
       " Text(201.74807307012375, 118.31294117647059, 'Browser_4 <= 1.866\\nentropy = 0.999\\nsamples = 23\\nvalue = [11, 12]\\nclass = 1'),\n",
       " Text(201.11674720094285, 111.91764705882352, 'Administrative_Duration <= 0.662\\nentropy = 0.982\\nsamples = 19\\nvalue = [11, 8]\\nclass = 0'),\n",
       " Text(199.85409546258103, 105.52235294117646, 'PageValues <= 1.685\\nentropy = 0.722\\nsamples = 10\\nvalue = [8, 2]\\nclass = 0'),\n",
       " Text(199.22276959340013, 99.12705882352941, 'entropy = 0.0\\nsamples = 6\\nvalue = [6, 0]\\nclass = 0'),\n",
       " ...]"
      ]
     },
     "execution_count": 107,
     "metadata": {},
     "output_type": "execute_result"
    },
    {
     "data": {
      "image/png": "[encoded data removed]",
      "text/plain": [
       "<Figure size 432x288 with 1 Axes>"
      ]
     },
     "metadata": {
      "needs_background": "light"
     },
     "output_type": "display_data"
    }
   ],
   "source": [
    "dtc = tree.DecisionTreeClassifier(criterion='entropy')\n",
    "\n",
    "dtc.fit(processed_train, y_train.to_numpy().reshape(-1,1))\n",
    "\n",
    "tree.plot_tree(dtc,\n",
    "             feature_names = processed_columns,\n",
    "             class_names = np.unique(y_train).astype('str'),\n",
    "             filled=True)"
   ]
  },
  {
   "cell_type": "code",
   "execution_count": 108,
   "metadata": {},
   "outputs": [
    {
     "name": "stdout",
     "output_type": "stream",
     "text": [
      "              precision    recall  f1-score   support\n",
      "\n",
      "     No Sale       1.00      1.00      1.00      8337\n",
      "        Sale       1.00      1.00      1.00      1527\n",
      "\n",
      "    accuracy                           1.00      9864\n",
      "   macro avg       1.00      1.00      1.00      9864\n",
      "weighted avg       1.00      1.00      1.00      9864\n",
      "\n",
      "              precision    recall  f1-score   support\n",
      "\n",
      "     No Sale       0.92      0.91      0.92      2085\n",
      "        Sale       0.55      0.58      0.57       381\n",
      "\n",
      "    accuracy                           0.86      2466\n",
      "   macro avg       0.74      0.75      0.74      2466\n",
      "weighted avg       0.87      0.86      0.86      2466\n",
      "\n"
     ]
    }
   ],
   "source": [
    "y_hat_train = dtc.predict(processed_train)\n",
    "y_hat_test = dtc.predict(processed_test)\n",
    "\n",
    "print(classification_report(y_train, y_hat_train, target_names=target_names))\n",
    "print(classification_report(y_test, y_hat_test, target_names=target_names))"
   ]
  },
  {
   "cell_type": "code",
   "execution_count": 113,
   "metadata": {},
   "outputs": [
    {
     "name": "stdout",
     "output_type": "stream",
     "text": [
      "              precision    recall  f1-score   support\n",
      "\n",
      "     No Sale       0.93      0.98      0.95      8337\n",
      "        Sale       0.82      0.59      0.68      1527\n",
      "\n",
      "    accuracy                           0.92      9864\n",
      "   macro avg       0.87      0.78      0.82      9864\n",
      "weighted avg       0.91      0.92      0.91      9864\n",
      "\n",
      "              precision    recall  f1-score   support\n",
      "\n",
      "     No Sale       0.93      0.95      0.94      2085\n",
      "        Sale       0.69      0.59      0.64       381\n",
      "\n",
      "    accuracy                           0.90      2466\n",
      "   macro avg       0.81      0.77      0.79      2466\n",
      "weighted avg       0.89      0.90      0.89      2466\n",
      "\n"
     ]
    }
   ],
   "source": [
    "y_hat_train = dtc.predict(processed_train)\n",
    "y_hat_test = dtc.predict(processed_test)\n",
    "\n",
    "print(classification_report(y_train, y_hat_train, target_names=target_names))\n",
    "print(classification_report(y_test, y_hat_test, target_names=target_names))"
   ]
  },
  {
   "cell_type": "code",
   "execution_count": 112,
   "metadata": {
    "scrolled": true
   },
   "outputs": [
    {
     "data": {
      "text/plain": [
       "[Text(143.49609375, 203.85, 'PageValues <= -0.266\\nentropy = 0.622\\nsamples = 9864\\nvalue = [8337, 1527]\\nclass = 0'),\n",
       " Text(56.526562500000004, 176.67000000000002, 'Month_Nov <= 0.606\\nentropy = 0.247\\nsamples = 7745\\nvalue = [7428, 317]\\nclass = 0'),\n",
       " Text(29.062500000000004, 149.49, 'Month_May <= 0.508\\nentropy = 0.138\\nsamples = 5952\\nvalue = [5837, 115]\\nclass = 0'),\n",
       " Text(26.7375, 122.31, 'Month_Mar <= 0.957\\nentropy = 0.194\\nsamples = 3855\\nvalue = [3740, 115]\\nclass = 0'),\n",
       " Text(18.6, 95.13, 'Administrative_Duration <= -0.451\\nentropy = 0.262\\nsamples = 2571\\nvalue = [2457, 114]\\nclass = 0'),\n",
       " Text(9.3, 67.94999999999999, 'Informational_Duration <= -0.2\\nentropy = 0.09\\nsamples = 1224\\nvalue = [1210, 14]\\nclass = 0'),\n",
       " Text(4.65, 40.77000000000001, 'Browser_5 <= 2.366\\nentropy = 0.054\\nsamples = 1142\\nvalue = [1135, 7]\\nclass = 0'),\n",
       " Text(2.325, 13.590000000000003, 'entropy = 0.042\\nsamples = 1098\\nvalue = [1093, 5]\\nclass = 0'),\n",
       " Text(6.9750000000000005, 13.590000000000003, 'entropy = 0.267\\nsamples = 44\\nvalue = [42, 2]\\nclass = 0'),\n",
       " Text(13.950000000000001, 40.77000000000001, 'VisitorType_New_Visitor <= 1.049\\nentropy = 0.421\\nsamples = 82\\nvalue = [75, 7]\\nclass = 0'),\n",
       " Text(11.625, 13.590000000000003, 'entropy = 0.245\\nsamples = 74\\nvalue = [71, 3]\\nclass = 0'),\n",
       " Text(16.275000000000002, 13.590000000000003, 'entropy = 1.0\\nsamples = 8\\nvalue = [4, 4]\\nclass = 0'),\n",
       " Text(27.900000000000002, 67.94999999999999, 'Total_Duration <= -0.585\\nentropy = 0.382\\nsamples = 1347\\nvalue = [1247, 100]\\nclass = 0'),\n",
       " Text(23.25, 40.77000000000001, 'Month_Sep <= 2.46\\nentropy = 0.902\\nsamples = 63\\nvalue = [43, 20]\\nclass = 0'),\n",
       " Text(20.925, 13.590000000000003, 'entropy = 0.768\\nsamples = 49\\nvalue = [38, 11]\\nclass = 0'),\n",
       " Text(25.575000000000003, 13.590000000000003, 'entropy = 0.94\\nsamples = 14\\nvalue = [5, 9]\\nclass = 1'),\n",
       " Text(32.550000000000004, 40.77000000000001, 'PageValues <= -0.314\\nentropy = 0.337\\nsamples = 1284\\nvalue = [1204, 80]\\nclass = 0'),\n",
       " Text(30.225, 13.590000000000003, 'entropy = 0.323\\nsamples = 1255\\nvalue = [1181, 74]\\nclass = 0'),\n",
       " Text(34.875, 13.590000000000003, 'entropy = 0.736\\nsamples = 29\\nvalue = [23, 6]\\nclass = 0'),\n",
       " Text(34.875, 95.13, 'PageValues <= -0.314\\nentropy = 0.009\\nsamples = 1284\\nvalue = [1283, 1]\\nclass = 0'),\n",
       " Text(32.550000000000004, 67.94999999999999, 'entropy = 0.0\\nsamples = 1283\\nvalue = [1283, 0]\\nclass = 0'),\n",
       " Text(37.2, 67.94999999999999, 'entropy = 0.0\\nsamples = 1\\nvalue = [0, 1]\\nclass = 1'),\n",
       " Text(31.387500000000003, 122.31, 'entropy = 0.0\\nsamples = 2097\\nvalue = [2097, 0]\\nclass = 0'),\n",
       " Text(83.99062500000001, 149.49, 'ProductRelated <= 0.457\\nentropy = 0.508\\nsamples = 1793\\nvalue = [1591, 202]\\nclass = 0'),\n",
       " Text(65.10000000000001, 122.31, 'ExitRates <= 1.824\\nentropy = 0.411\\nsamples = 1418\\nvalue = [1301, 117]\\nclass = 0'),\n",
       " Text(55.800000000000004, 95.13, 'ProductRelated_Duration <= -0.6\\nentropy = 0.44\\nsamples = 1272\\nvalue = [1156, 116]\\nclass = 0'),\n",
       " Text(46.5, 67.94999999999999, 'Administrative_Duration <= -0.347\\nentropy = 0.872\\nsamples = 41\\nvalue = [29, 12]\\nclass = 0'),\n",
       " Text(41.85, 40.77000000000001, 'Browser_4 <= 1.866\\nentropy = 0.276\\nsamples = 21\\nvalue = [20, 1]\\nclass = 0'),\n",
       " Text(39.525000000000006, 13.590000000000003, 'entropy = 0.0\\nsamples = 18\\nvalue = [18, 0]\\nclass = 0'),\n",
       " Text(44.175000000000004, 13.590000000000003, 'entropy = 0.918\\nsamples = 3\\nvalue = [2, 1]\\nclass = 0'),\n",
       " Text(51.150000000000006, 40.77000000000001, 'ProductRelated <= -0.68\\nentropy = 0.993\\nsamples = 20\\nvalue = [9, 11]\\nclass = 1'),\n",
       " Text(48.825, 13.590000000000003, 'entropy = 0.0\\nsamples = 5\\nvalue = [0, 5]\\nclass = 1'),\n",
       " Text(53.475, 13.590000000000003, 'entropy = 0.971\\nsamples = 15\\nvalue = [9, 6]\\nclass = 0'),\n",
       " Text(65.10000000000001, 67.94999999999999, 'ProductRelated <= -0.434\\nentropy = 0.418\\nsamples = 1231\\nvalue = [1127, 104]\\nclass = 0'),\n",
       " Text(60.45, 40.77000000000001, 'ProductRelated_Duration <= -0.394\\nentropy = 0.314\\nsamples = 513\\nvalue = [484, 29]\\nclass = 0'),\n",
       " Text(58.12500000000001, 13.590000000000003, 'entropy = 0.357\\nsamples = 414\\nvalue = [386, 28]\\nclass = 0'),\n",
       " Text(62.775000000000006, 13.590000000000003, 'entropy = 0.081\\nsamples = 99\\nvalue = [98, 1]\\nclass = 0'),\n",
       " Text(69.75, 40.77000000000001, 'TrafficType_3 <= 0.895\\nentropy = 0.483\\nsamples = 718\\nvalue = [643, 75]\\nclass = 0'),\n",
       " Text(67.42500000000001, 13.590000000000003, 'entropy = 0.517\\nsamples = 622\\nvalue = [550, 72]\\nclass = 0'),\n",
       " Text(72.075, 13.590000000000003, 'entropy = 0.201\\nsamples = 96\\nvalue = [93, 3]\\nclass = 0'),\n",
       " Text(74.4, 95.13, 'TrafficType_11 <= 3.377\\nentropy = 0.059\\nsamples = 146\\nvalue = [145, 1]\\nclass = 0'),\n",
       " Text(72.075, 67.94999999999999, 'entropy = 0.0\\nsamples = 140\\nvalue = [140, 0]\\nclass = 0'),\n",
       " Text(76.72500000000001, 67.94999999999999, 'Total_Pages <= -0.7\\nentropy = 0.65\\nsamples = 6\\nvalue = [5, 1]\\nclass = 0'),\n",
       " Text(74.4, 40.77000000000001, 'entropy = 0.0\\nsamples = 5\\nvalue = [5, 0]\\nclass = 0'),\n",
       " Text(79.05000000000001, 40.77000000000001, 'entropy = 0.0\\nsamples = 1\\nvalue = [0, 1]\\nclass = 1'),\n",
       " Text(102.88125000000001, 122.31, 'ProductRelated_Duration <= 0.669\\nentropy = 0.772\\nsamples = 375\\nvalue = [290, 85]\\nclass = 0'),\n",
       " Text(90.67500000000001, 95.13, 'BounceRates <= -0.253\\nentropy = 0.541\\nsamples = 121\\nvalue = [106, 15]\\nclass = 0'),\n",
       " Text(88.35000000000001, 67.94999999999999, 'Total_Pages <= 0.591\\nentropy = 0.637\\nsamples = 93\\nvalue = [78, 15]\\nclass = 0'),\n",
       " Text(83.7, 40.77000000000001, 'ExitRates <= -0.23\\nentropy = 0.894\\nsamples = 29\\nvalue = [20, 9]\\nclass = 0'),\n",
       " Text(81.375, 13.590000000000003, 'entropy = 0.826\\nsamples = 27\\nvalue = [20, 7]\\nclass = 0'),\n",
       " Text(86.025, 13.590000000000003, 'entropy = 0.0\\nsamples = 2\\nvalue = [0, 2]\\nclass = 1'),\n",
       " Text(93.0, 40.77000000000001, 'ExitRates <= -0.665\\nentropy = 0.449\\nsamples = 64\\nvalue = [58, 6]\\nclass = 0'),\n",
       " Text(90.67500000000001, 13.590000000000003, 'entropy = 0.0\\nsamples = 21\\nvalue = [21, 0]\\nclass = 0'),\n",
       " Text(95.325, 13.590000000000003, 'entropy = 0.583\\nsamples = 43\\nvalue = [37, 6]\\nclass = 0'),\n",
       " Text(93.0, 67.94999999999999, 'entropy = 0.0\\nsamples = 28\\nvalue = [28, 0]\\nclass = 0'),\n",
       " Text(115.0875, 95.13, 'Administrative <= 2.172\\nentropy = 0.849\\nsamples = 254\\nvalue = [184, 70]\\nclass = 0'),\n",
       " Text(106.95, 67.94999999999999, 'Administrative_Duration <= 0.189\\nentropy = 0.813\\nsamples = 235\\nvalue = [176, 59]\\nclass = 0'),\n",
       " Text(102.30000000000001, 40.77000000000001, 'Informational_Duration <= 3.296\\nentropy = 0.876\\nsamples = 176\\nvalue = [124, 52]\\nclass = 0'),\n",
       " Text(99.97500000000001, 13.590000000000003, 'entropy = 0.895\\nsamples = 167\\nvalue = [115, 52]\\nclass = 0'),\n",
       " Text(104.62500000000001, 13.590000000000003, 'entropy = 0.0\\nsamples = 9\\nvalue = [9, 0]\\nclass = 0'),\n",
       " Text(111.60000000000001, 40.77000000000001, 'PageValues <= -0.292\\nentropy = 0.525\\nsamples = 59\\nvalue = [52, 7]\\nclass = 0'),\n",
       " Text(109.275, 13.590000000000003, 'entropy = 0.48\\nsamples = 58\\nvalue = [52, 6]\\nclass = 0'),\n",
       " Text(113.92500000000001, 13.590000000000003, 'entropy = 0.0\\nsamples = 1\\nvalue = [0, 1]\\nclass = 1'),\n",
       " Text(123.22500000000001, 67.94999999999999, 'ProductRelated_Duration <= 2.983\\nentropy = 0.982\\nsamples = 19\\nvalue = [8, 11]\\nclass = 1'),\n",
       " Text(120.9, 40.77000000000001, 'Informational_Duration <= 0.424\\nentropy = 0.896\\nsamples = 16\\nvalue = [5, 11]\\nclass = 1'),\n",
       " Text(118.575, 13.590000000000003, 'entropy = 0.469\\nsamples = 10\\nvalue = [1, 9]\\nclass = 1'),\n",
       " Text(123.22500000000001, 13.590000000000003, 'entropy = 0.918\\nsamples = 6\\nvalue = [4, 2]\\nclass = 0'),\n",
       " Text(125.55000000000001, 40.77000000000001, 'entropy = 0.0\\nsamples = 3\\nvalue = [3, 0]\\nclass = 0'),\n",
       " Text(230.46562500000002, 176.67000000000002, 'BounceRates <= -0.448\\nentropy = 0.985\\nsamples = 2119\\nvalue = [909, 1210]\\nclass = 1'),\n",
       " Text(176.99062500000002, 149.49, 'PageValues <= 0.907\\nentropy = 0.819\\nsamples = 945\\nvalue = [241, 704]\\nclass = 1'),\n",
       " Text(152.86875, 122.31, 'Administrative <= 0.659\\nentropy = 0.98\\nsamples = 400\\nvalue = [167, 233]\\nclass = 1'),\n",
       " Text(139.5, 95.13, 'VisitorType_Returning_Visitor <= -1.008\\nentropy = 0.871\\nsamples = 240\\nvalue = [70, 170]\\nclass = 1'),\n",
       " Text(132.525, 67.94999999999999, 'ExitRates <= -0.839\\nentropy = 0.25\\nsamples = 48\\nvalue = [2, 46]\\nclass = 1'),\n",
       " Text(130.20000000000002, 40.77000000000001, 'entropy = 0.0\\nsamples = 1\\nvalue = [1, 0]\\nclass = 0'),\n",
       " Text(134.85000000000002, 40.77000000000001, 'Administrative_Duration <= 0.41\\nentropy = 0.149\\nsamples = 47\\nvalue = [1, 46]\\nclass = 1'),\n",
       " Text(132.525, 13.590000000000003, 'entropy = 0.0\\nsamples = 44\\nvalue = [0, 44]\\nclass = 1'),\n",
       " Text(137.175, 13.590000000000003, 'entropy = 0.918\\nsamples = 3\\nvalue = [1, 2]\\nclass = 1'),\n",
       " Text(146.47500000000002, 67.94999999999999, 'Browser_6 <= 4.154\\nentropy = 0.938\\nsamples = 192\\nvalue = [68, 124]\\nclass = 1'),\n",
       " Text(144.15, 40.77000000000001, 'ProductRelated <= 1.182\\nentropy = 0.918\\nsamples = 186\\nvalue = [62, 124]\\nclass = 1'),\n",
       " Text(141.82500000000002, 13.590000000000003, 'entropy = 0.885\\nsamples = 175\\nvalue = [53, 122]\\nclass = 1'),\n",
       " Text(146.47500000000002, 13.590000000000003, 'entropy = 0.684\\nsamples = 11\\nvalue = [9, 2]\\nclass = 0'),\n",
       " Text(148.8, 40.77000000000001, 'entropy = 0.0\\nsamples = 6\\nvalue = [6, 0]\\nclass = 0'),\n",
       " Text(166.2375, 95.13, 'TrafficType_4 <= 1.461\\nentropy = 0.967\\nsamples = 160\\nvalue = [97, 63]\\nclass = 0'),\n",
       " Text(158.10000000000002, 67.94999999999999, 'Administrative_Duration <= 0.754\\nentropy = 0.986\\nsamples = 142\\nvalue = [81, 61]\\nclass = 0'),\n",
       " Text(153.45000000000002, 40.77000000000001, 'ExitRates <= -0.409\\nentropy = 0.914\\nsamples = 85\\nvalue = [57, 28]\\nclass = 0'),\n",
       " Text(151.125, 13.590000000000003, 'entropy = 0.953\\nsamples = 75\\nvalue = [47, 28]\\nclass = 0'),\n",
       " Text(155.775, 13.590000000000003, 'entropy = 0.0\\nsamples = 10\\nvalue = [10, 0]\\nclass = 0'),\n",
       " Text(162.75, 40.77000000000001, 'Administrative <= 0.962\\nentropy = 0.982\\nsamples = 57\\nvalue = [24, 33]\\nclass = 1'),\n",
       " Text(160.425, 13.590000000000003, 'entropy = 0.0\\nsamples = 7\\nvalue = [0, 7]\\nclass = 1'),\n",
       " Text(165.07500000000002, 13.590000000000003, 'entropy = 0.999\\nsamples = 50\\nvalue = [24, 26]\\nclass = 1'),\n",
       " Text(174.375, 67.94999999999999, 'OperatingSystems_3 <= 0.725\\nentropy = 0.503\\nsamples = 18\\nvalue = [16, 2]\\nclass = 0'),\n",
       " Text(172.05, 40.77000000000001, 'Total_Pages <= -0.092\\nentropy = 0.323\\nsamples = 17\\nvalue = [16, 1]\\nclass = 0'),\n",
       " Text(169.72500000000002, 13.590000000000003, 'entropy = 1.0\\nsamples = 2\\nvalue = [1, 1]\\nclass = 0'),\n",
       " Text(174.375, 13.590000000000003, 'entropy = 0.0\\nsamples = 15\\nvalue = [15, 0]\\nclass = 0'),\n",
       " Text(176.70000000000002, 40.77000000000001, 'entropy = 0.0\\nsamples = 1\\nvalue = [0, 1]\\nclass = 1'),\n",
       " Text(201.1125, 122.31, 'Administrative <= -0.248\\nentropy = 0.573\\nsamples = 545\\nvalue = [74, 471]\\nclass = 1'),\n",
       " Text(188.32500000000002, 95.13, 'Region_3 <= 0.776\\nentropy = 0.289\\nsamples = 276\\nvalue = [14, 262]\\nclass = 1'),\n",
       " Text(183.675, 67.94999999999999, 'VisitorType_New_Visitor <= 1.049\\nentropy = 0.178\\nsamples = 224\\nvalue = [6, 218]\\nclass = 1'),\n",
       " Text(181.35000000000002, 40.77000000000001, 'Administrative_Duration <= -0.048\\nentropy = 0.299\\nsamples = 113\\nvalue = [6, 107]\\nclass = 1'),\n",
       " Text(179.025, 13.590000000000003, 'entropy = 0.23\\nsamples = 107\\nvalue = [4, 103]\\nclass = 1'),\n",
       " Text(183.675, 13.590000000000003, 'entropy = 0.918\\nsamples = 6\\nvalue = [2, 4]\\nclass = 1'),\n",
       " Text(186.0, 40.77000000000001, 'entropy = 0.0\\nsamples = 111\\nvalue = [0, 111]\\nclass = 1'),\n",
       " Text(192.97500000000002, 67.94999999999999, 'PageValues <= 2.69\\nentropy = 0.619\\nsamples = 52\\nvalue = [8, 44]\\nclass = 1'),\n",
       " Text(190.65, 40.77000000000001, 'Total_Pages <= -0.476\\nentropy = 0.776\\nsamples = 35\\nvalue = [8, 27]\\nclass = 1'),\n",
       " Text(188.32500000000002, 13.590000000000003, 'entropy = 0.0\\nsamples = 11\\nvalue = [0, 11]\\nclass = 1'),\n",
       " Text(192.97500000000002, 13.590000000000003, 'entropy = 0.918\\nsamples = 24\\nvalue = [8, 16]\\nclass = 1'),\n",
       " Text(195.3, 40.77000000000001, 'entropy = 0.0\\nsamples = 17\\nvalue = [0, 17]\\nclass = 1'),\n",
       " Text(213.9, 95.13, 'Weekend_1 <= 0.624\\nentropy = 0.766\\nsamples = 269\\nvalue = [60, 209]\\nclass = 1'),\n",
       " Text(204.60000000000002, 67.94999999999999, 'Total_Pages <= -0.177\\nentropy = 0.855\\nsamples = 204\\nvalue = [57, 147]\\nclass = 1'),\n",
       " Text(199.95000000000002, 40.77000000000001, 'PageValues <= 2.836\\nentropy = 0.557\\nsamples = 77\\nvalue = [10, 67]\\nclass = 1'),\n",
       " Text(197.62500000000003, 13.590000000000003, 'entropy = 0.691\\nsamples = 54\\nvalue = [10, 44]\\nclass = 1'),\n",
       " Text(202.275, 13.590000000000003, 'entropy = 0.0\\nsamples = 23\\nvalue = [0, 23]\\nclass = 1'),\n",
       " Text(209.25000000000003, 40.77000000000001, 'PageValues <= 2.01\\nentropy = 0.951\\nsamples = 127\\nvalue = [47, 80]\\nclass = 1'),\n",
       " Text(206.925, 13.590000000000003, 'entropy = 1.0\\nsamples = 66\\nvalue = [33, 33]\\nclass = 0'),\n",
       " Text(211.57500000000002, 13.590000000000003, 'entropy = 0.777\\nsamples = 61\\nvalue = [14, 47]\\nclass = 1'),\n",
       " Text(223.20000000000002, 67.94999999999999, 'Informational_Duration <= 0.835\\nentropy = 0.27\\nsamples = 65\\nvalue = [3, 62]\\nclass = 1'),\n",
       " Text(218.55, 40.77000000000001, 'Total_Pages <= -0.593\\nentropy = 0.119\\nsamples = 62\\nvalue = [1, 61]\\nclass = 1'),\n",
       " Text(216.22500000000002, 13.590000000000003, 'entropy = 0.0\\nsamples = 1\\nvalue = [1, 0]\\nclass = 0'),\n",
       " Text(220.87500000000003, 13.590000000000003, 'entropy = 0.0\\nsamples = 61\\nvalue = [0, 61]\\nclass = 1'),\n",
       " Text(227.85000000000002, 40.77000000000001, 'Month_May <= 0.508\\nentropy = 0.918\\nsamples = 3\\nvalue = [2, 1]\\nclass = 0'),\n",
       " Text(225.525, 13.590000000000003, 'entropy = 0.0\\nsamples = 2\\nvalue = [2, 0]\\nclass = 0'),\n",
       " Text(230.175, 13.590000000000003, 'entropy = 0.0\\nsamples = 1\\nvalue = [0, 1]\\nclass = 1'),\n",
       " Text(283.940625, 149.49, 'Month_Nov <= 0.606\\nentropy = 0.986\\nsamples = 1174\\nvalue = [668, 506]\\nclass = 0'),\n",
       " Text(259.2375, 122.31, 'ProductRelated_Duration <= 0.013\\nentropy = 0.945\\nsamples = 807\\nvalue = [514, 293]\\nclass = 0'),\n",
       " Text(242.9625, 95.13, 'ExitRates <= -0.664\\nentropy = 0.998\\nsamples = 286\\nvalue = [135, 151]\\nclass = 1'),\n",
       " Text(234.82500000000002, 67.94999999999999, 'PageValues <= 0.066\\nentropy = 0.503\\nsamples = 18\\nvalue = [2, 16]\\nclass = 1'),\n",
       " Text(232.50000000000003, 40.77000000000001, 'entropy = 0.0\\nsamples = 1\\nvalue = [1, 0]\\nclass = 0'),\n",
       " Text(237.15, 40.77000000000001, 'Month_Oct <= 2.183\\nentropy = 0.323\\nsamples = 17\\nvalue = [1, 16]\\nclass = 1'),\n",
       " Text(234.82500000000002, 13.590000000000003, 'entropy = 0.0\\nsamples = 15\\nvalue = [0, 15]\\nclass = 1'),\n",
       " Text(239.47500000000002, 13.590000000000003, 'entropy = 1.0\\nsamples = 2\\nvalue = [1, 1]\\nclass = 0'),\n",
       " Text(251.10000000000002, 67.94999999999999, 'Administrative <= -0.248\\nentropy = 1.0\\nsamples = 268\\nvalue = [133, 135]\\nclass = 1'),\n",
       " Text(246.45000000000002, 40.77000000000001, 'VisitorType_New_Visitor <= 1.049\\nentropy = 0.941\\nsamples = 95\\nvalue = [34, 61]\\nclass = 1'),\n",
       " Text(244.12500000000003, 13.590000000000003, 'entropy = 0.962\\nsamples = 88\\nvalue = [34, 54]\\nclass = 1'),\n",
       " Text(248.775, 13.590000000000003, 'entropy = 0.0\\nsamples = 7\\nvalue = [0, 7]\\nclass = 1'),\n",
       " Text(255.75000000000003, 40.77000000000001, 'Browser_5 <= 2.366\\nentropy = 0.985\\nsamples = 173\\nvalue = [99, 74]\\nclass = 0'),\n",
       " Text(253.425, 13.590000000000003, 'entropy = 0.991\\nsamples = 167\\nvalue = [93, 74]\\nclass = 0'),\n",
       " Text(258.07500000000005, 13.590000000000003, 'entropy = 0.0\\nsamples = 6\\nvalue = [6, 0]\\nclass = 0'),\n",
       " Text(275.51250000000005, 95.13, 'Month_Mar <= 0.957\\nentropy = 0.845\\nsamples = 521\\nvalue = [379, 142]\\nclass = 0'),\n",
       " Text(269.70000000000005, 67.94999999999999, 'PageValues <= 0.263\\nentropy = 0.791\\nsamples = 450\\nvalue = [343, 107]\\nclass = 0'),\n",
       " Text(265.05, 40.77000000000001, 'TrafficType_13 <= 1.86\\nentropy = 0.653\\nsamples = 250\\nvalue = [208, 42]\\nclass = 0'),\n",
       " Text(262.725, 13.590000000000003, 'entropy = 0.687\\nsamples = 229\\nvalue = [187, 42]\\nclass = 0'),\n",
       " Text(267.375, 13.590000000000003, 'entropy = 0.0\\nsamples = 21\\nvalue = [21, 0]\\nclass = 0'),\n",
       " Text(274.35, 40.77000000000001, 'ProductRelated <= -0.334\\nentropy = 0.91\\nsamples = 200\\nvalue = [135, 65]\\nclass = 0'),\n",
       " Text(272.02500000000003, 13.590000000000003, 'entropy = 0.0\\nsamples = 7\\nvalue = [7, 0]\\nclass = 0'),\n",
       " Text(276.675, 13.590000000000003, 'entropy = 0.922\\nsamples = 193\\nvalue = [128, 65]\\nclass = 0'),\n",
       " Text(281.32500000000005, 67.94999999999999, 'ProductRelated <= -0.189\\nentropy = 1.0\\nsamples = 71\\nvalue = [36, 35]\\nclass = 0'),\n",
       " Text(279.0, 40.77000000000001, 'entropy = 0.0\\nsamples = 5\\nvalue = [0, 5]\\nclass = 1'),\n",
       " Text(283.65000000000003, 40.77000000000001, 'BounceRates <= -0.437\\nentropy = 0.994\\nsamples = 66\\nvalue = [36, 30]\\nclass = 0'),\n",
       " Text(281.32500000000005, 13.590000000000003, 'entropy = 0.0\\nsamples = 4\\nvalue = [4, 0]\\nclass = 0'),\n",
       " Text(285.975, 13.590000000000003, 'entropy = 0.999\\nsamples = 62\\nvalue = [32, 30]\\nclass = 0'),\n",
       " Text(308.64375, 122.31, 'ExitRates <= -0.461\\nentropy = 0.981\\nsamples = 367\\nvalue = [154, 213]\\nclass = 1'),\n",
       " Text(295.27500000000003, 95.13, 'BounceRates <= -0.444\\nentropy = 0.897\\nsamples = 198\\nvalue = [62, 136]\\nclass = 1'),\n",
       " Text(292.95000000000005, 67.94999999999999, 'entropy = 0.0\\nsamples = 4\\nvalue = [4, 0]\\nclass = 0'),\n",
       " Text(297.6, 67.94999999999999, 'Weekend_1 <= 0.624\\nentropy = 0.88\\nsamples = 194\\nvalue = [58, 136]\\nclass = 1'),\n",
       " Text(292.95000000000005, 40.77000000000001, 'BounceRates <= -0.316\\nentropy = 0.771\\nsamples = 137\\nvalue = [31, 106]\\nclass = 1'),\n",
       " Text(290.625, 13.590000000000003, 'entropy = 0.67\\nsamples = 114\\nvalue = [20, 94]\\nclass = 1'),\n",
       " Text(295.27500000000003, 13.590000000000003, 'entropy = 0.999\\nsamples = 23\\nvalue = [11, 12]\\nclass = 1'),\n",
       " Text(302.25, 40.77000000000001, 'Total_Pages <= 1.06\\nentropy = 0.998\\nsamples = 57\\nvalue = [27, 30]\\nclass = 1'),\n",
       " Text(299.925, 13.590000000000003, 'entropy = 0.811\\nsamples = 24\\nvalue = [6, 18]\\nclass = 1'),\n",
       " Text(304.57500000000005, 13.590000000000003, 'entropy = 0.946\\nsamples = 33\\nvalue = [21, 12]\\nclass = 0'),\n",
       " Text(322.01250000000005, 95.13, 'ProductRelated_Duration <= 1.73\\nentropy = 0.994\\nsamples = 169\\nvalue = [92, 77]\\nclass = 0'),\n",
       " Text(316.20000000000005, 67.94999999999999, 'Administrative_Duration <= 0.561\\nentropy = 0.965\\nsamples = 136\\nvalue = [83, 53]\\nclass = 0'),\n",
       " Text(311.55, 40.77000000000001, 'Administrative <= 1.567\\nentropy = 0.997\\nsamples = 94\\nvalue = [50, 44]\\nclass = 0'),\n",
       " Text(309.225, 13.590000000000003, 'entropy = 1.0\\nsamples = 89\\nvalue = [45, 44]\\nclass = 0'),\n",
       " Text(313.875, 13.590000000000003, 'entropy = 0.0\\nsamples = 5\\nvalue = [5, 0]\\nclass = 0'),\n",
       " Text(320.85, 40.77000000000001, 'Total_Duration <= -0.106\\nentropy = 0.75\\nsamples = 42\\nvalue = [33, 9]\\nclass = 0'),\n",
       " Text(318.52500000000003, 13.590000000000003, 'entropy = 0.0\\nsamples = 2\\nvalue = [0, 2]\\nclass = 1'),\n",
       " Text(323.175, 13.590000000000003, 'entropy = 0.669\\nsamples = 40\\nvalue = [33, 7]\\nclass = 0'),\n",
       " Text(327.82500000000005, 67.94999999999999, 'Administrative <= 0.659\\nentropy = 0.845\\nsamples = 33\\nvalue = [9, 24]\\nclass = 1'),\n",
       " Text(325.5, 40.77000000000001, 'entropy = 0.0\\nsamples = 8\\nvalue = [0, 8]\\nclass = 1'),\n",
       " Text(330.15000000000003, 40.77000000000001, 'PageValues <= 0.41\\nentropy = 0.943\\nsamples = 25\\nvalue = [9, 16]\\nclass = 1'),\n",
       " Text(327.82500000000005, 13.590000000000003, 'entropy = 0.845\\nsamples = 22\\nvalue = [6, 16]\\nclass = 1'),\n",
       " Text(332.475, 13.590000000000003, 'entropy = 0.0\\nsamples = 3\\nvalue = [3, 0]\\nclass = 0')]"
      ]
     },
     "execution_count": 112,
     "metadata": {},
     "output_type": "execute_result"
    },
    {
     "data": {
      "image/png": "[encoded data removed]",
      "text/plain": [
       "<Figure size 432x288 with 1 Axes>"
      ]
     },
     "metadata": {
      "needs_background": "light"
     },
     "output_type": "display_data"
    }
   ],
   "source": [
    "dtc = tree.DecisionTreeClassifier(criterion='entropy', max_depth = 5)\n",
    "\n",
    "dtc.fit(X_train_resampled, y_train_resampled)\n",
    "\n",
    "tree.plot_tree(dtc,\n",
    "             feature_names = processed_columns,\n",
    "             class_names = np.unique(y_train).astype('str'),\n",
    "             filled=True)"
   ]
  },
  {
   "cell_type": "code",
   "execution_count": 116,
   "metadata": {},
   "outputs": [
    {
     "name": "stdout",
     "output_type": "stream",
     "text": [
      "              precision    recall  f1-score   support\n",
      "\n",
      "     No Sale       0.69      0.98      0.81      8337\n",
      "        Sale       0.96      0.56      0.71      8337\n",
      "\n",
      "    accuracy                           0.77     16674\n",
      "   macro avg       0.82      0.77      0.76     16674\n",
      "weighted avg       0.82      0.77      0.76     16674\n",
      "\n",
      "              precision    recall  f1-score   support\n",
      "\n",
      "     No Sale       0.93      0.95      0.94      2085\n",
      "        Sale       0.70      0.59      0.64       381\n",
      "\n",
      "    accuracy                           0.90      2466\n",
      "   macro avg       0.81      0.77      0.79      2466\n",
      "weighted avg       0.89      0.90      0.89      2466\n",
      "\n"
     ]
    }
   ],
   "source": [
    "y_hat_train = dtc.predict(X_train_resampled)\n",
    "y_hat_test = dtc.predict(processed_test)\n",
    "\n",
    "print(classification_report(y_train_resampled, y_hat_train, target_names=target_names))\n",
    "print(classification_report(y_test, y_hat_test, target_names=target_names))"
   ]
  },
  {
   "cell_type": "code",
   "execution_count": null,
   "metadata": {},
   "outputs": [],
   "source": [
    "\\\n",
    "\n"
   ]
  }
 ],
 "metadata": {
  "kernelspec": {
   "display_name": "learn-env",
   "language": "python",
   "name": "learn-env"
  },
  "language_info": {
   "codemirror_mode": {
    "name": "ipython",
    "version": 3
   },
   "file_extension": ".py",
   "mimetype": "text/x-python",
   "name": "python",
   "nbconvert_exporter": "python",
   "pygments_lexer": "ipython3",
   "version": "3.8.5"
  },
  "toc": {
   "base_numbering": 1,
   "nav_menu": {},
   "number_sections": true,
   "sideBar": true,
   "skip_h1_title": true,
   "title_cell": "Table of Contents",
   "title_sidebar": "Contents",
   "toc_cell": false,
   "toc_position": {
    "height": "calc(100% - 180px)",
    "left": "10px",
    "top": "150px",
    "width": "165px"
   },
   "toc_section_display": true,
   "toc_window_display": true
  },
  "varInspector": {
   "cols": {
    "lenName": 16,
    "lenType": 16,
    "lenVar": 40
   },
   "kernels_config": {
    "python": {
     "delete_cmd_postfix": "",
     "delete_cmd_prefix": "del ",
     "library": "var_list.py",
     "varRefreshCmd": "print(var_dic_list())"
    },
    "r": {
     "delete_cmd_postfix": ") ",
     "delete_cmd_prefix": "rm(",
     "library": "var_list.r",
     "varRefreshCmd": "cat(var_dic_list()) "
    }
   },
   "types_to_exclude": [
    "module",
    "function",
    "builtin_function_or_method",
    "instance",
    "_Feature"
   ],
   "window_display": false
  }
 },
 "nbformat": 4,
 "nbformat_minor": 4
}
